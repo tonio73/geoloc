{
 "cells": [
  {
   "cell_type": "markdown",
   "metadata": {},
   "source": [
    "# TP geo-localisation"
   ]
  },
  {
   "cell_type": "code",
   "execution_count": null,
   "metadata": {},
   "outputs": [],
   "source": [
    "%matplotlib inline\n",
    "import numpy as np\n",
    "import pandas as pd\n",
    "import matplotlib.pyplot as plt\n",
    "\n",
    "from geopy.distance import geodesic\n",
    "\n",
    "import cartopy.crs as ccrs\n",
    "import cartopy.feature as cfeature\n",
    "from cartopy.mpl.gridliner import LATITUDE_FORMATTER, LONGITUDE_FORMATTER"
   ]
  },
  {
   "cell_type": "code",
   "execution_count": null,
   "metadata": {},
   "outputs": [],
   "source": [
    "# load train and test data\n",
    "\n",
    "# train set\n",
    "df_mess_train = pd.read_csv('mess_train_list.csv')\n",
    "\n",
    "# test set\n",
    "df_mess_test = pd.read_csv('mess_test_list.csv')\n",
    "\n",
    "# position associated to train set\n",
    "pos_train = pd.read_csv('pos_train_list.csv') "
   ]
  },
  {
   "cell_type": "code",
   "execution_count": null,
   "metadata": {},
   "outputs": [],
   "source": [
    "df_mess_train.nunique()"
   ]
  },
  {
   "cell_type": "markdown",
   "metadata": {},
   "source": [
    "## Stations de base"
   ]
  },
  {
   "cell_type": "code",
   "execution_count": null,
   "metadata": {},
   "outputs": [],
   "source": [
    "# determine all Base stations that received at least 1 message\n",
    "listOfBs = np.union1d(np.unique(df_mess_train['bsid']),\n",
    "                      np.unique(df_mess_test['bsid'])) \n",
    "\n",
    "print(f\"Number of stations: {len(listOfBs)}\")"
   ]
  },
  {
   "cell_type": "code",
   "execution_count": null,
   "metadata": {},
   "outputs": [],
   "source": [
    "df_mess_all = pd.concat([df_mess_train, df_mess_test])\n",
    "df_bsloc_all = df_mess_all.groupby('bsid')[['bs_lat', 'bs_lng']].first()\n",
    "\n",
    "lon_min = df_bsloc_all['bs_lng'].min()\n",
    "lon_max = df_bsloc_all['bs_lng'].max()\n",
    "\n",
    "lat_min = df_bsloc_all['bs_lat'].min()\n",
    "lat_max = df_bsloc_all['bs_lat'].max()\n",
    "\n",
    "print(f\"lon (min / max) = {lon_min:.3f}, {lon_max:.3f}\")\n",
    "print(f\"lat (min / max) = {lat_min:.3f}, {lat_max:.3f}\")\n",
    "\n",
    "df_bsloc_all.head()"
   ]
  },
  {
   "cell_type": "code",
   "execution_count": null,
   "metadata": {},
   "outputs": [],
   "source": [
    "fig = plt.figure(figsize=(12,12))\n",
    "\n",
    "ax = fig.add_subplot(1, 1, 1, projection=ccrs.PlateCarree())\n",
    "\n",
    "plt.grid()\n",
    "ax.set_extent([round(lon_min - 1.), round(lon_max + 1.),\n",
    "               round(lat_min - 1.), round(lat_max + 1.),])\n",
    "\n",
    "ax.add_feature(cfeature.OCEAN)\n",
    "ax.add_feature(cfeature.LAND, facecolor=cfeature.COLORS['land'])\n",
    "ax.add_feature(cfeature.BORDERS, linestyle=':')\n",
    "ax.coastlines(resolution='50m')\n",
    "\n",
    "# plot BS\n",
    "ax.plot(df_bsloc_all['bs_lng'], df_bsloc_all['bs_lat'],\n",
    "        '.', color='red', label='all')\n",
    "\n",
    "ax.xaxis.set_major_formatter(LONGITUDE_FORMATTER) \n",
    "ax.yaxis.set_major_formatter(LATITUDE_FORMATTER)\n",
    "\n",
    "gl = ax.gridlines(crs=ccrs.PlateCarree(), draw_labels=True)\n",
    "gl.xlabels_top = False\n",
    "gl.ylabels_right = False\n",
    "gl.xformatter = LONGITUDE_FORMATTER\n",
    "gl.yformatter = LATITUDE_FORMATTER\n",
    "\n",
    "ax.set_title(\"Base stations\")\n",
    "ax.set_xlabel(\"longitude\")\n",
    "ax.set_ylabel(\"latitude\")\n",
    "\n",
    "plt.legend()\n",
    "plt.show()"
   ]
  },
  {
   "cell_type": "markdown",
   "metadata": {},
   "source": [
    "### BS train vs BS test"
   ]
  },
  {
   "cell_type": "code",
   "execution_count": null,
   "metadata": {},
   "outputs": [],
   "source": [
    "df_bsloc_train = df_mess_train.groupby('bsid')[['bs_lat', 'bs_lng']].first()\n",
    "df_bsloc_test = df_mess_test.groupby('bsid')[['bs_lat', 'bs_lng']].first()\n",
    "\n",
    "df_bsloc_intersect = df_bsloc_train.merge(df_bsloc_test, how='inner',\n",
    "                                          on=['bsid','bs_lat', 'bs_lng'] )\n",
    "\n",
    "df_bsloc_train_only = pd.merge(df_bsloc_train, df_bsloc_test,\n",
    "                               on=['bsid','bs_lat', 'bs_lng'],\n",
    "                               how=\"outer\", indicator=True) \\\n",
    "                        .query('_merge==\"left_only\"') \\\n",
    "                        .drop(columns=['_merge'])\n",
    "\n",
    "df_bsloc_test_only = pd.merge(df_bsloc_test, df_bsloc_train,\n",
    "                               on=['bsid','bs_lat', 'bs_lng'],\n",
    "                               how=\"outer\", indicator=True) \\\n",
    "                        .query('_merge==\"left_only\"') \\\n",
    "                        .drop(columns=['_merge'])\n",
    "\n",
    "print(f\"all={df_bsloc_all.shape}\")\n",
    "print(f\"intersection={df_bsloc_intersect.shape}\")\n",
    "print(f\"train_only={df_bsloc_train_only.shape}\")\n",
    "print(f\"test_only{df_bsloc_test_only.shape}\")"
   ]
  },
  {
   "cell_type": "code",
   "execution_count": null,
   "metadata": {},
   "outputs": [],
   "source": [
    "fig = plt.figure(figsize=(12,12))\n",
    "\n",
    "ax = fig.add_subplot(1, 1, 1, projection=ccrs.PlateCarree())\n",
    "\n",
    "plt.grid()\n",
    "ax.set_extent([round(lon_min - 1.), round(lon_max + 1.),\n",
    "               round(lat_min - 1.), round(lat_max + 1.),])\n",
    "\n",
    "ax.add_feature(cfeature.OCEAN)\n",
    "ax.add_feature(cfeature.LAND, facecolor=cfeature.COLORS['land'])\n",
    "ax.add_feature(cfeature.BORDERS, linestyle=':')\n",
    "ax.coastlines(resolution='50m')\n",
    "\n",
    "# plot BS\n",
    "ax.plot(df_bsloc_intersect['bs_lng'], df_bsloc_intersect['bs_lat'],\n",
    "        '.', color='red', label='both')\n",
    "ax.plot(df_bsloc_train_only['bs_lng'], df_bsloc_train_only['bs_lat'],\n",
    "        '.', color='green', label='train only')\n",
    "ax.plot(df_bsloc_test_only['bs_lng'], df_bsloc_test_only['bs_lat'],\n",
    "        '.', color='orange', label='test only')\n",
    "\n",
    "ax.xaxis.set_major_formatter(LONGITUDE_FORMATTER) \n",
    "ax.yaxis.set_major_formatter(LATITUDE_FORMATTER)\n",
    "\n",
    "gl = ax.gridlines(crs=ccrs.PlateCarree(), draw_labels=True)\n",
    "gl.xlabels_top = False\n",
    "gl.ylabels_right = False\n",
    "gl.xformatter = LONGITUDE_FORMATTER\n",
    "gl.yformatter = LATITUDE_FORMATTER\n",
    "\n",
    "ax.set_title(\"Base stations\")\n",
    "ax.set_xlabel(\"longitude\")\n",
    "ax.set_ylabel(\"latitude\")\n",
    "\n",
    "plt.legend()\n",
    "plt.show()"
   ]
  },
  {
   "cell_type": "code",
   "execution_count": null,
   "metadata": {},
   "outputs": [],
   "source": [
    "df_bsloc_test_only.head(10)"
   ]
  },
  {
   "cell_type": "markdown",
   "metadata": {},
   "source": [
    "## Positions des émetteurs (train only)"
   ]
  },
  {
   "cell_type": "code",
   "execution_count": null,
   "metadata": {},
   "outputs": [],
   "source": [
    "pos_train.head()"
   ]
  },
  {
   "cell_type": "code",
   "execution_count": null,
   "metadata": {},
   "outputs": [],
   "source": [
    "pos_train.shape"
   ]
  },
  {
   "cell_type": "code",
   "execution_count": null,
   "metadata": {},
   "outputs": [],
   "source": [
    "fig = plt.figure(figsize=(12,12))\n",
    "\n",
    "ax = fig.add_subplot(1, 1, 1, projection=ccrs.PlateCarree())\n",
    "\n",
    "plt.grid()\n",
    "ax.set_extent([round(lon_min - 1.), round(lon_max + 1.),\n",
    "               round(lat_min - 1.), round(lat_max + 1.),])\n",
    "\n",
    "ax.add_feature(cfeature.OCEAN)\n",
    "ax.add_feature(cfeature.LAND, facecolor=cfeature.COLORS['land'])\n",
    "ax.add_feature(cfeature.BORDERS, linestyle=':')\n",
    "ax.coastlines(resolution='50m')\n",
    "\n",
    "# plot BS\n",
    "ax.plot(df_bsloc_all['bs_lng'], df_bsloc_all['bs_lat'],\n",
    "        '.', color='red', label='base station')\n",
    "ax.plot(pos_train['lng'], pos_train['lat'],\n",
    "        '.', color='green', label='device')\n",
    "\n",
    "ax.xaxis.set_major_formatter(LONGITUDE_FORMATTER) \n",
    "ax.yaxis.set_major_formatter(LATITUDE_FORMATTER)\n",
    "\n",
    "gl = ax.gridlines(crs=ccrs.PlateCarree(), draw_labels=True)\n",
    "gl.xlabels_top = False\n",
    "gl.ylabels_right = False\n",
    "gl.xformatter = LONGITUDE_FORMATTER\n",
    "gl.yformatter = LATITUDE_FORMATTER\n",
    "\n",
    "ax.set_title(\"Base stations and device positions\")\n",
    "ax.set_xlabel(\"longitude\")\n",
    "ax.set_ylabel(\"latitude\")\n",
    "\n",
    "plt.legend()\n",
    "plt.show()"
   ]
  },
  {
   "cell_type": "markdown",
   "metadata": {},
   "source": [
    "### anomalies"
   ]
  },
  {
   "cell_type": "code",
   "execution_count": null,
   "metadata": {},
   "outputs": [],
   "source": [
    "df_except = df_mess_all[df_mess_all['bs_lat'] > 60]\n",
    "\n",
    "print(f\"Number of stations = {len(np.unique(df_except['bsid']))}\")\n",
    "print(f\"Number of messages = {df_except.shape[0]}\")"
   ]
  },
  {
   "cell_type": "markdown",
   "metadata": {},
   "source": [
    "### RSSI fonction de la distance"
   ]
  },
  {
   "cell_type": "code",
   "execution_count": null,
   "metadata": {},
   "outputs": [],
   "source": [
    "def vincenty_vec(vec_coord):\n",
    "    \"\"\" Now using geodesic distance instead of Vincenty \"\"\"\n",
    "    vin_vec_dist = np.zeros(vec_coord.shape[0])\n",
    "    if vec_coord.shape[1] != 4:\n",
    "        print('ERROR: Bad number of columns (shall be = 4)')\n",
    "    else:\n",
    "        vin_vec_dist = [geodesic(vec_coord[m, 0:2], vec_coord[m, 2:]).meters for m in range(vec_coord.shape[0])]\n",
    "\n",
    "    return vin_vec_dist"
   ]
  },
  {
   "cell_type": "code",
   "execution_count": null,
   "metadata": {},
   "outputs": [],
   "source": [
    "df_distance = pd.concat([df_mess_train, pos_train], axis=1)\n",
    "df_distance.shape"
   ]
  },
  {
   "cell_type": "code",
   "execution_count": null,
   "metadata": {},
   "outputs": [],
   "source": [
    "df_distance.columns"
   ]
  },
  {
   "cell_type": "code",
   "execution_count": null,
   "metadata": {},
   "outputs": [],
   "source": [
    "df_distance['distance_m'] = df_distance.apply(lambda x: geodesic([x['bs_lat'], x['bs_lng']], [x['lat'], x['lng']]).meters, axis=1)"
   ]
  },
  {
   "cell_type": "code",
   "execution_count": null,
   "metadata": {},
   "outputs": [],
   "source": [
    "df_distance = df_distance.sort_values(by=['distance_m'])\n",
    "\n",
    "# near: distance <= 50 km\n",
    "df_distance_near = df_distance[df_distance['distance_m'] <= 50000]\n",
    "# far: distance > 50 km\n",
    "df_distance_far = df_distance[df_distance['distance_m'] > 50000]"
   ]
  },
  {
   "cell_type": "code",
   "execution_count": null,
   "metadata": {
    "scrolled": true
   },
   "outputs": [],
   "source": [
    "fig = plt.figure(figsize=(15, 10))\n",
    "\n",
    "plt.grid()\n",
    "\n",
    "plt.title('RSSI vs distance')\n",
    "plt.xlabel('distance (m)')\n",
    "plt.ylabel('rssi (dBm)')\n",
    "\n",
    "plt.scatter(df_distance_near['distance_m'], df_distance_near['rssi'], s=2, label='near')\n",
    "plt.scatter(df_distance_far['distance_m'], df_distance_far['rssi'], s=2, label='far')\n",
    "\n",
    "plt.show()"
   ]
  },
  {
   "cell_type": "markdown",
   "metadata": {},
   "source": [
    "#### zoom"
   ]
  },
  {
   "cell_type": "code",
   "execution_count": null,
   "metadata": {
    "scrolled": true
   },
   "outputs": [],
   "source": [
    "fig = plt.figure(figsize=(15, 10))\n",
    "\n",
    "plt.grid()\n",
    "\n",
    "plt.title('RSSI vs distance')\n",
    "plt.xlabel('distance (m)')\n",
    "plt.ylabel('rssi (dBm)')\n",
    "\n",
    "plt.xlim(0.0, 50000.0)\n",
    "plt.scatter(df_distance_near['distance_m'], df_distance_near['rssi'], s=2)\n",
    "plt.scatter(df_distance_far['distance_m'], df_distance_far['rssi'], s=2)\n",
    "\n",
    "plt.show()"
   ]
  },
  {
   "cell_type": "code",
   "execution_count": null,
   "metadata": {},
   "outputs": [],
   "source": [
    "df_distance_near['nseq'].unique()"
   ]
  },
  {
   "cell_type": "code",
   "execution_count": null,
   "metadata": {
    "scrolled": true
   },
   "outputs": [],
   "source": [
    "\n",
    "fig = plt.figure(figsize=(15, 10))\n",
    "\n",
    "plt.grid()\n",
    "\n",
    "plt.title('RSSI vs distance')\n",
    "plt.xlabel('distance (m)')\n",
    "plt.ylabel('rssi (dBm)')\n",
    "\n",
    "plt.xlim(0.0, 50000.0)\n",
    "\n",
    "for v in df_distance_near['nseq'].unique():\n",
    "    tmp = df_distance_near[df_distance_near['nseq'] == v]\n",
    "    if v != 1.5:\n",
    "        continue\n",
    "    plt.scatter(tmp['distance_m'], tmp['rssi'], s=2, label=str(v))\n",
    "\n",
    "plt.legend()\n",
    "plt.show()"
   ]
  },
  {
   "cell_type": "code",
   "execution_count": null,
   "metadata": {},
   "outputs": [],
   "source": [
    "print(f\"Nombre de messages \\\"courtes distances\\\": {df_distance_near['distance_m'].count()}\")\n",
    "print(f\"Nombre de messages \\\"longues distances\\\": {df_distance_far['distance_m'].count()}\")"
   ]
  },
  {
   "cell_type": "code",
   "execution_count": null,
   "metadata": {},
   "outputs": [],
   "source": [
    "df_bs_count = df_distance_near.groupby('bsid')[['messid']].count().sort_values(by=['messid'], ascending=False)\n",
    "\n",
    "df_bs_count.head()"
   ]
  },
  {
   "cell_type": "code",
   "execution_count": null,
   "metadata": {},
   "outputs": [],
   "source": [
    "df_mess_count = df_distance_near.groupby('messid')[['bsid']].count().sort_values(by=['bsid'], ascending=False)\n",
    "\n",
    "df_mess_count.head()"
   ]
  },
  {
   "cell_type": "code",
   "execution_count": null,
   "metadata": {},
   "outputs": [],
   "source": [
    "#bsids = list(df_bs_count.index[:5])\n",
    "messids = list(df_mess_count.index[:15])\n",
    "\n",
    "fig = plt.figure(figsize=(15, 10))\n",
    "\n",
    "plt.grid()\n",
    "\n",
    "plt.title('RSSI vs distance')\n",
    "plt.xlabel('distance (m)')\n",
    "plt.ylabel('rssi (dBm)')\n",
    "\n",
    "plt.xlim(0.0, 50000.0)\n",
    "#plt.xlim(0.0, 0.002)\n",
    "\n",
    "# for bsid in bsids:\n",
    "for messid in messids:\n",
    "    #tmp = df_distance_near[df_distance_near['bsid'] == bsid]\n",
    "    tmp = df_distance_near[df_distance_near['messid'] == messid]\n",
    "\n",
    "    x1 = tmp['distance_m'].values\n",
    "    y1 = 1.0 / tmp['rssi'].values\n",
    "    a = np.polyfit(x1, y1, 3)\n",
    "    y2 = np.polyval(a, x1)\n",
    "    plt.scatter(x1, y1, s=2, label=str(messid))\n",
    "    plt.plot(x1, y2)\n",
    "\n",
    "plt.legend()\n",
    "plt.show()"
   ]
  },
  {
   "cell_type": "code",
   "execution_count": null,
   "metadata": {},
   "outputs": [],
   "source": [
    "df_bsloc_near = df_distance_near.groupby('bsid')[['bs_lat', 'bs_lng']].first()\n",
    "df_bsloc_far = df_distance_far.groupby('bsid')[['bs_lat', 'bs_lng']].first()"
   ]
  },
  {
   "cell_type": "code",
   "execution_count": null,
   "metadata": {},
   "outputs": [],
   "source": [
    "fig = plt.figure(figsize=(12,12))\n",
    "\n",
    "ax = fig.add_subplot(1, 1, 1, projection=ccrs.PlateCarree())\n",
    "\n",
    "plt.grid()\n",
    "ax.set_extent([round(lon_min - 1.), round(lon_max + 1.),\n",
    "               round(lat_min - 1.), round(lat_max + 1.),])\n",
    "\n",
    "ax.add_feature(cfeature.OCEAN)\n",
    "ax.add_feature(cfeature.LAND, facecolor=cfeature.COLORS['land'])\n",
    "ax.add_feature(cfeature.BORDERS, linestyle=':')\n",
    "ax.coastlines(resolution='50m')\n",
    "\n",
    "# plot BS\n",
    "ax.plot(df_bsloc_near['bs_lng'], df_bsloc_near['bs_lat'],\n",
    "        '.', color='red', label='near')\n",
    "ax.plot(df_bsloc_far['bs_lng'], df_bsloc_far['bs_lat'],\n",
    "        '.', color='green', label='far')\n",
    "\n",
    "ax.xaxis.set_major_formatter(LONGITUDE_FORMATTER) \n",
    "ax.yaxis.set_major_formatter(LATITUDE_FORMATTER)\n",
    "\n",
    "gl = ax.gridlines(crs=ccrs.PlateCarree(), draw_labels=True)\n",
    "gl.xlabels_top = False\n",
    "gl.ylabels_right = False\n",
    "gl.xformatter = LONGITUDE_FORMATTER\n",
    "gl.yformatter = LATITUDE_FORMATTER\n",
    "\n",
    "ax.set_title(\"Base stations\")\n",
    "ax.set_xlabel(\"longitude\")\n",
    "ax.set_ylabel(\"latitude\")\n",
    "\n",
    "plt.legend()\n",
    "plt.show()"
   ]
  }
 ],
 "metadata": {
  "kernelspec": {
   "display_name": "Python 3",
   "language": "python",
   "name": "python3"
  },
  "language_info": {
   "codemirror_mode": {
    "name": "ipython",
    "version": 3
   },
   "file_extension": ".py",
   "mimetype": "text/x-python",
   "name": "python",
   "nbconvert_exporter": "python",
   "pygments_lexer": "ipython3",
   "version": "3.6.10"
  },
  "latex_envs": {
   "LaTeX_envs_menu_present": true,
   "autoclose": true,
   "autocomplete": false,
   "bibliofile": "biblio.bib",
   "cite_by": "apalike",
   "current_citInitial": 1,
   "eqLabelWithNumbers": true,
   "eqNumInitial": 1,
   "hotkeys": {
    "equation": "Ctrl-E",
    "itemize": "Ctrl-I"
   },
   "labels_anchors": false,
   "latex_user_defs": false,
   "report_style_numbering": false,
   "user_envs_cfg": false
  },
  "toc": {
   "base_numbering": 1,
   "nav_menu": {},
   "number_sections": true,
   "sideBar": true,
   "skip_h1_title": false,
   "title_cell": "Table of Contents",
   "title_sidebar": "Contents",
   "toc_cell": false,
   "toc_position": {},
   "toc_section_display": true,
   "toc_window_display": false
  }
 },
 "nbformat": 4,
 "nbformat_minor": 1
}
