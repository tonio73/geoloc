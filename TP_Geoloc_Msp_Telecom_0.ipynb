{
 "cells": [
  {
   "cell_type": "markdown",
   "metadata": {},
   "source": [
    "# Application de techniques de *ML* à géolocalisation d'appareils connectés au réseau *Sigfox*\n",
    "\n",
    "*Farid El Attaoui, Hicham El Ouatiki, Antoine Hue, Vincent Martinez, Thomas Mensch*\n",
    "\n",
    "Le but de ce challenge est d'estimer les positions géographiques d'appareils connectés au réseau Sigfox.\n",
    "\n",
    "Ce notebook est organisé de la manière suivante:\n",
    "\n",
    " 1. Introduction du problème\n",
    " 2. Analyse exploratoire des données\n",
    " 3. Construction de la matrice des co-variables\n",
    " "
   ]
  },
  {
   "cell_type": "markdown",
   "metadata": {},
   "source": [
    "## Introduction du problème\n",
    "\n",
    "Le but de ce challenge est d'estimer les positions géographiques d'appareils connectés au réseau Sigfox.\n",
    "\n",
    "Les informations disponibles pour ce problème de géolocalisation sont les latitudes et longitudes, et la force du signal (RSSI) des stations de base (BS) qui ont reçu les messages de ces devices."
   ]
  },
  {
   "cell_type": "code",
   "execution_count": 1,
   "metadata": {},
   "outputs": [],
   "source": [
    "import numpy as np\n",
    "import pandas as pd\n",
    "\n",
    "import matplotlib.pyplot as plt\n",
    "\n",
    "# Modules for basemap and geodetic manipulations\n",
    "import folium\n",
    "import utm\n",
    "from geopy.distance import geodesic\n",
    "\n",
    "import cartopy.crs as ccrs\n",
    "import cartopy.feature as cfeature\n",
    "from cartopy.mpl.gridliner import LATITUDE_FORMATTER, LONGITUDE_FORMATTER\n",
    "\n",
    "# Machine learning modules\n",
    "from sklearn import model_selection, preprocessing\n",
    "\n",
    "from tensorflow.keras import activations, datasets, layers, losses, metrics, models, backend, regularizers\n",
    "import tensorflow as tf\n",
    "#pip install tensorview\n",
    "import tensorview as tv\n",
    "\n",
    "import lightgbm"
   ]
  },
  {
   "cell_type": "markdown",
   "metadata": {},
   "source": [
    "## Exploration des données\n",
    "\n",
    "### Préparation des données"
   ]
  },
  {
   "cell_type": "code",
   "execution_count": 2,
   "metadata": {},
   "outputs": [],
   "source": [
    "# Features\n",
    "df_mess_train = pd.read_csv('mess_train_list.csv')\n",
    "df_mess_test = pd.read_csv('mess_test_list.csv')\n",
    "\n",
    "# Labels: position associated to train set\n",
    "pos_train = pd.read_csv('pos_train_list.csv') "
   ]
  },
  {
   "cell_type": "code",
   "execution_count": 3,
   "metadata": {},
   "outputs": [
    {
     "data": {
      "text/html": [
       "<div>\n",
       "<style scoped>\n",
       "    .dataframe tbody tr th:only-of-type {\n",
       "        vertical-align: middle;\n",
       "    }\n",
       "\n",
       "    .dataframe tbody tr th {\n",
       "        vertical-align: top;\n",
       "    }\n",
       "\n",
       "    .dataframe thead th {\n",
       "        text-align: right;\n",
       "    }\n",
       "</style>\n",
       "<table border=\"1\" class=\"dataframe\">\n",
       "  <thead>\n",
       "    <tr style=\"text-align: right;\">\n",
       "      <th></th>\n",
       "      <th>bsid</th>\n",
       "      <th>did</th>\n",
       "      <th>nseq</th>\n",
       "      <th>rssi</th>\n",
       "      <th>time_ux</th>\n",
       "      <th>bs_lat</th>\n",
       "      <th>bs_lng</th>\n",
       "    </tr>\n",
       "  </thead>\n",
       "  <tbody>\n",
       "    <tr>\n",
       "      <th>count</th>\n",
       "      <td>39250.000000</td>\n",
       "      <td>3.925000e+04</td>\n",
       "      <td>39250.000000</td>\n",
       "      <td>39250.000000</td>\n",
       "      <td>3.925000e+04</td>\n",
       "      <td>39250.000000</td>\n",
       "      <td>39250.000000</td>\n",
       "    </tr>\n",
       "    <tr>\n",
       "      <th>mean</th>\n",
       "      <td>4533.774752</td>\n",
       "      <td>4.835932e+05</td>\n",
       "      <td>1.043541</td>\n",
       "      <td>-125.863580</td>\n",
       "      <td>1.473368e+12</td>\n",
       "      <td>42.554998</td>\n",
       "      <td>-100.969685</td>\n",
       "    </tr>\n",
       "    <tr>\n",
       "      <th>std</th>\n",
       "      <td>2570.495638</td>\n",
       "      <td>9.893140e+04</td>\n",
       "      <td>0.563540</td>\n",
       "      <td>9.226500</td>\n",
       "      <td>5.506910e+09</td>\n",
       "      <td>7.722787</td>\n",
       "      <td>11.522732</td>\n",
       "    </tr>\n",
       "    <tr>\n",
       "      <th>min</th>\n",
       "      <td>879.000000</td>\n",
       "      <td>4.732880e+05</td>\n",
       "      <td>0.000000</td>\n",
       "      <td>-155.000000</td>\n",
       "      <td>1.463546e+12</td>\n",
       "      <td>36.053394</td>\n",
       "      <td>-107.463146</td>\n",
       "    </tr>\n",
       "    <tr>\n",
       "      <th>25%</th>\n",
       "      <td>2790.000000</td>\n",
       "      <td>4.761230e+05</td>\n",
       "      <td>1.000000</td>\n",
       "      <td>-132.500000</td>\n",
       "      <td>1.468410e+12</td>\n",
       "      <td>39.747448</td>\n",
       "      <td>-105.074287</td>\n",
       "    </tr>\n",
       "    <tr>\n",
       "      <th>50%</th>\n",
       "      <td>3559.000000</td>\n",
       "      <td>4.763150e+05</td>\n",
       "      <td>1.000000</td>\n",
       "      <td>-127.333333</td>\n",
       "      <td>1.473444e+12</td>\n",
       "      <td>39.793585</td>\n",
       "      <td>-105.043685</td>\n",
       "    </tr>\n",
       "    <tr>\n",
       "      <th>75%</th>\n",
       "      <td>7456.000000</td>\n",
       "      <td>4.766090e+05</td>\n",
       "      <td>1.500000</td>\n",
       "      <td>-121.000000</td>\n",
       "      <td>1.479118e+12</td>\n",
       "      <td>39.838740</td>\n",
       "      <td>-104.998429</td>\n",
       "    </tr>\n",
       "    <tr>\n",
       "      <th>max</th>\n",
       "      <td>11951.000000</td>\n",
       "      <td>1.747448e+06</td>\n",
       "      <td>2.000000</td>\n",
       "      <td>-64.000000</td>\n",
       "      <td>1.481143e+12</td>\n",
       "      <td>64.300000</td>\n",
       "      <td>-68.500000</td>\n",
       "    </tr>\n",
       "  </tbody>\n",
       "</table>\n",
       "</div>"
      ],
      "text/plain": [
       "               bsid           did          nseq          rssi       time_ux  \\\n",
       "count  39250.000000  3.925000e+04  39250.000000  39250.000000  3.925000e+04   \n",
       "mean    4533.774752  4.835932e+05      1.043541   -125.863580  1.473368e+12   \n",
       "std     2570.495638  9.893140e+04      0.563540      9.226500  5.506910e+09   \n",
       "min      879.000000  4.732880e+05      0.000000   -155.000000  1.463546e+12   \n",
       "25%     2790.000000  4.761230e+05      1.000000   -132.500000  1.468410e+12   \n",
       "50%     3559.000000  4.763150e+05      1.000000   -127.333333  1.473444e+12   \n",
       "75%     7456.000000  4.766090e+05      1.500000   -121.000000  1.479118e+12   \n",
       "max    11951.000000  1.747448e+06      2.000000    -64.000000  1.481143e+12   \n",
       "\n",
       "             bs_lat        bs_lng  \n",
       "count  39250.000000  39250.000000  \n",
       "mean      42.554998   -100.969685  \n",
       "std        7.722787     11.522732  \n",
       "min       36.053394   -107.463146  \n",
       "25%       39.747448   -105.074287  \n",
       "50%       39.793585   -105.043685  \n",
       "75%       39.838740   -104.998429  \n",
       "max       64.300000    -68.500000  "
      ]
     },
     "execution_count": 3,
     "metadata": {},
     "output_type": "execute_result"
    }
   ],
   "source": [
    "df_mess_train.describe()"
   ]
  },
  {
   "cell_type": "code",
   "execution_count": 4,
   "metadata": {},
   "outputs": [
    {
     "data": {
      "text/html": [
       "<div>\n",
       "<style scoped>\n",
       "    .dataframe tbody tr th:only-of-type {\n",
       "        vertical-align: middle;\n",
       "    }\n",
       "\n",
       "    .dataframe tbody tr th {\n",
       "        vertical-align: top;\n",
       "    }\n",
       "\n",
       "    .dataframe thead th {\n",
       "        text-align: right;\n",
       "    }\n",
       "</style>\n",
       "<table border=\"1\" class=\"dataframe\">\n",
       "  <thead>\n",
       "    <tr style=\"text-align: right;\">\n",
       "      <th></th>\n",
       "      <th>lat</th>\n",
       "      <th>lng</th>\n",
       "    </tr>\n",
       "  </thead>\n",
       "  <tbody>\n",
       "    <tr>\n",
       "      <th>count</th>\n",
       "      <td>39250.000000</td>\n",
       "      <td>39250.000000</td>\n",
       "    </tr>\n",
       "    <tr>\n",
       "      <th>mean</th>\n",
       "      <td>39.783333</td>\n",
       "      <td>-105.056343</td>\n",
       "    </tr>\n",
       "    <tr>\n",
       "      <th>std</th>\n",
       "      <td>0.206262</td>\n",
       "      <td>0.162954</td>\n",
       "    </tr>\n",
       "    <tr>\n",
       "      <th>min</th>\n",
       "      <td>35.770683</td>\n",
       "      <td>-107.630679</td>\n",
       "    </tr>\n",
       "    <tr>\n",
       "      <th>25%</th>\n",
       "      <td>39.708599</td>\n",
       "      <td>-105.060463</td>\n",
       "    </tr>\n",
       "    <tr>\n",
       "      <th>50%</th>\n",
       "      <td>39.776882</td>\n",
       "      <td>-105.039440</td>\n",
       "    </tr>\n",
       "    <tr>\n",
       "      <th>75%</th>\n",
       "      <td>39.805279</td>\n",
       "      <td>-105.018730</td>\n",
       "    </tr>\n",
       "    <tr>\n",
       "      <th>max</th>\n",
       "      <td>43.140387</td>\n",
       "      <td>-102.094289</td>\n",
       "    </tr>\n",
       "  </tbody>\n",
       "</table>\n",
       "</div>"
      ],
      "text/plain": [
       "                lat           lng\n",
       "count  39250.000000  39250.000000\n",
       "mean      39.783333   -105.056343\n",
       "std        0.206262      0.162954\n",
       "min       35.770683   -107.630679\n",
       "25%       39.708599   -105.060463\n",
       "50%       39.776882   -105.039440\n",
       "75%       39.805279   -105.018730\n",
       "max       43.140387   -102.094289"
      ]
     },
     "execution_count": 4,
     "metadata": {},
     "output_type": "execute_result"
    }
   ],
   "source": [
    "pos_train.describe()"
   ]
  },
  {
   "cell_type": "code",
   "execution_count": 5,
   "metadata": {},
   "outputs": [
    {
     "name": "stdout",
     "output_type": "stream",
     "text": [
      "Nombre de stations pour le jeu de train: 259\n",
      "Nombre de stations pour le jeu de test : 8\n"
     ]
    }
   ],
   "source": [
    "# determine all Base stations that received at least 1 message\n",
    "trainBs = np.unique(df_mess_train['bsid'])\n",
    "testBs = np.unique(df_mess_test['bsid'])\n",
    "listOfBs = np.union1d(trainBs, testBs) \n",
    "testOnlyBs = np.lib.arraysetops.setdiff1d(testBs, trainBs)\n",
    "\n",
    "print(f\"Nombre de stations pour le jeu de train: {len(listOfBs):d}\")\n",
    "print(f\"Nombre de stations pour le jeu de test : {len(testOnlyBs):d}\")"
   ]
  },
  {
   "cell_type": "markdown",
   "metadata": {},
   "source": [
    "### Quelques visualisations"
   ]
  },
  {
   "cell_type": "markdown",
   "metadata": {},
   "source": [
    "#### RSSI en fonction de la distance"
   ]
  },
  {
   "cell_type": "code",
   "execution_count": 6,
   "metadata": {},
   "outputs": [],
   "source": [
    "df_distance = pd.concat([df_mess_train, pos_train], axis=1)\n",
    "\n",
    "\n",
    "df_distance['distance_m'] = df_distance.apply(lambda x: geodesic(\n",
    "    [x['bs_lat'], x['bs_lng']], [x['lat'], x['lng']]).meters, axis=1)\n",
    "\n",
    "df_distance = df_distance.sort_values(by=['distance_m'])\n",
    "\n",
    "# near: distance <= 100 km\n",
    "df_distance_near = df_distance[df_distance['distance_m'] <= 100000]\n",
    "# far: distance > 100 km\n",
    "df_distance_far = df_distance[df_distance['distance_m'] > 100000]"
   ]
  },
  {
   "cell_type": "code",
   "execution_count": 7,
   "metadata": {},
   "outputs": [
    {
     "data": {
      "image/png": "[encoded data removed]",
      "text/plain": [
       "<Figure size 864x576 with 1 Axes>"
      ]
     },
     "metadata": {
      "needs_background": "light"
     },
     "output_type": "display_data"
    }
   ],
   "source": [
    "# RSSI vs distance\n",
    "fig = plt.figure(figsize=(12, 8))\n",
    "\n",
    "plt.grid()\n",
    "\n",
    "plt.title('RSSI vs distance')\n",
    "plt.xlabel('distance (m)')\n",
    "plt.ylabel('rssi (dBm)')\n",
    "\n",
    "plt.scatter(df_distance_near['distance_m'], df_distance_near['rssi'], s=2, label='near')\n",
    "plt.scatter(df_distance_far['distance_m'], df_distance_far['rssi'], s=2, label='far')\n",
    "\n",
    "plt.show()"
   ]
  },
  {
   "cell_type": "code",
   "execution_count": 8,
   "metadata": {},
   "outputs": [
    {
     "data": {
      "image/png": "[encoded data removed]",
      "text/plain": [
       "<Figure size 864x576 with 1 Axes>"
      ]
     },
     "metadata": {
      "needs_background": "light"
     },
     "output_type": "display_data"
    }
   ],
   "source": [
    "# RSSI vs distance (zoom)\n",
    "fig = plt.figure(figsize=(12, 8))\n",
    "\n",
    "plt.grid()\n",
    "\n",
    "plt.title('RSSI vs distance (zoom)')\n",
    "plt.xlabel('distance (m)')\n",
    "plt.ylabel('rssi (dBm)')\n",
    "\n",
    "plt.scatter(df_distance_near['distance_m'], df_distance_near['rssi'], s=2, label='near')\n",
    "\n",
    "plt.show()"
   ]
  },
  {
   "cell_type": "markdown",
   "metadata": {},
   "source": [
    "#### Positions des stations de bases"
   ]
  },
  {
   "cell_type": "code",
   "execution_count": 9,
   "metadata": {},
   "outputs": [
    {
     "name": "stdout",
     "output_type": "stream",
     "text": [
      "all=(259, 2)\n",
      "intersection=(160, 2)\n",
      "train_only=(91, 2)\n",
      "test_only(8, 2)\n"
     ]
    }
   ],
   "source": [
    "# determine min/max lat/lon\n",
    "df_mess_all = pd.concat([df_mess_train, df_mess_test])\n",
    "df_bsloc_all = df_mess_all.groupby('bsid')[['bs_lat', 'bs_lng']].first()\n",
    "\n",
    "lon_min = df_bsloc_all['bs_lng'].min()\n",
    "lon_max = df_bsloc_all['bs_lng'].max()\n",
    "\n",
    "lat_min = df_bsloc_all['bs_lat'].min()\n",
    "lat_max = df_bsloc_all['bs_lat'].max()\n",
    "\n",
    "# train vs. test\n",
    "df_bsloc_train = df_mess_train.groupby('bsid')[['bs_lat', 'bs_lng']].first()\n",
    "df_bsloc_test = df_mess_test.groupby('bsid')[['bs_lat', 'bs_lng']].first()\n",
    "\n",
    "df_bsloc_intersect = df_bsloc_train.merge(df_bsloc_test, how='inner',\n",
    "                                          on=['bsid','bs_lat', 'bs_lng'] )\n",
    "\n",
    "df_bsloc_train_only = pd.merge(df_bsloc_train, df_bsloc_test,\n",
    "                               on=['bsid','bs_lat', 'bs_lng'],\n",
    "                               how=\"outer\", indicator=True) \\\n",
    "                        .query('_merge==\"left_only\"') \\\n",
    "                        .drop(columns=['_merge'])\n",
    "\n",
    "df_bsloc_test_only = pd.merge(df_bsloc_test, df_bsloc_train,\n",
    "                               on=['bsid','bs_lat', 'bs_lng'],\n",
    "                               how=\"outer\", indicator=True) \\\n",
    "                        .query('_merge==\"left_only\"') \\\n",
    "                        .drop(columns=['_merge'])\n",
    "\n",
    "print(f\"all={df_bsloc_all.shape}\")\n",
    "print(f\"intersection={df_bsloc_intersect.shape}\")\n",
    "print(f\"train_only={df_bsloc_train_only.shape}\")\n",
    "print(f\"test_only{df_bsloc_test_only.shape}\")"
   ]
  },
  {
   "cell_type": "code",
   "execution_count": 10,
   "metadata": {},
   "outputs": [
    {
     "data": {
      "image/png": "[encoded data removed]",
      "text/plain": [
       "<Figure size 864x864 with 1 Axes>"
      ]
     },
     "metadata": {
      "needs_background": "light"
     },
     "output_type": "display_data"
    }
   ],
   "source": [
    "fig = plt.figure(figsize=(12,12))\n",
    "\n",
    "ax = fig.add_subplot(1, 1, 1, projection=ccrs.PlateCarree())\n",
    "\n",
    "plt.grid()\n",
    "ax.set_extent([round(lon_min - 1.), round(lon_max + 1.),\n",
    "               round(lat_min - 1.), round(lat_max + 1.),])\n",
    "\n",
    "ax.add_feature(cfeature.OCEAN)\n",
    "ax.add_feature(cfeature.LAND, facecolor=cfeature.COLORS['land'])\n",
    "ax.add_feature(cfeature.BORDERS, linestyle=':')\n",
    "ax.coastlines(resolution='50m')\n",
    "\n",
    "# plot BS\n",
    "ax.plot(df_bsloc_intersect['bs_lng'], df_bsloc_intersect['bs_lat'],\n",
    "        '.', color='red', label='both')\n",
    "ax.plot(df_bsloc_train_only['bs_lng'], df_bsloc_train_only['bs_lat'],\n",
    "        '.', color='green', label='train only')\n",
    "ax.plot(df_bsloc_test_only['bs_lng'], df_bsloc_test_only['bs_lat'],\n",
    "        '.', color='orange', label='test only')\n",
    "\n",
    "ax.xaxis.set_major_formatter(LONGITUDE_FORMATTER) \n",
    "ax.yaxis.set_major_formatter(LATITUDE_FORMATTER)\n",
    "\n",
    "gl = ax.gridlines(crs=ccrs.PlateCarree(), draw_labels=True)\n",
    "gl.xlabels_top = False\n",
    "gl.ylabels_right = False\n",
    "gl.xformatter = LONGITUDE_FORMATTER\n",
    "gl.yformatter = LATITUDE_FORMATTER\n",
    "\n",
    "ax.set_title(\"Base stations\")\n",
    "ax.set_xlabel(\"longitude\")\n",
    "ax.set_ylabel(\"latitude\")\n",
    "\n",
    "plt.legend()\n",
    "plt.show()"
   ]
  },
  {
   "cell_type": "markdown",
   "metadata": {},
   "source": [
    "## Passage en UTM"
   ]
  },
  {
   "cell_type": "code",
   "execution_count": 11,
   "metadata": {},
   "outputs": [],
   "source": [
    "# functions for conversion\n",
    "def latlon_to_xy(lat, lon):\n",
    "    \"\"\"Conversion lat/lon en UTM\"\"\"\n",
    "    x, y, utm_zone, utm_letter = utm.from_latlon(lat, lon)\n",
    "    return x, y, utm_zone, utm_letter\n",
    "\n",
    "\n",
    "def xy_to_latlon(x, y, utm_zone, utm_letter):\n",
    "    \"\"\"Conversion UTM en lat/lon\"\"\"\n",
    "    lat, lon = utm.to_latlon(x, y, utm_zone, utm_letter)\n",
    "    return lat, lon\n",
    "\n",
    "# Add UTM coordinates columns (x, y, zone, letter)\n",
    "pos_train[['x', 'y', 'utm_zone', 'utm_letter']] = pos_train.apply(lambda row: pd.Series(latlon_to_xy(row['lat'], row['lng'])),axis=1)\n",
    "df_mess_train[['bs_x', 'bs_y', 'bs_utm_zone', 'bs_utm_letter']] = df_mess_train.apply(lambda row: pd.Series(latlon_to_xy(row['bs_lat'], row['bs_lng'])),axis=1)\n",
    "df_mess_test[['bs_x', 'bs_y', 'bs_utm_zone', 'bs_utm_letter']] = df_mess_test.apply(lambda row: pd.Series(latlon_to_xy(row['bs_lat'], row['bs_lng'])),axis=1)"
   ]
  },
  {
   "cell_type": "markdown",
   "metadata": {},
   "source": [
    "## Traitement des messages anormaux (outliers)"
   ]
  },
  {
   "cell_type": "code",
   "execution_count": 12,
   "metadata": {},
   "outputs": [
    {
     "name": "stdout",
     "output_type": "stream",
     "text": [
      "Nombres de messages du jeu d'apprentissage : 6068\n",
      "Nombres de messages du jeu d'apprentissage sans les stations au dessus du 60eme parallèle : 5918\n"
     ]
    }
   ],
   "source": [
    "print(f\"Nombres de messages du jeu d'apprentissage : {len(df_mess_train.messid.unique())}\");\n",
    "print(f\"Nombres de messages du jeu d'apprentissage sans les stations au dessus du 60eme parallèle : {len(df_mess_train[df_mess_train.bs_lat<60].messid.unique())}\");"
   ]
  },
  {
   "cell_type": "code",
   "execution_count": 13,
   "metadata": {},
   "outputs": [
    {
     "name": "stdout",
     "output_type": "stream",
     "text": [
      "Nombres de messages du jeu de test : 5294\n",
      "Nombres de messages du jeu de test sans les stations au dessus du 60eme parallèle : 5199\n"
     ]
    }
   ],
   "source": [
    "print(f\"Nombres de messages du jeu de test : {len(df_mess_test.messid.unique())}\");\n",
    "print(f\"Nombres de messages du jeu de test sans les stations au dessus du 60eme parallèle : {len(df_mess_test[df_mess_test.bs_lat<60].messid.unique())}\");"
   ]
  },
  {
   "cell_type": "markdown",
   "metadata": {},
   "source": [
    "### Analyse\n",
    "\n",
    "Il y a 150 messages du jeu d'apprentissage et 95 messages du jeu de test qui refèrent uniquement aux stations situées au dessus du 60eme parallèle (dans la zone UTM 19).\n",
    "Ces stations sont très éloignées des autres données et semblent donc être des anomalies.\n",
    "\n",
    "En analysant les coordonnées des labels correspondants à ces messages, ils s'avèrent que les appareils sont tous situés dans la zone des autres stations.\n",
    "\n",
    "Nous prenons donc le parti de modifier les coordonnées de ces stations au barycentre des différentes positions des devices qui ont communiqué uniquement avec ces stations."
   ]
  },
  {
   "cell_type": "code",
   "execution_count": 14,
   "metadata": {},
   "outputs": [],
   "source": [
    "mask = ~df_mess_train[df_mess_train.bs_lat > 60.0]['messid'] \\\n",
    "    .isin(df_mess_train[df_mess_train.bs_lat < 60.0]['messid'])\n",
    "\n",
    "messid_far = df_mess_train[df_mess_train.bs_lat > 60.0]['messid'][mask].unique()\n",
    "\n",
    "df_contat = pd.concat([df_mess_train, pos_train], axis=1)\n",
    "zone_19_stations = df_contat[df_contat['messid'].isin(messid_far)]\n",
    "zone_19_coords = zone_19_stations.mean(axis=0)[['lat', 'lng', 'x', 'y', 'utm_zone']]\n",
    "\n",
    "# process train messages\n",
    "mask_19 = df_mess_train['bs_utm_zone'] != 19\n",
    "\n",
    "df_mess_train.bs_lat = df_mess_train.bs_lat.where(mask_19,\n",
    "                                                  other=zone_19_coords.lat)\n",
    "df_mess_train.bs_lng = df_mess_train.bs_lng.where(mask_19,\n",
    "                                                  other=zone_19_coords.lng)\n",
    "\n",
    "df_mess_train.bs_x = df_mess_train.bs_x.where(mask_19,\n",
    "                                              other=zone_19_coords.x)\n",
    "df_mess_train.bs_y = df_mess_train.bs_y.where(mask_19,\n",
    "                                              other=zone_19_coords.y)\n",
    "\n",
    "df_mess_train.bs_utm_zone = df_mess_train.bs_utm_zone.where(mask_19,\n",
    "                                                            other=zone_19_coords.utm_zone)\n",
    "df_mess_train.bs_utm_letter = df_mess_train.bs_utm_letter.where(mask_19,\n",
    "                                                                other=\"S\")"
   ]
  },
  {
   "cell_type": "code",
   "execution_count": 15,
   "metadata": {},
   "outputs": [],
   "source": [
    "# process test messages\n",
    "mask_19 = df_mess_test['bs_utm_zone'] != 19\n",
    "\n",
    "df_mess_test.bs_lat = df_mess_test.bs_lat.where(mask_19,\n",
    "                                                other=zone_19_coords.lat)\n",
    "df_mess_test.bs_lng = df_mess_test.bs_lng.where(mask_19,\n",
    "                                                other=zone_19_coords.lng)\n",
    "\n",
    "df_mess_test.bs_x = df_mess_test.bs_x.where(mask_19, other=zone_19_coords.x)\n",
    "df_mess_test.bs_y = df_mess_test.bs_y.where(mask_19, other=zone_19_coords.y)\n",
    "\n",
    "df_mess_test.bs_utm_zone = df_mess_test.bs_utm_zone.where(mask_19,\n",
    "                                                          other=zone_19_coords.utm_zone)\n",
    "df_mess_test.bs_utm_letter = df_mess_test.bs_utm_letter.where(mask_19,\n",
    "                                                              other=\"S\")"
   ]
  },
  {
   "cell_type": "code",
   "execution_count": 16,
   "metadata": {},
   "outputs": [
    {
     "data": {
      "text/html": [
       "<div>\n",
       "<style scoped>\n",
       "    .dataframe tbody tr th:only-of-type {\n",
       "        vertical-align: middle;\n",
       "    }\n",
       "\n",
       "    .dataframe tbody tr th {\n",
       "        vertical-align: top;\n",
       "    }\n",
       "\n",
       "    .dataframe thead th {\n",
       "        text-align: right;\n",
       "    }\n",
       "</style>\n",
       "<table border=\"1\" class=\"dataframe\">\n",
       "  <thead>\n",
       "    <tr style=\"text-align: right;\">\n",
       "      <th></th>\n",
       "      <th>messid</th>\n",
       "      <th>bsid</th>\n",
       "      <th>did</th>\n",
       "      <th>nseq</th>\n",
       "      <th>rssi</th>\n",
       "      <th>time_ux</th>\n",
       "      <th>bs_lat</th>\n",
       "      <th>bs_lng</th>\n",
       "      <th>bs_x</th>\n",
       "      <th>bs_y</th>\n",
       "      <th>bs_utm_zone</th>\n",
       "      <th>bs_utm_letter</th>\n",
       "    </tr>\n",
       "  </thead>\n",
       "  <tbody>\n",
       "    <tr>\n",
       "      <th>0</th>\n",
       "      <td>573bf1d9864fce1a9af8c5c9</td>\n",
       "      <td>2841</td>\n",
       "      <td>473335.0</td>\n",
       "      <td>0.5</td>\n",
       "      <td>-121.500000</td>\n",
       "      <td>1.463546e+12</td>\n",
       "      <td>39.617794</td>\n",
       "      <td>-104.954917</td>\n",
       "      <td>503869.635594</td>\n",
       "      <td>4.385338e+06</td>\n",
       "      <td>13</td>\n",
       "      <td>S</td>\n",
       "    </tr>\n",
       "    <tr>\n",
       "      <th>1</th>\n",
       "      <td>573bf1d9864fce1a9af8c5c9</td>\n",
       "      <td>3526</td>\n",
       "      <td>473335.0</td>\n",
       "      <td>2.0</td>\n",
       "      <td>-125.000000</td>\n",
       "      <td>1.463546e+12</td>\n",
       "      <td>39.677251</td>\n",
       "      <td>-104.952721</td>\n",
       "      <td>504054.699417</td>\n",
       "      <td>4.391937e+06</td>\n",
       "      <td>13</td>\n",
       "      <td>S</td>\n",
       "    </tr>\n",
       "    <tr>\n",
       "      <th>2</th>\n",
       "      <td>573bf3533e952e19126b256a</td>\n",
       "      <td>2605</td>\n",
       "      <td>473335.0</td>\n",
       "      <td>1.0</td>\n",
       "      <td>-134.000000</td>\n",
       "      <td>1.463547e+12</td>\n",
       "      <td>39.612745</td>\n",
       "      <td>-105.008827</td>\n",
       "      <td>499242.327010</td>\n",
       "      <td>4.384777e+06</td>\n",
       "      <td>13</td>\n",
       "      <td>S</td>\n",
       "    </tr>\n",
       "    <tr>\n",
       "      <th>3</th>\n",
       "      <td>573c0cd0f0fe6e735a699b93</td>\n",
       "      <td>2610</td>\n",
       "      <td>473953.0</td>\n",
       "      <td>2.0</td>\n",
       "      <td>-132.000000</td>\n",
       "      <td>1.463553e+12</td>\n",
       "      <td>39.797969</td>\n",
       "      <td>-105.073460</td>\n",
       "      <td>493710.997974</td>\n",
       "      <td>4.405337e+06</td>\n",
       "      <td>13</td>\n",
       "      <td>S</td>\n",
       "    </tr>\n",
       "    <tr>\n",
       "      <th>4</th>\n",
       "      <td>573c0cd0f0fe6e735a699b93</td>\n",
       "      <td>3574</td>\n",
       "      <td>473953.0</td>\n",
       "      <td>1.0</td>\n",
       "      <td>-120.000000</td>\n",
       "      <td>1.463553e+12</td>\n",
       "      <td>39.723151</td>\n",
       "      <td>-104.956216</td>\n",
       "      <td>503752.467865</td>\n",
       "      <td>4.397031e+06</td>\n",
       "      <td>13</td>\n",
       "      <td>S</td>\n",
       "    </tr>\n",
       "    <tr>\n",
       "      <th>5</th>\n",
       "      <td>573c0cd0f0fe6e735a699b93</td>\n",
       "      <td>8474</td>\n",
       "      <td>473953.0</td>\n",
       "      <td>2.0</td>\n",
       "      <td>-100.000000</td>\n",
       "      <td>1.463553e+12</td>\n",
       "      <td>39.732045</td>\n",
       "      <td>-104.973651</td>\n",
       "      <td>502257.923837</td>\n",
       "      <td>4.398018e+06</td>\n",
       "      <td>13</td>\n",
       "      <td>S</td>\n",
       "    </tr>\n",
       "    <tr>\n",
       "      <th>6</th>\n",
       "      <td>573c1272f0fe6e735a6cb8bd</td>\n",
       "      <td>1859</td>\n",
       "      <td>476512.0</td>\n",
       "      <td>1.0</td>\n",
       "      <td>-123.333333</td>\n",
       "      <td>1.463555e+12</td>\n",
       "      <td>39.704887</td>\n",
       "      <td>-105.016392</td>\n",
       "      <td>498594.756068</td>\n",
       "      <td>4.395004e+06</td>\n",
       "      <td>13</td>\n",
       "      <td>S</td>\n",
       "    </tr>\n",
       "    <tr>\n",
       "      <th>7</th>\n",
       "      <td>573c1272f0fe6e735a6cb8bd</td>\n",
       "      <td>2605</td>\n",
       "      <td>476512.0</td>\n",
       "      <td>1.0</td>\n",
       "      <td>-129.666667</td>\n",
       "      <td>1.463555e+12</td>\n",
       "      <td>39.612745</td>\n",
       "      <td>-105.008827</td>\n",
       "      <td>499242.327010</td>\n",
       "      <td>4.384777e+06</td>\n",
       "      <td>13</td>\n",
       "      <td>S</td>\n",
       "    </tr>\n",
       "    <tr>\n",
       "      <th>8</th>\n",
       "      <td>573c1272f0fe6e735a6cb8bd</td>\n",
       "      <td>3025</td>\n",
       "      <td>476512.0</td>\n",
       "      <td>1.0</td>\n",
       "      <td>-123.666667</td>\n",
       "      <td>1.463555e+12</td>\n",
       "      <td>39.654682</td>\n",
       "      <td>-105.043685</td>\n",
       "      <td>496252.321609</td>\n",
       "      <td>4.389432e+06</td>\n",
       "      <td>13</td>\n",
       "      <td>S</td>\n",
       "    </tr>\n",
       "    <tr>\n",
       "      <th>9</th>\n",
       "      <td>573c1272f0fe6e735a6cb8bd</td>\n",
       "      <td>8082</td>\n",
       "      <td>476512.0</td>\n",
       "      <td>1.0</td>\n",
       "      <td>-133.000000</td>\n",
       "      <td>1.463555e+12</td>\n",
       "      <td>39.495225</td>\n",
       "      <td>-105.053109</td>\n",
       "      <td>495433.468821</td>\n",
       "      <td>4.371736e+06</td>\n",
       "      <td>13</td>\n",
       "      <td>S</td>\n",
       "    </tr>\n",
       "  </tbody>\n",
       "</table>\n",
       "</div>"
      ],
      "text/plain": [
       "                     messid  bsid       did  nseq        rssi       time_ux  \\\n",
       "0  573bf1d9864fce1a9af8c5c9  2841  473335.0   0.5 -121.500000  1.463546e+12   \n",
       "1  573bf1d9864fce1a9af8c5c9  3526  473335.0   2.0 -125.000000  1.463546e+12   \n",
       "2  573bf3533e952e19126b256a  2605  473335.0   1.0 -134.000000  1.463547e+12   \n",
       "3  573c0cd0f0fe6e735a699b93  2610  473953.0   2.0 -132.000000  1.463553e+12   \n",
       "4  573c0cd0f0fe6e735a699b93  3574  473953.0   1.0 -120.000000  1.463553e+12   \n",
       "5  573c0cd0f0fe6e735a699b93  8474  473953.0   2.0 -100.000000  1.463553e+12   \n",
       "6  573c1272f0fe6e735a6cb8bd  1859  476512.0   1.0 -123.333333  1.463555e+12   \n",
       "7  573c1272f0fe6e735a6cb8bd  2605  476512.0   1.0 -129.666667  1.463555e+12   \n",
       "8  573c1272f0fe6e735a6cb8bd  3025  476512.0   1.0 -123.666667  1.463555e+12   \n",
       "9  573c1272f0fe6e735a6cb8bd  8082  476512.0   1.0 -133.000000  1.463555e+12   \n",
       "\n",
       "      bs_lat      bs_lng           bs_x          bs_y  bs_utm_zone  \\\n",
       "0  39.617794 -104.954917  503869.635594  4.385338e+06           13   \n",
       "1  39.677251 -104.952721  504054.699417  4.391937e+06           13   \n",
       "2  39.612745 -105.008827  499242.327010  4.384777e+06           13   \n",
       "3  39.797969 -105.073460  493710.997974  4.405337e+06           13   \n",
       "4  39.723151 -104.956216  503752.467865  4.397031e+06           13   \n",
       "5  39.732045 -104.973651  502257.923837  4.398018e+06           13   \n",
       "6  39.704887 -105.016392  498594.756068  4.395004e+06           13   \n",
       "7  39.612745 -105.008827  499242.327010  4.384777e+06           13   \n",
       "8  39.654682 -105.043685  496252.321609  4.389432e+06           13   \n",
       "9  39.495225 -105.053109  495433.468821  4.371736e+06           13   \n",
       "\n",
       "  bs_utm_letter  \n",
       "0             S  \n",
       "1             S  \n",
       "2             S  \n",
       "3             S  \n",
       "4             S  \n",
       "5             S  \n",
       "6             S  \n",
       "7             S  \n",
       "8             S  \n",
       "9             S  "
      ]
     },
     "execution_count": 16,
     "metadata": {},
     "output_type": "execute_result"
    }
   ],
   "source": [
    "df_mess_train.head(10)"
   ]
  },
  {
   "cell_type": "markdown",
   "metadata": {},
   "source": [
    "## Construction de la matrice des co-variables (*features*)\n",
    "\n",
    "Pour cette matrice, sont utilisées les 5 meilleures stations de base (BS) qui ont reçu le message. \n",
    "\n",
    "Les coordonnées sont calculées en relatif par rapport au barycentre de ces BS en utilisant la moyenne géométrique."
   ]
  },
  {
   "cell_type": "code",
   "execution_count": 17,
   "metadata": {},
   "outputs": [
    {
     "name": "stdout",
     "output_type": "stream",
     "text": [
      "(6068, 20)\n"
     ]
    },
    {
     "data": {
      "text/html": [
       "<div>\n",
       "<style scoped>\n",
       "    .dataframe tbody tr th:only-of-type {\n",
       "        vertical-align: middle;\n",
       "    }\n",
       "\n",
       "    .dataframe tbody tr th {\n",
       "        vertical-align: top;\n",
       "    }\n",
       "\n",
       "    .dataframe thead th {\n",
       "        text-align: right;\n",
       "    }\n",
       "</style>\n",
       "<table border=\"1\" class=\"dataframe\">\n",
       "  <thead>\n",
       "    <tr style=\"text-align: right;\">\n",
       "      <th></th>\n",
       "      <th></th>\n",
       "      <th>did</th>\n",
       "      <th>pivot_lat</th>\n",
       "      <th>pivot_lng</th>\n",
       "      <th>pivot_utm_zone</th>\n",
       "      <th>bs0_deltalat</th>\n",
       "      <th>bs0_deltalng</th>\n",
       "      <th>bs0_rssi</th>\n",
       "      <th>bs1_deltalat</th>\n",
       "      <th>bs1_deltalng</th>\n",
       "      <th>bs1_rssi</th>\n",
       "      <th>bs2_deltalat</th>\n",
       "      <th>bs2_deltalng</th>\n",
       "      <th>bs2_rssi</th>\n",
       "      <th>bs3_deltalat</th>\n",
       "      <th>bs3_deltalng</th>\n",
       "      <th>bs3_rssi</th>\n",
       "      <th>bs4_deltalat</th>\n",
       "      <th>bs4_deltalng</th>\n",
       "      <th>bs4_rssi</th>\n",
       "      <th>pivot_utm_letter</th>\n",
       "    </tr>\n",
       "    <tr>\n",
       "      <th>messid</th>\n",
       "      <th></th>\n",
       "      <th></th>\n",
       "      <th></th>\n",
       "      <th></th>\n",
       "      <th></th>\n",
       "      <th></th>\n",
       "      <th></th>\n",
       "      <th></th>\n",
       "      <th></th>\n",
       "      <th></th>\n",
       "      <th></th>\n",
       "      <th></th>\n",
       "      <th></th>\n",
       "      <th></th>\n",
       "      <th></th>\n",
       "      <th></th>\n",
       "      <th></th>\n",
       "      <th></th>\n",
       "      <th></th>\n",
       "      <th></th>\n",
       "      <th></th>\n",
       "    </tr>\n",
       "  </thead>\n",
       "  <tbody>\n",
       "    <tr>\n",
       "      <th>573bf1d9864fce1a9af8c5c9</th>\n",
       "      <th>0</th>\n",
       "      <td>473335.0</td>\n",
       "      <td>4.385532e+06</td>\n",
       "      <td>503875.059261</td>\n",
       "      <td>13.0</td>\n",
       "      <td>-1.932865e+02</td>\n",
       "      <td>-5.423667e+00</td>\n",
       "      <td>-121.500000</td>\n",
       "      <td>6405.584046</td>\n",
       "      <td>179.640156</td>\n",
       "      <td>-125.000000</td>\n",
       "      <td>0.000000</td>\n",
       "      <td>0.000000</td>\n",
       "      <td>-1000.000000</td>\n",
       "      <td>0.000000</td>\n",
       "      <td>0.000000</td>\n",
       "      <td>-1000.000000</td>\n",
       "      <td>0.000000</td>\n",
       "      <td>0.000000</td>\n",
       "      <td>-1000.0</td>\n",
       "      <td>S</td>\n",
       "    </tr>\n",
       "    <tr>\n",
       "      <th>573bf3533e952e19126b256a</th>\n",
       "      <th>0</th>\n",
       "      <td>473335.0</td>\n",
       "      <td>4.384777e+06</td>\n",
       "      <td>499242.327010</td>\n",
       "      <td>13.0</td>\n",
       "      <td>3.725290e-09</td>\n",
       "      <td>-2.328306e-10</td>\n",
       "      <td>-134.000000</td>\n",
       "      <td>0.000000</td>\n",
       "      <td>0.000000</td>\n",
       "      <td>-1000.000000</td>\n",
       "      <td>0.000000</td>\n",
       "      <td>0.000000</td>\n",
       "      <td>-1000.000000</td>\n",
       "      <td>0.000000</td>\n",
       "      <td>0.000000</td>\n",
       "      <td>-1000.000000</td>\n",
       "      <td>0.000000</td>\n",
       "      <td>0.000000</td>\n",
       "      <td>-1000.0</td>\n",
       "      <td>S</td>\n",
       "    </tr>\n",
       "    <tr>\n",
       "      <th>573c0cd0f0fe6e735a699b93</th>\n",
       "      <th>0</th>\n",
       "      <td>473953.0</td>\n",
       "      <td>4.398018e+06</td>\n",
       "      <td>502257.923840</td>\n",
       "      <td>13.0</td>\n",
       "      <td>2.033077e-06</td>\n",
       "      <td>-3.075635e-06</td>\n",
       "      <td>-100.000000</td>\n",
       "      <td>-986.550840</td>\n",
       "      <td>1494.544025</td>\n",
       "      <td>-120.000000</td>\n",
       "      <td>7318.848418</td>\n",
       "      <td>-8546.925867</td>\n",
       "      <td>-132.000000</td>\n",
       "      <td>0.000000</td>\n",
       "      <td>0.000000</td>\n",
       "      <td>-1000.000000</td>\n",
       "      <td>0.000000</td>\n",
       "      <td>0.000000</td>\n",
       "      <td>-1000.0</td>\n",
       "      <td>S</td>\n",
       "    </tr>\n",
       "    <tr>\n",
       "      <th>573c1272f0fe6e735a6cb8bd</th>\n",
       "      <th>0</th>\n",
       "      <td>476512.0</td>\n",
       "      <td>4.392668e+06</td>\n",
       "      <td>497617.210698</td>\n",
       "      <td>13.0</td>\n",
       "      <td>2.335382e+03</td>\n",
       "      <td>9.775454e+02</td>\n",
       "      <td>-123.333333</td>\n",
       "      <td>-3235.797476</td>\n",
       "      <td>-1364.889089</td>\n",
       "      <td>-123.666667</td>\n",
       "      <td>-7891.007033</td>\n",
       "      <td>1625.116312</td>\n",
       "      <td>-129.666667</td>\n",
       "      <td>-20932.262557</td>\n",
       "      <td>-2183.741877</td>\n",
       "      <td>-133.000000</td>\n",
       "      <td>0.000000</td>\n",
       "      <td>0.000000</td>\n",
       "      <td>-1000.0</td>\n",
       "      <td>S</td>\n",
       "    </tr>\n",
       "    <tr>\n",
       "      <th>573c8ea8864fce1a9a5fbf7a</th>\n",
       "      <th>0</th>\n",
       "      <td>476286.0</td>\n",
       "      <td>4.400569e+06</td>\n",
       "      <td>496289.728728</td>\n",
       "      <td>13.0</td>\n",
       "      <td>-2.606393e-01</td>\n",
       "      <td>-2.428322e-01</td>\n",
       "      <td>-98.000000</td>\n",
       "      <td>733.222531</td>\n",
       "      <td>1504.382903</td>\n",
       "      <td>-106.666667</td>\n",
       "      <td>2934.604628</td>\n",
       "      <td>219.650015</td>\n",
       "      <td>-108.000000</td>\n",
       "      <td>41.528627</td>\n",
       "      <td>-1121.676250</td>\n",
       "      <td>-108.666667</td>\n",
       "      <td>1874.057762</td>\n",
       "      <td>2903.862033</td>\n",
       "      <td>-114.0</td>\n",
       "      <td>S</td>\n",
       "    </tr>\n",
       "  </tbody>\n",
       "</table>\n",
       "</div>"
      ],
      "text/plain": [
       "                                 did     pivot_lat      pivot_lng  \\\n",
       "messid                                                              \n",
       "573bf1d9864fce1a9af8c5c9 0  473335.0  4.385532e+06  503875.059261   \n",
       "573bf3533e952e19126b256a 0  473335.0  4.384777e+06  499242.327010   \n",
       "573c0cd0f0fe6e735a699b93 0  473953.0  4.398018e+06  502257.923840   \n",
       "573c1272f0fe6e735a6cb8bd 0  476512.0  4.392668e+06  497617.210698   \n",
       "573c8ea8864fce1a9a5fbf7a 0  476286.0  4.400569e+06  496289.728728   \n",
       "\n",
       "                            pivot_utm_zone  bs0_deltalat  bs0_deltalng  \\\n",
       "messid                                                                   \n",
       "573bf1d9864fce1a9af8c5c9 0            13.0 -1.932865e+02 -5.423667e+00   \n",
       "573bf3533e952e19126b256a 0            13.0  3.725290e-09 -2.328306e-10   \n",
       "573c0cd0f0fe6e735a699b93 0            13.0  2.033077e-06 -3.075635e-06   \n",
       "573c1272f0fe6e735a6cb8bd 0            13.0  2.335382e+03  9.775454e+02   \n",
       "573c8ea8864fce1a9a5fbf7a 0            13.0 -2.606393e-01 -2.428322e-01   \n",
       "\n",
       "                              bs0_rssi  bs1_deltalat  bs1_deltalng  \\\n",
       "messid                                                               \n",
       "573bf1d9864fce1a9af8c5c9 0 -121.500000   6405.584046    179.640156   \n",
       "573bf3533e952e19126b256a 0 -134.000000      0.000000      0.000000   \n",
       "573c0cd0f0fe6e735a699b93 0 -100.000000   -986.550840   1494.544025   \n",
       "573c1272f0fe6e735a6cb8bd 0 -123.333333  -3235.797476  -1364.889089   \n",
       "573c8ea8864fce1a9a5fbf7a 0  -98.000000    733.222531   1504.382903   \n",
       "\n",
       "                               bs1_rssi  bs2_deltalat  bs2_deltalng  \\\n",
       "messid                                                                \n",
       "573bf1d9864fce1a9af8c5c9 0  -125.000000      0.000000      0.000000   \n",
       "573bf3533e952e19126b256a 0 -1000.000000      0.000000      0.000000   \n",
       "573c0cd0f0fe6e735a699b93 0  -120.000000   7318.848418  -8546.925867   \n",
       "573c1272f0fe6e735a6cb8bd 0  -123.666667  -7891.007033   1625.116312   \n",
       "573c8ea8864fce1a9a5fbf7a 0  -106.666667   2934.604628    219.650015   \n",
       "\n",
       "                               bs2_rssi  bs3_deltalat  bs3_deltalng  \\\n",
       "messid                                                                \n",
       "573bf1d9864fce1a9af8c5c9 0 -1000.000000      0.000000      0.000000   \n",
       "573bf3533e952e19126b256a 0 -1000.000000      0.000000      0.000000   \n",
       "573c0cd0f0fe6e735a699b93 0  -132.000000      0.000000      0.000000   \n",
       "573c1272f0fe6e735a6cb8bd 0  -129.666667 -20932.262557  -2183.741877   \n",
       "573c8ea8864fce1a9a5fbf7a 0  -108.000000     41.528627  -1121.676250   \n",
       "\n",
       "                               bs3_rssi  bs4_deltalat  bs4_deltalng  bs4_rssi  \\\n",
       "messid                                                                          \n",
       "573bf1d9864fce1a9af8c5c9 0 -1000.000000      0.000000      0.000000   -1000.0   \n",
       "573bf3533e952e19126b256a 0 -1000.000000      0.000000      0.000000   -1000.0   \n",
       "573c0cd0f0fe6e735a699b93 0 -1000.000000      0.000000      0.000000   -1000.0   \n",
       "573c1272f0fe6e735a6cb8bd 0  -133.000000      0.000000      0.000000   -1000.0   \n",
       "573c8ea8864fce1a9a5fbf7a 0  -108.666667   1874.057762   2903.862033    -114.0   \n",
       "\n",
       "                           pivot_utm_letter  \n",
       "messid                                       \n",
       "573bf1d9864fce1a9af8c5c9 0                S  \n",
       "573bf3533e952e19126b256a 0                S  \n",
       "573c0cd0f0fe6e735a699b93 0                S  \n",
       "573c1272f0fe6e735a6cb8bd 0                S  \n",
       "573c8ea8864fce1a9a5fbf7a 0                S  "
      ]
     },
     "execution_count": 17,
     "metadata": {},
     "output_type": "execute_result"
    }
   ],
   "source": [
    "def feat_mat_const(df, listOfBs, keepMax=5):\n",
    "    \"\"\" Feature Matrix construction \"\"\"\n",
    "    \n",
    "    aggCols = ['did', 'pivot_lat', 'pivot_lng', 'pivot_utm_zone'] #'pivot_utm_letter'\n",
    "    for i in range(keepMax):\n",
    "        bsCols =[f\"bs{i:d}_deltalat\",\n",
    "                 f\"bs{i:d}_deltalng\", \n",
    "                 f\"bs{i:d}_rssi\"] #, 'bs%d_nseq' % i 'bs%d_active' % i, \n",
    "        aggCols = aggCols + bsCols\n",
    "        \n",
    "    def aggregateBaseStations(groupBy):\n",
    "        \"\"\" From a RSSI sorted DataFrameGroupBy\n",
    "            create a dataframe with the 3 best BS \n",
    "        \"\"\"\n",
    "        \n",
    "        did = groupBy['did'][0]\n",
    "        utm_zone = groupBy['bs_utm_zone'][0]\n",
    "        utm_letter = groupBy['bs_utm_letter'][0]\n",
    "        bsSet = groupBy.iloc[:keepMax]\n",
    "            \n",
    "        # Barycentre par moyenne geometrique\n",
    "        w_geom = np.exp(bsSet['rssi']) / np.sum(np.exp(bsSet['rssi']))\n",
    "        \n",
    "        x_geom = np.exp(np.sum(w_geom * np.log(bsSet['bs_x'])) / np.sum(w_geom))\n",
    "        y_geom = np.exp(np.sum(w_geom * np.log(bsSet['bs_y'])) / np.sum(w_geom))\n",
    "        \n",
    "        # Barycentre par moyenne arithmétique\n",
    "        w_arm = bsSet['rssi'] / np.sum(bsSet['rssi'])\n",
    "        \n",
    "        x_arm = np.average(bsSet['bs_x'], weights=w_arm)\n",
    "        y_arm = np.average(bsSet['bs_y'], weights=w_arm)\n",
    "        \n",
    "        bss = []\n",
    "        for i in range(keepMax):\n",
    "            if len(bsSet) > i:\n",
    "                b = bsSet.iloc[i]\n",
    "                dx = b['bs_x'] - x_geom\n",
    "                dy = b['bs_y'] - y_geom\n",
    "                bss.append([dy, dx, b['rssi']])\n",
    "            else:\n",
    "                bss.append([0, 0, -1e3])\n",
    "        df_out = pd.DataFrame(np.concatenate([[did, y_geom, x_geom, utm_zone], np.array(bss).ravel()]).reshape(1, -1), \n",
    "                            columns=aggCols)\n",
    "        # Do not concatenate with Numpy otherwise everything is converted to string\n",
    "        df_out['pivot_utm_letter'] = utm_letter\n",
    "        \n",
    "        return df_out\n",
    "            \n",
    "    \n",
    "    # Keep at max keepMax base-stations per message\n",
    "    df = df.groupby('messid') \\\n",
    "           .apply(lambda x: x.sort_values(['rssi'], ascending=False)) \\\n",
    "           .reset_index(drop=True).groupby('messid') \\\n",
    "           .apply(aggregateBaseStations)\n",
    "    \n",
    "    return df\n",
    "\n",
    "\n",
    "# build the matrix\n",
    "df_feat = feat_mat_const(df_mess_train, listOfBs, 5)\n",
    "\n",
    "# Faut il garder cette ligne?\n",
    "df_feat_red = df_feat.drop(['did', 'pivot_utm_zone', 'pivot_utm_letter'], axis=1)\n",
    "\n",
    "print(df_feat.shape)\n",
    "df_feat.head()"
   ]
  },
  {
   "cell_type": "code",
   "execution_count": 18,
   "metadata": {},
   "outputs": [
    {
     "data": {
      "text/html": [
       "<div>\n",
       "<style scoped>\n",
       "    .dataframe tbody tr th:only-of-type {\n",
       "        vertical-align: middle;\n",
       "    }\n",
       "\n",
       "    .dataframe tbody tr th {\n",
       "        vertical-align: top;\n",
       "    }\n",
       "\n",
       "    .dataframe thead th {\n",
       "        text-align: right;\n",
       "    }\n",
       "</style>\n",
       "<table border=\"1\" class=\"dataframe\">\n",
       "  <thead>\n",
       "    <tr style=\"text-align: right;\">\n",
       "      <th></th>\n",
       "      <th>x</th>\n",
       "      <th>y</th>\n",
       "      <th>utm_zone</th>\n",
       "      <th>utm_letter</th>\n",
       "    </tr>\n",
       "    <tr>\n",
       "      <th>messid</th>\n",
       "      <th></th>\n",
       "      <th></th>\n",
       "      <th></th>\n",
       "      <th></th>\n",
       "    </tr>\n",
       "  </thead>\n",
       "  <tbody>\n",
       "    <tr>\n",
       "      <th>573bf1d9864fce1a9af8c5c9</th>\n",
       "      <td>503563.532188</td>\n",
       "      <td>4.384106e+06</td>\n",
       "      <td>13</td>\n",
       "      <td>S</td>\n",
       "    </tr>\n",
       "    <tr>\n",
       "      <th>573bf3533e952e19126b256a</th>\n",
       "      <td>503556.428875</td>\n",
       "      <td>4.387552e+06</td>\n",
       "      <td>13</td>\n",
       "      <td>S</td>\n",
       "    </tr>\n",
       "    <tr>\n",
       "      <th>573c0cd0f0fe6e735a699b93</th>\n",
       "      <td>502661.655787</td>\n",
       "      <td>4.397837e+06</td>\n",
       "      <td>13</td>\n",
       "      <td>S</td>\n",
       "    </tr>\n",
       "    <tr>\n",
       "      <th>573c1272f0fe6e735a6cb8bd</th>\n",
       "      <td>499400.220948</td>\n",
       "      <td>4.393695e+06</td>\n",
       "      <td>13</td>\n",
       "      <td>S</td>\n",
       "    </tr>\n",
       "    <tr>\n",
       "      <th>573c8ea8864fce1a9a5fbf7a</th>\n",
       "      <td>495629.964268</td>\n",
       "      <td>4.400918e+06</td>\n",
       "      <td>13</td>\n",
       "      <td>S</td>\n",
       "    </tr>\n",
       "  </tbody>\n",
       "</table>\n",
       "</div>"
      ],
      "text/plain": [
       "                                      x             y  utm_zone utm_letter\n",
       "messid                                                                    \n",
       "573bf1d9864fce1a9af8c5c9  503563.532188  4.384106e+06        13          S\n",
       "573bf3533e952e19126b256a  503556.428875  4.387552e+06        13          S\n",
       "573c0cd0f0fe6e735a699b93  502661.655787  4.397837e+06        13          S\n",
       "573c1272f0fe6e735a6cb8bd  499400.220948  4.393695e+06        13          S\n",
       "573c8ea8864fce1a9a5fbf7a  495629.964268  4.400918e+06        13          S"
      ]
     },
     "execution_count": 18,
     "metadata": {},
     "output_type": "execute_result"
    }
   ],
   "source": [
    "def ground_truth_const(df_mess_train, pos_train):\n",
    "    \"\"\"\n",
    "    Ground truth construction\n",
    "    \"\"\"\n",
    "    \n",
    "    df = pd.concat([df_mess_train[['messid']], pos_train], axis=1)\n",
    "    df_mean   = df.groupby('messid').mean()\n",
    "    df_letter = df.groupby('messid') \\\n",
    "                  .head(1)[['messid', 'utm_letter']] \\\n",
    "                  .set_index('messid')\n",
    "    \n",
    "    return pd.concat([df_mean[['x', 'y', 'utm_zone']], df_letter], axis=1)\n",
    "\n",
    "\n",
    "ground_truth = ground_truth_const(df_mess_train, pos_train)\n",
    "\n",
    "ground_truth.head()"
   ]
  },
  {
   "cell_type": "markdown",
   "metadata": {},
   "source": [
    "## Routines d'évaluation"
   ]
  },
  {
   "cell_type": "code",
   "execution_count": 19,
   "metadata": {},
   "outputs": [],
   "source": [
    "def vincenty_vec(vec_coord):\n",
    "    \"\"\"\n",
    "    Now using geodesic distance instead of Vincenty\n",
    "    \"\"\"\n",
    "    \n",
    "    vin_vec_dist = np.zeros(vec_coord.shape[0])\n",
    "    \n",
    "    if vec_coord.shape[1] != 4:\n",
    "        print('ERROR: Bad number of columns (shall be = 4)')\n",
    "    else:\n",
    "        vin_vec_dist = [geodesic(v[0:2], v[2:]).meters for v in vec_coord]\n",
    "\n",
    "    return vin_vec_dist"
   ]
  },
  {
   "cell_type": "code",
   "execution_count": 20,
   "metadata": {},
   "outputs": [],
   "source": [
    "def eval_geoloc(y_train_lat, y_train_lng, y_pred_lat, y_pred_lng):\n",
    "    \"\"\"\n",
    "    Evaluate distance error for each predicted point\n",
    "    \"\"\"\n",
    "\n",
    "    vec_coord = np.array([y_train_lat, y_train_lng, y_pred_lat, y_pred_lng])\n",
    "    err_vec = vincenty_vec(np.transpose(vec_coord))\n",
    "\n",
    "    return err_vec"
   ]
  },
  {
   "cell_type": "code",
   "execution_count": 21,
   "metadata": {},
   "outputs": [],
   "source": [
    "def plotError(err_vec):\n",
    "    \"\"\"\n",
    "    Plot error cumulative distribution and the 80 quantile\n",
    "    \"\"\"\n",
    "\n",
    "    err80 = np.percentile(err_vec, 80)\n",
    "\n",
    "    print(f\"error @ 80% = {err80:.1f} m\")\n",
    "\n",
    "    values, base = np.histogram(err_vec, bins=50000)\n",
    "    cumulative = np.cumsum(values)\n",
    "\n",
    "    plt.figure()\n",
    "    plt.grid()\n",
    "\n",
    "    plt.plot(base[:-1]/1000, cumulative / np.float(np.sum(values)) * 100.0,\n",
    "             label=\"Opt LLR\", c='blue')\n",
    "\n",
    "    # plot error @ 80%\n",
    "    plt.axvline(x=err80/1000., ymin=0, ymax=100,\n",
    "                linestyle='dashed', color='red')\n",
    "\n",
    "    plt.xlabel('Distance Error (km)')\n",
    "    plt.ylabel('Cum proba (%)')\n",
    "    plt.axis([0, 30, 0, 100])\n",
    "\n",
    "    plt.title('Error Cumulative Probability')\n",
    "\n",
    "    plt.legend()"
   ]
  },
  {
   "cell_type": "markdown",
   "metadata": {},
   "source": [
    "# Modèles basé sur des réseaux de neurones (DNN)"
   ]
  },
  {
   "cell_type": "code",
   "execution_count": 22,
   "metadata": {},
   "outputs": [],
   "source": [
    "xtrain, xtest, ytrain, ytest = model_selection.train_test_split(df_feat_red.values,\n",
    "                                                                ground_truth[['y', 'x']],\n",
    "                                                                test_size=0.1)\n",
    "\n",
    "# Normalize data to get proper network optimization\n",
    "scaleX = preprocessing.StandardScaler()\n",
    "scaleX.fit(xtrain)\n",
    "\n",
    "xtrain = scaleX.transform(xtrain)\n",
    "xtest = scaleX.transform(xtest)\n",
    "\n",
    "scaleY = preprocessing.StandardScaler()\n",
    "scaleY.fit(ytrain)\n",
    "\n",
    "ytrain = scaleY.transform(ytrain)\n",
    "# NO ytest = scaleY.transform(ytest)"
   ]
  },
  {
   "cell_type": "code",
   "execution_count": 23,
   "metadata": {},
   "outputs": [
    {
     "name": "stdout",
     "output_type": "stream",
     "text": [
      "Model: \"sequential\"\n",
      "_________________________________________________________________\n",
      "Layer (type)                 Output Shape              Param #   \n",
      "=================================================================\n",
      "dense_1 (Dense)              (None, 128)               2304      \n",
      "_________________________________________________________________\n",
      "dropout (Dropout)            (None, 128)               0         \n",
      "_________________________________________________________________\n",
      "dense_2 (Dense)              (None, 32)                4128      \n",
      "_________________________________________________________________\n",
      "dense_3 (Dense)              (None, 2)                 66        \n",
      "=================================================================\n",
      "Total params: 6,498\n",
      "Trainable params: 6,498\n",
      "Non-trainable params: 0\n",
      "_________________________________________________________________\n"
     ]
    }
   ],
   "source": [
    "model1 = models.Sequential([\n",
    "    layers.Dense(128, name='dense_1', activation=activations.relu,\n",
    "                 input_shape=[df_feat_red.shape[1]]),\n",
    "    layers.Dropout(0.01),\n",
    "    layers.Dense(32, name='dense_2', activation=activations.relu),\n",
    "   #  layers.Dropout(0.01),\n",
    "    layers.Dense(2, name='dense_3', activation=activations.linear),\n",
    "])\n",
    "\n",
    "model1.compile(optimizer='adam',\n",
    "          loss=losses.MeanSquaredError())\n",
    "    \n",
    "model1.summary()\n",
    "\n",
    "metricNames = ['Loss']"
   ]
  },
  {
   "cell_type": "code",
   "execution_count": 24,
   "metadata": {},
   "outputs": [
    {
     "data": {
      "image/png": "[encoded data removed]",
      "text/plain": [
       "<Figure size 864x576 with 1 Axes>"
      ]
     },
     "metadata": {
      "needs_background": "light"
     },
     "output_type": "display_data"
    }
   ],
   "source": [
    "nEpochs = 96\n",
    "batchSize = 64\n",
    "\n",
    "tvPlot = tv.train.PlotMetricsOnEpoch(metrics_name=metricNames,\n",
    "                                     cell_size=(6,4),\n",
    "                                     columns=2,\n",
    "                                     iter_num=nEpochs, wait_num=1)\n",
    "\n",
    "history1 = model1.fit(xtrain, ytrain,\n",
    "                      epochs=nEpochs,\n",
    "                      batch_size=batchSize, \n",
    "                      validation_split=0.1, \n",
    "                      verbose=0,\n",
    "                      callbacks=[tvPlot]);"
   ]
  },
  {
   "cell_type": "code",
   "execution_count": 27,
   "metadata": {},
   "outputs": [
    {
     "data": {
      "image/png": "[encoded data removed]",
      "text/plain": [
       "<Figure size 432x288 with 1 Axes>"
      ]
     },
     "metadata": {
      "needs_background": "light"
     },
     "output_type": "display_data"
    }
   ],
   "source": [
    "weights1 = model1.get_weights()\n",
    "\n",
    "fig = plt.figure()\n",
    "\n",
    "plt.grid()\n",
    "plt.hist(weights1[0].ravel(), bins=30);"
   ]
  },
  {
   "cell_type": "markdown",
   "metadata": {},
   "source": [
    "### Evaluation du DNN"
   ]
  },
  {
   "cell_type": "code",
   "execution_count": 26,
   "metadata": {},
   "outputs": [],
   "source": [
    "yEst = model1.predict(xtest)\n",
    "yEst = scaleY.inverse_transform(yEst)"
   ]
  },
  {
   "cell_type": "code",
   "execution_count": 29,
   "metadata": {},
   "outputs": [
    {
     "name": "stdout",
     "output_type": "stream",
     "text": [
      "error @ 80% = 4679.2 m\n"
     ]
    },
    {
     "data": {
      "image/png": "[encoded data removed]",
      "text/plain": [
       "<Figure size 432x288 with 1 Axes>"
      ]
     },
     "metadata": {
      "needs_background": "light"
     },
     "output_type": "display_data"
    }
   ],
   "source": [
    "# The coordinates are in true X,Y for distance computation (UTM => directly in meters)\n",
    "#delta_y = yEst[:, 0] - ytest[:, 0]\n",
    "#delta_x = yEst[:, 1] - ytest[:, 1]\n",
    "\n",
    "delta_y = yEst[:, 0] - ytest.values[:,0]\n",
    "delta_x = yEst[:, 1] - ytest.values[:,1]\n",
    "\n",
    "dnnErr_vec = np.sqrt(delta_x**2 + delta_y**2)\n",
    "\n",
    "plotError(dnnErr_vec)"
   ]
  },
  {
   "cell_type": "markdown",
   "metadata": {},
   "source": [
    "## DNN avec validation \"leave out device K fold\"\n",
    "\n",
    "Utilisation de GroupKFold de Scikit Learn, génère K fold en évitant que les éléments d'un groupe se trouvent dans le train et le valid. K=24 est choisit pour avoir une distribution des performances (voir histogramme ci-dessous)."
   ]
  },
  {
   "cell_type": "code",
   "execution_count": 30,
   "metadata": {},
   "outputs": [],
   "source": [
    "gkl1o = model_selection.GroupKFold(24) #model_selection.LeaveOneGroupOut()"
   ]
  },
  {
   "cell_type": "code",
   "execution_count": 31,
   "metadata": {},
   "outputs": [],
   "source": [
    "scaleX = preprocessing.StandardScaler()\n",
    "scaleX.fit(df_feat_red)\n",
    "df_feat_scaled = scaleX.transform(df_feat_red)\n",
    "\n",
    "scaleY = preprocessing.StandardScaler()\n",
    "scaleY.fit(ground_truth[['y', 'x']])\n",
    "yscaled = scaleY.transform(ground_truth[['y', 'x']])"
   ]
  },
  {
   "cell_type": "code",
   "execution_count": 32,
   "metadata": {},
   "outputs": [
    {
     "name": "stdout",
     "output_type": "stream",
     "text": [
      "Split # 4\n",
      "Split # 8\n",
      "Split # 12\n",
      "Split # 16\n",
      "Split # 20\n",
      "Split # 24\n"
     ]
    }
   ],
   "source": [
    "nEpochs = 96\n",
    "\n",
    "errors80Dnn = []\n",
    "i = 0\n",
    "for train, val in gkl1o.split(df_feat, groups=df_feat['did']):\n",
    "    \n",
    "    i+=1\n",
    "    if i % 4 == 0:\n",
    "        print('Split #', i)  \n",
    "    \n",
    "    xtrain = df_feat_scaled[train]\n",
    "    xval = df_feat_scaled[val]\n",
    "    ytrain = yscaled[train]\n",
    "    yval = yscaled[val]\n",
    "    \n",
    "    model1.reset_states()\n",
    "    model1.fit(xtrain, ytrain,\n",
    "               epochs=nEpochs,\n",
    "               batch_size=batchSize, \n",
    "               validation_data=(xval, yval),\n",
    "               verbose=0)\n",
    "    \n",
    "    # Evaluate\n",
    "    yEst = model1.predict(xval)\n",
    "    yEst = scaleY.inverse_transform(yEst)\n",
    "    \n",
    "    delta_y = yEst[:,0] - ground_truth['y'][val]\n",
    "    delta_x = yEst[:,1] - ground_truth['x'][val]\n",
    "    \n",
    "    # Estimates are in delta of UTM coordinates => meters\n",
    "    dnnErr_vec = np.sqrt(delta_x**2 + delta_y**2)\n",
    "    err80 = np.percentile(dnnErr_vec, 80)\n",
    "    #print('Err @ 80%%, %.1fm' % (err80))\n",
    "    errors80Dnn.append(err80) "
   ]
  },
  {
   "cell_type": "markdown",
   "metadata": {},
   "source": [
    "# Modèle de gradient boosting ( LightGBM) \n",
    "\n",
    "## LGBM avec validation \"Leave out device K fold\""
   ]
  },
  {
   "cell_type": "code",
   "execution_count": null,
   "metadata": {},
   "outputs": [],
   "source": [
    "df_feat.head()"
   ]
  },
  {
   "cell_type": "code",
   "execution_count": null,
   "metadata": {},
   "outputs": [
    {
     "name": "stdout",
     "output_type": "stream",
     "text": [
      "Split # 4\n"
     ]
    }
   ],
   "source": [
    "params = {\n",
    "    'boosting_type': 'gbdt',\n",
    "    'objective': 'regression',\n",
    "    'metric': {'l2', 'l1'},\n",
    "    'num_leaves': 250,\n",
    "    'learning_rate': 0.02,\n",
    "    'feature_fraction': 0.9,\n",
    "    'bagging_fraction': 0.8,\n",
    "    'bagging_freq': 5,\n",
    "    'verbose': 0\n",
    "}\n",
    "\n",
    "errors80Lgbm = []\n",
    "lgbmModels = []\n",
    "i = 0\n",
    "for train, val in gkl1o.split(df_feat, groups=df_feat['did']):\n",
    "    i+=1\n",
    "    if i % 4 == 0:\n",
    "        print('Split #', i)\n",
    "    \n",
    "    xtrain = df_feat_red.values[train]\n",
    "    xval = df_feat_red.values[val]\n",
    "    \n",
    "    lat_train = lightgbm.Dataset(xtrain, ground_truth['y'][train])\n",
    "    lat_valid = lightgbm.Dataset(xval, ground_truth['y'][val])\n",
    "    model_lat = lightgbm.train(params,\n",
    "                           lat_train,\n",
    "                           valid_sets=lat_valid,\n",
    "                           num_boost_round=5000,\n",
    "                           early_stopping_rounds=250,verbose_eval=False) \n",
    "\n",
    "    lng_train = lightgbm.Dataset(xtrain, ground_truth['x'][train])\n",
    "    lng_valid = lightgbm.Dataset(xval, ground_truth['x'][val])\n",
    "    model_lng = lightgbm.train(params,\n",
    "                           lng_train,\n",
    "                           valid_sets=lng_valid,\n",
    "                           num_boost_round=5000,\n",
    "                           early_stopping_rounds=250,verbose_eval=False) \n",
    "\n",
    "    # Evaluate\n",
    "    lat_pred = model_lat.predict(xval)\n",
    "    lng_pred = model_lng.predict(xval)\n",
    "    \n",
    "    delta_y = lat_pred - ground_truth['y'][val]\n",
    "    delta_x = lng_pred - ground_truth['x'][val]\n",
    "    \n",
    "    # Estimates are in delta of UTM coordinates => meters\n",
    "    lgbmErr_vec = np.sqrt(delta_x**2 + delta_y**2)\n",
    "    err80 = np.percentile(lgbmErr_vec, 80)\n",
    "    errors80Lgbm.append(err80) \n",
    "    lgbmModels.append([model_lat, model_lng])"
   ]
  },
  {
   "cell_type": "code",
   "execution_count": null,
   "metadata": {},
   "outputs": [],
   "source": [
    "#lat_pred = model_lat.predict(xtest)\n",
    "#lng_pred = model_lng.predict(xtest)\n",
    "#\n",
    "#lgbmErr_vec = eval_geoloc(ytest[:,0], ytest[:,1], lat_pred, lng_pred)\n",
    "#plotError(lgbmErr_vec)"
   ]
  },
  {
   "cell_type": "code",
   "execution_count": null,
   "metadata": {},
   "outputs": [],
   "source": [
    "def lgbmPredict(models, X, degreeOutput):\n",
    "    \n",
    "    X_red = X.drop(['did', 'pivot_utm_zone',  'pivot_utm_letter'], axis=1)\n",
    "    \n",
    "    lat, lng = np.zeros(len(X_red)), np.zeros(len(X_red))\n",
    "    for m in models:\n",
    "        lat += m[0].predict(X_red)\n",
    "        lng += m[1].predict(X_red)\n",
    "    \n",
    "    lat = lat / len(models)\n",
    "    lng = lng / len(models)\n",
    "    \n",
    "    if degreeOutput:\n",
    "        lat_out, lng_out = np.empty(len(lat)), np.empty(len(lng))\n",
    "        for i, (y, x, uz, ul) in enumerate(zip(lat, lng, X['pivot_utm_zone'], X['pivot_utm_letter'])):\n",
    "            a, b = xy_to_latlon(x, y, uz, ul)\n",
    "            lat_out[i] = a\n",
    "            lng_out[i] = b\n",
    "        return lat_out, lng_out\n",
    "    else:\n",
    "        return lat, lng"
   ]
  },
  {
   "cell_type": "markdown",
   "metadata": {},
   "source": [
    "## Graphique comparatif des modèles"
   ]
  },
  {
   "cell_type": "code",
   "execution_count": null,
   "metadata": {},
   "outputs": [],
   "source": [
    "bins = np.arange(1, 36) * 1000\n",
    "\n",
    "errorMeanOverDevicesDnn = np.array(errors80Dnn).mean()\n",
    "errorMeanOverDevicesLgbm = np.array(errors80Lgbm).mean()\n",
    "\n",
    "print('Mean error over device folds @ 80%%, DNN : %.1fm, LGBM : %.1fm' % \\\n",
    "          (errorMeanOverDevicesDnn, errorMeanOverDevicesLgbm))\n",
    "\n",
    "fig, ax = plt.subplots(figsize=(15, 6))\n",
    "\n",
    "ax.grid()\n",
    "\n",
    "ax.set_title('Histogram of error on the 1 device out')\n",
    "\n",
    "ax.set_xlabel('Error@ 80%[m]')\n",
    "\n",
    "ax.hist(errors80Dnn,  bins=bins, alpha=0.7, label='DNN')\n",
    "ax.hist(errors80Lgbm, bins=bins, alpha=0.7, label='LGBM')\n",
    "\n",
    "ax.axvline(x=errorMeanOverDevicesDnn,  color='blue', linestyle='--')\n",
    "ax.axvline(x=errorMeanOverDevicesLgbm, color='orange', linestyle='--')\n",
    "\n",
    "ax.legend()"
   ]
  },
  {
   "cell_type": "markdown",
   "metadata": {},
   "source": [
    "## Etude d'un device anormal (outlier) \n",
    "\n",
    "Device ID=476835 a des performances très mauvaises (erreur @ 80% > 100km).\n",
    "\n",
    "Cette section détermine les problèmes des messages de ce device"
   ]
  },
  {
   "cell_type": "code",
   "execution_count": null,
   "metadata": {},
   "outputs": [],
   "source": [
    "outlier1Did = 476835.\n",
    "outlier1Index = df_mess_train['did'] == outlier1Did\n",
    "outlier1X = df_mess_train[outlier1Index]\n",
    "outlier1X.head()"
   ]
  },
  {
   "cell_type": "code",
   "execution_count": null,
   "metadata": {},
   "outputs": [],
   "source": [
    "outlier1MessId = df_mess_train[outlier1Index].reset_index()['messid'].unique()\n",
    "outlier1MessId.shape"
   ]
  },
  {
   "cell_type": "code",
   "execution_count": null,
   "metadata": {},
   "outputs": [],
   "source": [
    "df_feat_rank1OutlierIndex = (df_feat['did'] == outlier1Did)\n",
    "df_feat_red[df_feat_rank1OutlierIndex].head()"
   ]
  },
  {
   "cell_type": "code",
   "execution_count": null,
   "metadata": {},
   "outputs": [],
   "source": [
    "outlier1y = ground_truth[df_feat_rank1OutlierIndex.values]\n",
    "outlier1y.head()"
   ]
  },
  {
   "cell_type": "markdown",
   "metadata": {},
   "source": [
    "Utilisation du dernier estimateur LGBM"
   ]
  },
  {
   "cell_type": "code",
   "execution_count": null,
   "metadata": {},
   "outputs": [],
   "source": [
    "fig, axes = plt.subplots(1, 2, figsize=(16, 5), sharey=True)\n",
    "\n",
    "error_lat = model_lat.predict(df_feat_red.loc[outlier1MessId]) - outlier1y['y']\n",
    "\n",
    "axes[0].plot(error_lat)\n",
    "axes[0].set_title('Rank 1 outlier latitude error')\n",
    "axes[0].set_xlabel('message')\n",
    "axes[0].set_ylabel('lat error [m]')\n",
    "axes[0].grid()\n",
    "\n",
    "error_lng = model_lng.predict(df_feat_red.loc[outlier1MessId]) - outlier1y['x']\n",
    "\n",
    "axes[1].plot(error_lng)\n",
    "axes[1].set_title('Rank 1 outlier longitude error')\n",
    "axes[1].set_xlabel('message')\n",
    "axes[1].set_ylabel('lng error [m]')\n",
    "axes[1].grid()"
   ]
  },
  {
   "cell_type": "code",
   "execution_count": null,
   "metadata": {},
   "outputs": [],
   "source": [
    "df_feat_red.loc[outlier1MessId][50:]"
   ]
  },
  {
   "cell_type": "markdown",
   "metadata": {},
   "source": [
    "Les 17 derniers messages n'ont qu'une seule BS et le device s'éloigne de la BS.\n",
    "\n",
    "Ils sont affichés en bleu sur la carte suivante, au sud de Denver. Les BS, de tous les messages de ce device, sont en rouge."
   ]
  },
  {
   "cell_type": "code",
   "execution_count": null,
   "metadata": {},
   "outputs": [],
   "source": [
    "m = folium.Map(\n",
    "    location=[39.8, -105.0],\n",
    "    zoom_start=6,\n",
    "    tiles='Stamen Terrain'\n",
    ")\n",
    "\n",
    "for r in outlier1X.iterrows():\n",
    "    row = r[1]\n",
    "    folium.Circle(\n",
    "        radius=max(5, 200+row['rssi']),\n",
    "        location=[row['bs_lat'], row['bs_lng']],\n",
    "        color='crimson',\n",
    "        fill=False,\n",
    "    ).add_to(m)\n",
    " \n",
    "for r in outlier1y[52:].iterrows():\n",
    "    row = r[1]\n",
    "    lat,lng = xy_to_latlon(row[0], row[1], row[2], row[3])\n",
    "    folium.Circle(\n",
    "        radius=10,\n",
    "        location=[lat, lng],\n",
    "        color='blue',\n",
    "        fill=False,\n",
    "    ).add_to(m)\n",
    "\n",
    "m"
   ]
  },
  {
   "cell_type": "markdown",
   "metadata": {},
   "source": [
    "## Construction des vecteurs lat/lng de prédictions de test\n",
    "\n",
    "Les labels ne sont pas connus."
   ]
  },
  {
   "cell_type": "code",
   "execution_count": null,
   "metadata": {},
   "outputs": [],
   "source": [
    "df_mess_test.head()"
   ]
  },
  {
   "cell_type": "code",
   "execution_count": null,
   "metadata": {},
   "outputs": [],
   "source": [
    "# build matrix for the test dataset\n",
    "df_feat_test = feat_mat_const(df_mess_test, listOfBs)\n",
    "\n",
    "# apply model\n",
    "y_pred_test_lat, y_pred_test_lng = lgbmPredict(lgbmModels, df_feat_test, True)"
   ]
  },
  {
   "cell_type": "code",
   "execution_count": null,
   "metadata": {},
   "outputs": [],
   "source": [
    "test_res = pd.DataFrame(np.c_[y_pred_test_lat, y_pred_test_lng], columns = ['lat', 'lng'])\n",
    "test_res = pd.concat([test_res, df_mess_test['messid']], axis=1)\n",
    "\n",
    "test_res.to_csv('pred_pos_test_list.csv', index=False)"
   ]
  },
  {
   "cell_type": "code",
   "execution_count": null,
   "metadata": {},
   "outputs": [],
   "source": [
    "test_res.head()"
   ]
  }
 ],
 "metadata": {
  "celltoolbar": "Aucun(e)",
  "kernelspec": {
   "display_name": "Python 3",
   "language": "python",
   "name": "python3"
  },
  "language_info": {
   "codemirror_mode": {
    "name": "ipython",
    "version": 3
   },
   "file_extension": ".py",
   "mimetype": "text/x-python",
   "name": "python",
   "nbconvert_exporter": "python",
   "pygments_lexer": "ipython3",
   "version": "3.6.10"
  },
  "latex_envs": {
   "LaTeX_envs_menu_present": true,
   "autoclose": true,
   "autocomplete": false,
   "bibliofile": "biblio.bib",
   "cite_by": "apalike",
   "current_citInitial": 1,
   "eqLabelWithNumbers": true,
   "eqNumInitial": 1,
   "hotkeys": {
    "equation": "Ctrl-E",
    "itemize": "Ctrl-I"
   },
   "labels_anchors": false,
   "latex_user_defs": false,
   "report_style_numbering": false,
   "user_envs_cfg": false
  },
  "toc": {
   "base_numbering": 1,
   "nav_menu": {},
   "number_sections": true,
   "sideBar": true,
   "skip_h1_title": false,
   "title_cell": "Table of Contents",
   "title_sidebar": "Contents",
   "toc_cell": false,
   "toc_position": {},
   "toc_section_display": true,
   "toc_window_display": false
  }
 },
 "nbformat": 4,
 "nbformat_minor": 4
}
