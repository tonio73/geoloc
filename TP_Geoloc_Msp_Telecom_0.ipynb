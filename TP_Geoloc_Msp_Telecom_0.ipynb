{
 "cells": [
  {
   "cell_type": "code",
   "execution_count": 1,
   "metadata": {},
   "outputs": [],
   "source": [
    "%matplotlib inline\n",
    "import numpy as np\n",
    "import pandas as pd\n",
    "import matplotlib.pyplot as plt\n",
    "\n",
    "from geopy.distance import geodesic\n",
    "\n",
    "from sklearn import linear_model, model_selection, metrics, preprocessing"
   ]
  },
  {
   "cell_type": "markdown",
   "metadata": {},
   "source": [
    "## Load train and test data"
   ]
  },
  {
   "cell_type": "code",
   "execution_count": 2,
   "metadata": {},
   "outputs": [],
   "source": [
    "# train set\n",
    "df_mess_train = pd.read_csv('mess_train_list.csv')\n",
    "\n",
    "# test set\n",
    "df_mess_test = pd.read_csv('mess_test_list.csv')\n",
    "\n",
    "# position associated to train set\n",
    "pos_train = pd.read_csv('pos_train_list.csv') "
   ]
  },
  {
   "cell_type": "code",
   "execution_count": 3,
   "metadata": {},
   "outputs": [
    {
     "data": {
      "text/html": [
       "<div>\n",
       "<style scoped>\n",
       "    .dataframe tbody tr th:only-of-type {\n",
       "        vertical-align: middle;\n",
       "    }\n",
       "\n",
       "    .dataframe tbody tr th {\n",
       "        vertical-align: top;\n",
       "    }\n",
       "\n",
       "    .dataframe thead th {\n",
       "        text-align: right;\n",
       "    }\n",
       "</style>\n",
       "<table border=\"1\" class=\"dataframe\">\n",
       "  <thead>\n",
       "    <tr style=\"text-align: right;\">\n",
       "      <th></th>\n",
       "      <th>messid</th>\n",
       "      <th>bsid</th>\n",
       "      <th>did</th>\n",
       "      <th>nseq</th>\n",
       "      <th>rssi</th>\n",
       "      <th>time_ux</th>\n",
       "      <th>bs_lat</th>\n",
       "      <th>bs_lng</th>\n",
       "    </tr>\n",
       "  </thead>\n",
       "  <tbody>\n",
       "    <tr>\n",
       "      <th>0</th>\n",
       "      <td>573bf1d9864fce1a9af8c5c9</td>\n",
       "      <td>2841</td>\n",
       "      <td>473335.0</td>\n",
       "      <td>0.5</td>\n",
       "      <td>-121.5</td>\n",
       "      <td>1.463546e+12</td>\n",
       "      <td>39.617794</td>\n",
       "      <td>-104.954917</td>\n",
       "    </tr>\n",
       "    <tr>\n",
       "      <th>1</th>\n",
       "      <td>573bf1d9864fce1a9af8c5c9</td>\n",
       "      <td>3526</td>\n",
       "      <td>473335.0</td>\n",
       "      <td>2.0</td>\n",
       "      <td>-125.0</td>\n",
       "      <td>1.463546e+12</td>\n",
       "      <td>39.677251</td>\n",
       "      <td>-104.952721</td>\n",
       "    </tr>\n",
       "    <tr>\n",
       "      <th>2</th>\n",
       "      <td>573bf3533e952e19126b256a</td>\n",
       "      <td>2605</td>\n",
       "      <td>473335.0</td>\n",
       "      <td>1.0</td>\n",
       "      <td>-134.0</td>\n",
       "      <td>1.463547e+12</td>\n",
       "      <td>39.612745</td>\n",
       "      <td>-105.008827</td>\n",
       "    </tr>\n",
       "    <tr>\n",
       "      <th>3</th>\n",
       "      <td>573c0cd0f0fe6e735a699b93</td>\n",
       "      <td>2610</td>\n",
       "      <td>473953.0</td>\n",
       "      <td>2.0</td>\n",
       "      <td>-132.0</td>\n",
       "      <td>1.463553e+12</td>\n",
       "      <td>39.797969</td>\n",
       "      <td>-105.073460</td>\n",
       "    </tr>\n",
       "    <tr>\n",
       "      <th>4</th>\n",
       "      <td>573c0cd0f0fe6e735a699b93</td>\n",
       "      <td>3574</td>\n",
       "      <td>473953.0</td>\n",
       "      <td>1.0</td>\n",
       "      <td>-120.0</td>\n",
       "      <td>1.463553e+12</td>\n",
       "      <td>39.723151</td>\n",
       "      <td>-104.956216</td>\n",
       "    </tr>\n",
       "  </tbody>\n",
       "</table>\n",
       "</div>"
      ],
      "text/plain": [
       "                     messid  bsid       did  nseq   rssi       time_ux  \\\n",
       "0  573bf1d9864fce1a9af8c5c9  2841  473335.0   0.5 -121.5  1.463546e+12   \n",
       "1  573bf1d9864fce1a9af8c5c9  3526  473335.0   2.0 -125.0  1.463546e+12   \n",
       "2  573bf3533e952e19126b256a  2605  473335.0   1.0 -134.0  1.463547e+12   \n",
       "3  573c0cd0f0fe6e735a699b93  2610  473953.0   2.0 -132.0  1.463553e+12   \n",
       "4  573c0cd0f0fe6e735a699b93  3574  473953.0   1.0 -120.0  1.463553e+12   \n",
       "\n",
       "      bs_lat      bs_lng  \n",
       "0  39.617794 -104.954917  \n",
       "1  39.677251 -104.952721  \n",
       "2  39.612745 -105.008827  \n",
       "3  39.797969 -105.073460  \n",
       "4  39.723151 -104.956216  "
      ]
     },
     "execution_count": 3,
     "metadata": {},
     "output_type": "execute_result"
    }
   ],
   "source": [
    "df_mess_train.head()"
   ]
  },
  {
   "cell_type": "code",
   "execution_count": 4,
   "metadata": {},
   "outputs": [
    {
     "name": "stdout",
     "output_type": "stream",
     "text": [
      "(39250, 8)\n"
     ]
    },
    {
     "data": {
      "text/html": [
       "<div>\n",
       "<style scoped>\n",
       "    .dataframe tbody tr th:only-of-type {\n",
       "        vertical-align: middle;\n",
       "    }\n",
       "\n",
       "    .dataframe tbody tr th {\n",
       "        vertical-align: top;\n",
       "    }\n",
       "\n",
       "    .dataframe thead th {\n",
       "        text-align: right;\n",
       "    }\n",
       "</style>\n",
       "<table border=\"1\" class=\"dataframe\">\n",
       "  <thead>\n",
       "    <tr style=\"text-align: right;\">\n",
       "      <th></th>\n",
       "      <th>bsid</th>\n",
       "      <th>did</th>\n",
       "      <th>nseq</th>\n",
       "      <th>rssi</th>\n",
       "      <th>time_ux</th>\n",
       "      <th>bs_lat</th>\n",
       "      <th>bs_lng</th>\n",
       "    </tr>\n",
       "  </thead>\n",
       "  <tbody>\n",
       "    <tr>\n",
       "      <th>count</th>\n",
       "      <td>39250.000000</td>\n",
       "      <td>3.925000e+04</td>\n",
       "      <td>39250.000000</td>\n",
       "      <td>39250.000000</td>\n",
       "      <td>3.925000e+04</td>\n",
       "      <td>39250.000000</td>\n",
       "      <td>39250.000000</td>\n",
       "    </tr>\n",
       "    <tr>\n",
       "      <th>mean</th>\n",
       "      <td>4533.774752</td>\n",
       "      <td>4.835932e+05</td>\n",
       "      <td>1.043541</td>\n",
       "      <td>-125.863580</td>\n",
       "      <td>1.473368e+12</td>\n",
       "      <td>42.554998</td>\n",
       "      <td>-100.969685</td>\n",
       "    </tr>\n",
       "    <tr>\n",
       "      <th>std</th>\n",
       "      <td>2570.495638</td>\n",
       "      <td>9.893140e+04</td>\n",
       "      <td>0.563540</td>\n",
       "      <td>9.226500</td>\n",
       "      <td>5.506910e+09</td>\n",
       "      <td>7.722787</td>\n",
       "      <td>11.522732</td>\n",
       "    </tr>\n",
       "    <tr>\n",
       "      <th>min</th>\n",
       "      <td>879.000000</td>\n",
       "      <td>4.732880e+05</td>\n",
       "      <td>0.000000</td>\n",
       "      <td>-155.000000</td>\n",
       "      <td>1.463546e+12</td>\n",
       "      <td>36.053394</td>\n",
       "      <td>-107.463146</td>\n",
       "    </tr>\n",
       "    <tr>\n",
       "      <th>25%</th>\n",
       "      <td>2790.000000</td>\n",
       "      <td>4.761230e+05</td>\n",
       "      <td>1.000000</td>\n",
       "      <td>-132.500000</td>\n",
       "      <td>1.468410e+12</td>\n",
       "      <td>39.747448</td>\n",
       "      <td>-105.074287</td>\n",
       "    </tr>\n",
       "    <tr>\n",
       "      <th>50%</th>\n",
       "      <td>3559.000000</td>\n",
       "      <td>4.763150e+05</td>\n",
       "      <td>1.000000</td>\n",
       "      <td>-127.333333</td>\n",
       "      <td>1.473444e+12</td>\n",
       "      <td>39.793585</td>\n",
       "      <td>-105.043685</td>\n",
       "    </tr>\n",
       "    <tr>\n",
       "      <th>75%</th>\n",
       "      <td>7456.000000</td>\n",
       "      <td>4.766090e+05</td>\n",
       "      <td>1.500000</td>\n",
       "      <td>-121.000000</td>\n",
       "      <td>1.479118e+12</td>\n",
       "      <td>39.838740</td>\n",
       "      <td>-104.998429</td>\n",
       "    </tr>\n",
       "    <tr>\n",
       "      <th>max</th>\n",
       "      <td>11951.000000</td>\n",
       "      <td>1.747448e+06</td>\n",
       "      <td>2.000000</td>\n",
       "      <td>-64.000000</td>\n",
       "      <td>1.481143e+12</td>\n",
       "      <td>64.300000</td>\n",
       "      <td>-68.500000</td>\n",
       "    </tr>\n",
       "  </tbody>\n",
       "</table>\n",
       "</div>"
      ],
      "text/plain": [
       "               bsid           did          nseq          rssi       time_ux  \\\n",
       "count  39250.000000  3.925000e+04  39250.000000  39250.000000  3.925000e+04   \n",
       "mean    4533.774752  4.835932e+05      1.043541   -125.863580  1.473368e+12   \n",
       "std     2570.495638  9.893140e+04      0.563540      9.226500  5.506910e+09   \n",
       "min      879.000000  4.732880e+05      0.000000   -155.000000  1.463546e+12   \n",
       "25%     2790.000000  4.761230e+05      1.000000   -132.500000  1.468410e+12   \n",
       "50%     3559.000000  4.763150e+05      1.000000   -127.333333  1.473444e+12   \n",
       "75%     7456.000000  4.766090e+05      1.500000   -121.000000  1.479118e+12   \n",
       "max    11951.000000  1.747448e+06      2.000000    -64.000000  1.481143e+12   \n",
       "\n",
       "             bs_lat        bs_lng  \n",
       "count  39250.000000  39250.000000  \n",
       "mean      42.554998   -100.969685  \n",
       "std        7.722787     11.522732  \n",
       "min       36.053394   -107.463146  \n",
       "25%       39.747448   -105.074287  \n",
       "50%       39.793585   -105.043685  \n",
       "75%       39.838740   -104.998429  \n",
       "max       64.300000    -68.500000  "
      ]
     },
     "execution_count": 4,
     "metadata": {},
     "output_type": "execute_result"
    }
   ],
   "source": [
    "print(df_mess_train.shape)\n",
    "df_mess_train.describe()"
   ]
  },
  {
   "cell_type": "code",
   "execution_count": 5,
   "metadata": {},
   "outputs": [
    {
     "data": {
      "text/html": [
       "<div>\n",
       "<style scoped>\n",
       "    .dataframe tbody tr th:only-of-type {\n",
       "        vertical-align: middle;\n",
       "    }\n",
       "\n",
       "    .dataframe tbody tr th {\n",
       "        vertical-align: top;\n",
       "    }\n",
       "\n",
       "    .dataframe thead th {\n",
       "        text-align: right;\n",
       "    }\n",
       "</style>\n",
       "<table border=\"1\" class=\"dataframe\">\n",
       "  <thead>\n",
       "    <tr style=\"text-align: right;\">\n",
       "      <th></th>\n",
       "      <th>lat</th>\n",
       "      <th>lng</th>\n",
       "    </tr>\n",
       "  </thead>\n",
       "  <tbody>\n",
       "    <tr>\n",
       "      <th>0</th>\n",
       "      <td>39.606690</td>\n",
       "      <td>-104.958490</td>\n",
       "    </tr>\n",
       "    <tr>\n",
       "      <th>1</th>\n",
       "      <td>39.606690</td>\n",
       "      <td>-104.958490</td>\n",
       "    </tr>\n",
       "    <tr>\n",
       "      <th>2</th>\n",
       "      <td>39.637741</td>\n",
       "      <td>-104.958554</td>\n",
       "    </tr>\n",
       "    <tr>\n",
       "      <th>3</th>\n",
       "      <td>39.730417</td>\n",
       "      <td>-104.968940</td>\n",
       "    </tr>\n",
       "    <tr>\n",
       "      <th>4</th>\n",
       "      <td>39.730417</td>\n",
       "      <td>-104.968940</td>\n",
       "    </tr>\n",
       "  </tbody>\n",
       "</table>\n",
       "</div>"
      ],
      "text/plain": [
       "         lat         lng\n",
       "0  39.606690 -104.958490\n",
       "1  39.606690 -104.958490\n",
       "2  39.637741 -104.958554\n",
       "3  39.730417 -104.968940\n",
       "4  39.730417 -104.968940"
      ]
     },
     "execution_count": 5,
     "metadata": {},
     "output_type": "execute_result"
    }
   ],
   "source": [
    "pos_train.head()"
   ]
  },
  {
   "cell_type": "code",
   "execution_count": 6,
   "metadata": {},
   "outputs": [
    {
     "data": {
      "text/html": [
       "<div>\n",
       "<style scoped>\n",
       "    .dataframe tbody tr th:only-of-type {\n",
       "        vertical-align: middle;\n",
       "    }\n",
       "\n",
       "    .dataframe tbody tr th {\n",
       "        vertical-align: top;\n",
       "    }\n",
       "\n",
       "    .dataframe thead th {\n",
       "        text-align: right;\n",
       "    }\n",
       "</style>\n",
       "<table border=\"1\" class=\"dataframe\">\n",
       "  <thead>\n",
       "    <tr style=\"text-align: right;\">\n",
       "      <th></th>\n",
       "      <th>lat</th>\n",
       "      <th>lng</th>\n",
       "    </tr>\n",
       "  </thead>\n",
       "  <tbody>\n",
       "    <tr>\n",
       "      <th>count</th>\n",
       "      <td>39250.000000</td>\n",
       "      <td>39250.000000</td>\n",
       "    </tr>\n",
       "    <tr>\n",
       "      <th>mean</th>\n",
       "      <td>39.783333</td>\n",
       "      <td>-105.056343</td>\n",
       "    </tr>\n",
       "    <tr>\n",
       "      <th>std</th>\n",
       "      <td>0.206262</td>\n",
       "      <td>0.162954</td>\n",
       "    </tr>\n",
       "    <tr>\n",
       "      <th>min</th>\n",
       "      <td>35.770683</td>\n",
       "      <td>-107.630679</td>\n",
       "    </tr>\n",
       "    <tr>\n",
       "      <th>25%</th>\n",
       "      <td>39.708599</td>\n",
       "      <td>-105.060463</td>\n",
       "    </tr>\n",
       "    <tr>\n",
       "      <th>50%</th>\n",
       "      <td>39.776882</td>\n",
       "      <td>-105.039440</td>\n",
       "    </tr>\n",
       "    <tr>\n",
       "      <th>75%</th>\n",
       "      <td>39.805279</td>\n",
       "      <td>-105.018730</td>\n",
       "    </tr>\n",
       "    <tr>\n",
       "      <th>max</th>\n",
       "      <td>43.140387</td>\n",
       "      <td>-102.094289</td>\n",
       "    </tr>\n",
       "  </tbody>\n",
       "</table>\n",
       "</div>"
      ],
      "text/plain": [
       "                lat           lng\n",
       "count  39250.000000  39250.000000\n",
       "mean      39.783333   -105.056343\n",
       "std        0.206262      0.162954\n",
       "min       35.770683   -107.630679\n",
       "25%       39.708599   -105.060463\n",
       "50%       39.776882   -105.039440\n",
       "75%       39.805279   -105.018730\n",
       "max       43.140387   -102.094289"
      ]
     },
     "execution_count": 6,
     "metadata": {},
     "output_type": "execute_result"
    }
   ],
   "source": [
    "pos_train.describe()"
   ]
  },
  {
   "cell_type": "markdown",
   "metadata": {},
   "source": [
    "## Prepare data"
   ]
  },
  {
   "cell_type": "code",
   "execution_count": 7,
   "metadata": {},
   "outputs": [
    {
     "name": "stdout",
     "output_type": "stream",
     "text": [
      "Number of stations: 259, test only 8\n"
     ]
    }
   ],
   "source": [
    "# determine all Base stations that received at least 1 message\n",
    "trainBs  = np.unique(df_mess_train['bsid'])\n",
    "testBs   = np.unique(df_mess_test['bsid'])\n",
    "listOfBs = np.union1d(trainBs, testBs) \n",
    "testOnlyBs = np.lib.arraysetops.setdiff1d(testBs, trainBs)\n",
    "\n",
    "print(f\"Number of stations: %d, test only %d\" % (len(listOfBs), len(testOnlyBs)))"
   ]
  },
  {
   "cell_type": "code",
   "execution_count": 8,
   "metadata": {},
   "outputs": [
    {
     "data": {
      "text/plain": [
       "(113,)"
      ]
     },
     "execution_count": 8,
     "metadata": {},
     "output_type": "execute_result"
    }
   ],
   "source": [
    "df_mess_train['did'].unique().shape"
   ]
  },
  {
   "cell_type": "markdown",
   "metadata": {},
   "source": [
    "## Filtering on outliers?\n"
   ]
  },
  {
   "cell_type": "code",
   "execution_count": 28,
   "metadata": {},
   "outputs": [
    {
     "name": "stdout",
     "output_type": "stream",
     "text": [
      "Nombres de messages : 6068\n",
      "Nombres de messages sans les stations du groenland : 5918\n"
     ]
    }
   ],
   "source": [
    "print(f\"Nombres de messages : {len(df_mess_train.messid.unique())}\");\n",
    "print(f\"Nombres de messages sans les stations du groenland : {len(df_mess_train[df_mess_train.bs_lat<60].messid.unique())}\");"
   ]
  },
  {
   "cell_type": "code",
   "execution_count": 9,
   "metadata": {},
   "outputs": [],
   "source": [
    "def tan_degree(x):\n",
    "    \"\"\" Tangent for degree values (latitude) \"\"\"\n",
    "    return np.tan(x * np.pi / 180)\n",
    "\n",
    "def arctan_degree(x):\n",
    "    \"\"\" arc tan to degree \"\"\"\n",
    "    return np.arctan(x) * 180 / np.pi\n",
    "\n",
    "def deg_to_complex(x):\n",
    "    \"\"\" Degree angle to corresponding complex \"\"\"\n",
    "    xx = x * np.pi / 180\n",
    "    return np.cos(xx), np.sin(xx)\n",
    "\n",
    "def complex_to_deg(z):\n",
    "    \"\"\" Complex to degree angle \"\"\"\n",
    "    return np.angle(z[:,0] + 1j*z[:,1], deg=True)"
   ]
  },
  {
   "cell_type": "code",
   "execution_count": 10,
   "metadata": {},
   "outputs": [],
   "source": [
    "def feat_mat_const(df, listOfBs, keepMax=2):\n",
    "    \"\"\" Feature Matrix construction, \n",
    "        Return a two-way table with BS on horizontal axis\n",
    "        Keep at most keepMax BS per message\n",
    "    \"\"\"\n",
    "    \n",
    "    # Keep at max keepMax base-stations per message\n",
    "    df = df.groupby('messid'). \\\n",
    "        apply(lambda x: x.sort_values(['rssi'], ascending=False)). \\\n",
    "        reset_index(drop=True).groupby('messid').head(3)\n",
    "    \n",
    "    # Add active column\n",
    "    df['active'] = 1\n",
    "    \n",
    "    # Add tangent of latitude\n",
    "    df['bs_tanlat'] = tan_degree(df['bs_lat'])\n",
    "    \n",
    "    r,i = deg_to_complex(df['bs_lng'])\n",
    "    df['bs_coslng'] = r\n",
    "    df['bs_sinlng'] = i\n",
    "    \n",
    "    # Add extra rows for Base-stations that are not present in this dataset\n",
    "    usedBs = np.unique(df['bsid'])\n",
    "    missingBs = np.lib.arraysetops.setdiff1d(listOfBs, usedBs)\n",
    "    df2 = pd.DataFrame([['-1', bs, 0, 0, 0, 0, 0, 0, 0, 0, 0, 0] for bs in missingBs], columns=df.columns)\n",
    "    df = df.append(df2)\n",
    "    \n",
    "    #df = df[df['bs_lat'] < 50]\n",
    "    \n",
    "    # Pivot BS to columns\n",
    "    df = df.pivot_table(index='messid', \n",
    "                                    values=['active', 'nseq', 'rssi', 'bs_tanlat', 'bs_coslng', 'bs_sinlng'], \n",
    "                                    columns=['bsid'],\n",
    "                                    fill_value=0)\n",
    "    resDf = df.reorder_levels([1, 0], axis=1).sort_index(level=0, axis=1)\n",
    "    return resDf.drop(['-1'])"
   ]
  },
  {
   "cell_type": "code",
   "execution_count": 148,
   "metadata": {},
   "outputs": [],
   "source": [
    "def feat_mat_const2(df, listOfBs, keepMax=5):\n",
    "    \"\"\" Feature Matrix construction \"\"\"\n",
    "    \n",
    "    aggCols = ['pivot_lat', 'pivot_lng']\n",
    "    for i in range(keepMax):\n",
    "        bsCols =['bs%d_deltalat' % i, 'bs%d_deltalng' % i, 'bs%d_rssi' % i, 'bs%d_nseq' % i] #'bs%d_active' % i, \n",
    "        aggCols = aggCols + bsCols\n",
    "        \n",
    "    def aggregateBaseStations(groupBy):\n",
    "        \"\"\" From a RSSI sorted DataFrameGroupBy\n",
    "            create a dataframe with the 3 best BS \n",
    "        \"\"\"\n",
    "        \n",
    "        bsSet = groupBy[groupBy[\"bs_lat\"]<60].iloc[:keepMax]\n",
    "        \n",
    "        if(np.sum(groupBy[\"bs_lat\"]<60) <np.sum(groupBy[\"bs_lat\"]>60)):\n",
    "            bsSet = groupBy[groupBy[\"bs_lat\"]>60].iloc[:keepMax]        \n",
    "        \n",
    "        # Barycentre\n",
    "        w = bsSet['rssi'] / np.sum(bsSet['rssi'])\n",
    "        lat = np.average(bsSet['bs_lat'], weights=w)\n",
    "        lng = np.average(bsSet['bs_lng'], weights=w)\n",
    "        bss = []\n",
    "        for i in range(keepMax):\n",
    "            if len(bsSet) > i:\n",
    "                b = bsSet.iloc[0]\n",
    "                bss.append([b['bs_lat'] - lat, b['bs_lng'] - lng, b['rssi']])\n",
    "            else:\n",
    "                bss.append([0, 0, -1e3])\n",
    "        return pd.DataFrame(np.concatenate([[lat, lng], np.array(bss).ravel()]).reshape(1, -1), \n",
    "                            columns=aggCols)\n",
    "            \n",
    "    \n",
    "    # Keep at max keepMax base-stations per message\n",
    "    df = df.groupby('messid'). \\\n",
    "        apply(lambda x: x.sort_values(['rssi'], ascending=False)). \\\n",
    "        reset_index(drop=True).groupby('messid').apply(aggregateBaseStations)\n",
    "    \n",
    "    return df"
   ]
  },
  {
   "cell_type": "code",
   "execution_count": 149,
   "metadata": {},
   "outputs": [],
   "source": [
    "def ground_truth_const(df_mess_train, pos_train):\n",
    "    \"\"\" Ground truth construction \"\"\"\n",
    "    \n",
    "    df = pd.concat([df_mess_train[['messid']], pos_train], axis=1)\n",
    "    df_mean = df.groupby('messid').mean()\n",
    "\n",
    "    return df_mean['lat'], df_mean['lng']"
   ]
  },
  {
   "cell_type": "code",
   "execution_count": 277,
   "metadata": {},
   "outputs": [
    {
     "data": {
      "text/html": [
       "<div>\n",
       "<style scoped>\n",
       "    .dataframe tbody tr th:only-of-type {\n",
       "        vertical-align: middle;\n",
       "    }\n",
       "\n",
       "    .dataframe tbody tr th {\n",
       "        vertical-align: top;\n",
       "    }\n",
       "\n",
       "    .dataframe thead th {\n",
       "        text-align: right;\n",
       "    }\n",
       "</style>\n",
       "<table border=\"1\" class=\"dataframe\">\n",
       "  <thead>\n",
       "    <tr style=\"text-align: right;\">\n",
       "      <th></th>\n",
       "      <th></th>\n",
       "      <th>pivot_lat</th>\n",
       "      <th>pivot_lng</th>\n",
       "      <th>bs0_deltalat</th>\n",
       "      <th>bs0_deltalng</th>\n",
       "      <th>bs0_rssi</th>\n",
       "      <th>bs0_nseq</th>\n",
       "      <th>bs1_deltalat</th>\n",
       "      <th>bs1_deltalng</th>\n",
       "      <th>bs1_rssi</th>\n",
       "      <th>bs1_nseq</th>\n",
       "      <th>...</th>\n",
       "      <th>bs2_rssi</th>\n",
       "      <th>bs2_nseq</th>\n",
       "      <th>bs3_deltalat</th>\n",
       "      <th>bs3_deltalng</th>\n",
       "      <th>bs3_rssi</th>\n",
       "      <th>bs3_nseq</th>\n",
       "      <th>bs4_deltalat</th>\n",
       "      <th>bs4_deltalng</th>\n",
       "      <th>bs4_rssi</th>\n",
       "      <th>bs4_nseq</th>\n",
       "    </tr>\n",
       "    <tr>\n",
       "      <th>messid</th>\n",
       "      <th></th>\n",
       "      <th></th>\n",
       "      <th></th>\n",
       "      <th></th>\n",
       "      <th></th>\n",
       "      <th></th>\n",
       "      <th></th>\n",
       "      <th></th>\n",
       "      <th></th>\n",
       "      <th></th>\n",
       "      <th></th>\n",
       "      <th></th>\n",
       "      <th></th>\n",
       "      <th></th>\n",
       "      <th></th>\n",
       "      <th></th>\n",
       "      <th></th>\n",
       "      <th></th>\n",
       "      <th></th>\n",
       "      <th></th>\n",
       "      <th></th>\n",
       "      <th></th>\n",
       "    </tr>\n",
       "  </thead>\n",
       "  <tbody>\n",
       "    <tr>\n",
       "      <th>573bf1d9864fce1a9af8c5c9</th>\n",
       "      <th>0</th>\n",
       "      <td>39.647945</td>\n",
       "      <td>-104.953803</td>\n",
       "      <td>-0.030151</td>\n",
       "      <td>-0.001114</td>\n",
       "      <td>-121.500000</td>\n",
       "      <td>0.5</td>\n",
       "      <td>-0.030151</td>\n",
       "      <td>-0.001114</td>\n",
       "      <td>-121.500000</td>\n",
       "      <td>0.5</td>\n",
       "      <td>...</td>\n",
       "      <td>-1000.000000</td>\n",
       "      <td>-1.0</td>\n",
       "      <td>0.000000</td>\n",
       "      <td>0.000000</td>\n",
       "      <td>-1000.000000</td>\n",
       "      <td>-1.0</td>\n",
       "      <td>0.000000</td>\n",
       "      <td>0.000000</td>\n",
       "      <td>-1000.0</td>\n",
       "      <td>-1.0</td>\n",
       "    </tr>\n",
       "    <tr>\n",
       "      <th>573bf3533e952e19126b256a</th>\n",
       "      <th>0</th>\n",
       "      <td>39.612745</td>\n",
       "      <td>-105.008827</td>\n",
       "      <td>0.000000</td>\n",
       "      <td>0.000000</td>\n",
       "      <td>-134.000000</td>\n",
       "      <td>1.0</td>\n",
       "      <td>0.000000</td>\n",
       "      <td>0.000000</td>\n",
       "      <td>-1000.000000</td>\n",
       "      <td>-1.0</td>\n",
       "      <td>...</td>\n",
       "      <td>-1000.000000</td>\n",
       "      <td>-1.0</td>\n",
       "      <td>0.000000</td>\n",
       "      <td>0.000000</td>\n",
       "      <td>-1000.000000</td>\n",
       "      <td>-1.0</td>\n",
       "      <td>0.000000</td>\n",
       "      <td>0.000000</td>\n",
       "      <td>-1000.0</td>\n",
       "      <td>-1.0</td>\n",
       "    </tr>\n",
       "    <tr>\n",
       "      <th>573c0cd0f0fe6e735a699b93</th>\n",
       "      <th>0</th>\n",
       "      <td>39.753734</td>\n",
       "      <td>-105.005136</td>\n",
       "      <td>-0.021689</td>\n",
       "      <td>0.031485</td>\n",
       "      <td>-100.000000</td>\n",
       "      <td>2.0</td>\n",
       "      <td>-0.021689</td>\n",
       "      <td>0.031485</td>\n",
       "      <td>-100.000000</td>\n",
       "      <td>2.0</td>\n",
       "      <td>...</td>\n",
       "      <td>-100.000000</td>\n",
       "      <td>2.0</td>\n",
       "      <td>0.000000</td>\n",
       "      <td>0.000000</td>\n",
       "      <td>-1000.000000</td>\n",
       "      <td>-1.0</td>\n",
       "      <td>0.000000</td>\n",
       "      <td>0.000000</td>\n",
       "      <td>-1000.0</td>\n",
       "      <td>-1.0</td>\n",
       "    </tr>\n",
       "    <tr>\n",
       "      <th>573c1272f0fe6e735a6cb8bd</th>\n",
       "      <th>0</th>\n",
       "      <td>39.614550</td>\n",
       "      <td>-105.030671</td>\n",
       "      <td>0.090337</td>\n",
       "      <td>0.014279</td>\n",
       "      <td>-123.333333</td>\n",
       "      <td>1.0</td>\n",
       "      <td>0.090337</td>\n",
       "      <td>0.014279</td>\n",
       "      <td>-123.333333</td>\n",
       "      <td>1.0</td>\n",
       "      <td>...</td>\n",
       "      <td>-123.333333</td>\n",
       "      <td>1.0</td>\n",
       "      <td>0.090337</td>\n",
       "      <td>0.014279</td>\n",
       "      <td>-123.333333</td>\n",
       "      <td>1.0</td>\n",
       "      <td>0.000000</td>\n",
       "      <td>0.000000</td>\n",
       "      <td>-1000.0</td>\n",
       "      <td>-1.0</td>\n",
       "    </tr>\n",
       "    <tr>\n",
       "      <th>573c8ea8864fce1a9a5fbf7a</th>\n",
       "      <th>0</th>\n",
       "      <td>39.765346</td>\n",
       "      <td>-105.034739</td>\n",
       "      <td>-0.010326</td>\n",
       "      <td>-0.008575</td>\n",
       "      <td>-98.000000</td>\n",
       "      <td>1.0</td>\n",
       "      <td>-0.010326</td>\n",
       "      <td>-0.008575</td>\n",
       "      <td>-98.000000</td>\n",
       "      <td>1.0</td>\n",
       "      <td>...</td>\n",
       "      <td>-98.000000</td>\n",
       "      <td>1.0</td>\n",
       "      <td>-0.010326</td>\n",
       "      <td>-0.008575</td>\n",
       "      <td>-98.000000</td>\n",
       "      <td>1.0</td>\n",
       "      <td>-0.010326</td>\n",
       "      <td>-0.008575</td>\n",
       "      <td>-98.0</td>\n",
       "      <td>1.0</td>\n",
       "    </tr>\n",
       "  </tbody>\n",
       "</table>\n",
       "<p>5 rows × 22 columns</p>\n",
       "</div>"
      ],
      "text/plain": [
       "                            pivot_lat   pivot_lng  bs0_deltalat  bs0_deltalng  \\\n",
       "messid                                                                          \n",
       "573bf1d9864fce1a9af8c5c9 0  39.647945 -104.953803     -0.030151     -0.001114   \n",
       "573bf3533e952e19126b256a 0  39.612745 -105.008827      0.000000      0.000000   \n",
       "573c0cd0f0fe6e735a699b93 0  39.753734 -105.005136     -0.021689      0.031485   \n",
       "573c1272f0fe6e735a6cb8bd 0  39.614550 -105.030671      0.090337      0.014279   \n",
       "573c8ea8864fce1a9a5fbf7a 0  39.765346 -105.034739     -0.010326     -0.008575   \n",
       "\n",
       "                              bs0_rssi  bs0_nseq  bs1_deltalat  bs1_deltalng  \\\n",
       "messid                                                                         \n",
       "573bf1d9864fce1a9af8c5c9 0 -121.500000       0.5     -0.030151     -0.001114   \n",
       "573bf3533e952e19126b256a 0 -134.000000       1.0      0.000000      0.000000   \n",
       "573c0cd0f0fe6e735a699b93 0 -100.000000       2.0     -0.021689      0.031485   \n",
       "573c1272f0fe6e735a6cb8bd 0 -123.333333       1.0      0.090337      0.014279   \n",
       "573c8ea8864fce1a9a5fbf7a 0  -98.000000       1.0     -0.010326     -0.008575   \n",
       "\n",
       "                               bs1_rssi  bs1_nseq  ...     bs2_rssi  bs2_nseq  \\\n",
       "messid                                             ...                          \n",
       "573bf1d9864fce1a9af8c5c9 0  -121.500000       0.5  ... -1000.000000      -1.0   \n",
       "573bf3533e952e19126b256a 0 -1000.000000      -1.0  ... -1000.000000      -1.0   \n",
       "573c0cd0f0fe6e735a699b93 0  -100.000000       2.0  ...  -100.000000       2.0   \n",
       "573c1272f0fe6e735a6cb8bd 0  -123.333333       1.0  ...  -123.333333       1.0   \n",
       "573c8ea8864fce1a9a5fbf7a 0   -98.000000       1.0  ...   -98.000000       1.0   \n",
       "\n",
       "                            bs3_deltalat  bs3_deltalng     bs3_rssi  bs3_nseq  \\\n",
       "messid                                                                          \n",
       "573bf1d9864fce1a9af8c5c9 0      0.000000      0.000000 -1000.000000      -1.0   \n",
       "573bf3533e952e19126b256a 0      0.000000      0.000000 -1000.000000      -1.0   \n",
       "573c0cd0f0fe6e735a699b93 0      0.000000      0.000000 -1000.000000      -1.0   \n",
       "573c1272f0fe6e735a6cb8bd 0      0.090337      0.014279  -123.333333       1.0   \n",
       "573c8ea8864fce1a9a5fbf7a 0     -0.010326     -0.008575   -98.000000       1.0   \n",
       "\n",
       "                            bs4_deltalat  bs4_deltalng  bs4_rssi  bs4_nseq  \n",
       "messid                                                                      \n",
       "573bf1d9864fce1a9af8c5c9 0      0.000000      0.000000   -1000.0      -1.0  \n",
       "573bf3533e952e19126b256a 0      0.000000      0.000000   -1000.0      -1.0  \n",
       "573c0cd0f0fe6e735a699b93 0      0.000000      0.000000   -1000.0      -1.0  \n",
       "573c1272f0fe6e735a6cb8bd 0      0.000000      0.000000   -1000.0      -1.0  \n",
       "573c8ea8864fce1a9a5fbf7a 0     -0.010326     -0.008575     -98.0       1.0  \n",
       "\n",
       "[5 rows x 22 columns]"
      ]
     },
     "execution_count": 277,
     "metadata": {},
     "output_type": "execute_result"
    }
   ],
   "source": [
    "df_feat = feat_mat_const2(df_mess_train, listOfBs, 5)\n",
    "df_feat.head()"
   ]
  },
  {
   "cell_type": "code",
   "execution_count": 159,
   "metadata": {},
   "outputs": [
    {
     "data": {
      "text/plain": [
       "(6068, 1038)"
      ]
     },
     "execution_count": 159,
     "metadata": {},
     "output_type": "execute_result"
    }
   ],
   "source": [
    "df_feat.shape"
   ]
  },
  {
   "cell_type": "code",
   "execution_count": 160,
   "metadata": {},
   "outputs": [
    {
     "data": {
      "text/html": [
       "<div>\n",
       "<style scoped>\n",
       "    .dataframe tbody tr th:only-of-type {\n",
       "        vertical-align: middle;\n",
       "    }\n",
       "\n",
       "    .dataframe tbody tr th {\n",
       "        vertical-align: top;\n",
       "    }\n",
       "\n",
       "    .dataframe thead th {\n",
       "        text-align: right;\n",
       "    }\n",
       "</style>\n",
       "<table border=\"1\" class=\"dataframe\">\n",
       "  <thead>\n",
       "    <tr style=\"text-align: right;\">\n",
       "      <th></th>\n",
       "      <th>messid</th>\n",
       "      <th>bsid</th>\n",
       "      <th>did</th>\n",
       "      <th>nseq</th>\n",
       "      <th>rssi</th>\n",
       "      <th>time_ux</th>\n",
       "      <th>bs_lat</th>\n",
       "      <th>bs_lng</th>\n",
       "      <th>datetime</th>\n",
       "    </tr>\n",
       "  </thead>\n",
       "  <tbody>\n",
       "    <tr>\n",
       "      <th>0</th>\n",
       "      <td>573bf1d9864fce1a9af8c5c9</td>\n",
       "      <td>2841</td>\n",
       "      <td>473335.0</td>\n",
       "      <td>0.5</td>\n",
       "      <td>-121.5</td>\n",
       "      <td>1.463546e+12</td>\n",
       "      <td>39.617794</td>\n",
       "      <td>-104.954917</td>\n",
       "      <td>2016-05-18 04:38:49</td>\n",
       "    </tr>\n",
       "  </tbody>\n",
       "</table>\n",
       "</div>"
      ],
      "text/plain": [
       "                     messid  bsid       did  nseq   rssi       time_ux  \\\n",
       "0  573bf1d9864fce1a9af8c5c9  2841  473335.0   0.5 -121.5  1.463546e+12   \n",
       "\n",
       "      bs_lat      bs_lng            datetime  \n",
       "0  39.617794 -104.954917 2016-05-18 04:38:49  "
      ]
     },
     "execution_count": 160,
     "metadata": {},
     "output_type": "execute_result"
    }
   ],
   "source": [
    "df_mess_train.head(1)"
   ]
  },
  {
   "cell_type": "code",
   "execution_count": 43,
   "metadata": {},
   "outputs": [
    {
     "data": {
      "text/plain": [
       "(6068,)"
      ]
     },
     "execution_count": 43,
     "metadata": {},
     "output_type": "execute_result"
    }
   ],
   "source": [
    "ground_truth_lat, ground_truth_lng = ground_truth_const(df_mess_train, pos_train)\n",
    "ground_truth_lat.shape"
   ]
  },
  {
   "cell_type": "markdown",
   "metadata": {},
   "source": [
    "## Make regressor and prediction using the train set"
   ]
  },
  {
   "cell_type": "code",
   "execution_count": 44,
   "metadata": {},
   "outputs": [],
   "source": [
    "def regressor_and_predict(df_feat, ground_truth_lat, ground_truth_lng, df_test, trigo):\n",
    "    \n",
    "    \"\"\" train regressor and make prediction in the train set\n",
    "      Input: df_feat: feature matrix used to train regressor\n",
    "             ground_truth_lat: df_feat associated latitude\n",
    "             ground_truth_lng: df_feat associated longitude\n",
    "             df_test: data frame used for prediction\n",
    "      Output: y_pred_lat, y_pred_lng\n",
    "    \"\"\"\n",
    "\n",
    "    X_train = np.array(df_feat);\n",
    "    reg = linear_model.LinearRegression()\n",
    "\n",
    "    if trigo:\n",
    "        ground_truth_tanlat = tan_degree(ground_truth_lat)\n",
    "        ground_truth_lng_r, ground_truth_lng_i = deg_to_complex(ground_truth_lng)\n",
    "        ground_truth = np.c_[ground_truth_tanlat, ground_truth_lng_r, ground_truth_lng_i]\n",
    "        reg.fit(X_train, ground_truth);\n",
    "        y_pred = reg.predict(df_test) \n",
    "        return arctan_degree(y_pred[:,0]), complex_to_deg(y_pred[:,1:]), reg\n",
    "\n",
    "    else:\n",
    "        ground_truth = np.c_[ground_truth_lat, ground_truth_lng]\n",
    "        reg.fit(X_train, ground_truth);\n",
    "        y_pred = reg.predict(df_test) \n",
    "        return y_pred[:,0], y_pred[:,1], reg"
   ]
  },
  {
   "cell_type": "code",
   "execution_count": 45,
   "metadata": {},
   "outputs": [],
   "source": [
    "y_pred_lat, y_pred_lng, reg = regressor_and_predict(df_feat, \n",
    "                                        ground_truth_lat, ground_truth_lng, df_feat, False)"
   ]
  },
  {
   "cell_type": "code",
   "execution_count": 46,
   "metadata": {},
   "outputs": [
    {
     "data": {
      "text/plain": [
       "(array([[ 5.35504544e-01, -3.60093537e-01,  2.10478635e-01,\n",
       "          5.17975071e-03,  2.74089989e-03,  2.10478635e-01,\n",
       "          5.17975071e-03, -9.66475152e-06,  1.55149025e-02,\n",
       "         -6.33652075e-01,  1.43218437e-05,  1.69820756e-01,\n",
       "          1.98296842e-01, -4.28782261e-05, -6.52563816e-02,\n",
       "          1.81884824e-01,  1.45049272e-06],\n",
       "        [-4.10424098e-01,  2.76569547e-01, -1.62260148e-01,\n",
       "         -4.33762926e-02, -2.08488497e-03, -1.62260148e-01,\n",
       "         -4.33762926e-02,  1.13979249e-05,  1.15420643e-01,\n",
       "          1.02455233e+00, -2.26075533e-05, -5.69262512e-02,\n",
       "         -2.38453443e-01,  4.86863766e-05,  1.45915297e-01,\n",
       "          2.17937183e-01, -9.14490326e-07]]),\n",
       " array([-19.06557528, -59.88579846]))"
      ]
     },
     "execution_count": 46,
     "metadata": {},
     "output_type": "execute_result"
    }
   ],
   "source": [
    "reg.coef_, reg.intercept_"
   ]
  },
  {
   "cell_type": "markdown",
   "metadata": {},
   "source": [
    "## Cross validation"
   ]
  },
  {
   "cell_type": "code",
   "execution_count": 47,
   "metadata": {},
   "outputs": [],
   "source": [
    "def cross_val_fit_predict(df_feat, ground_truth_lat, ground_truth_lng, trigo):\n",
    "    reg = linear_model.LinearRegression()\n",
    "    \n",
    "    if trigo:\n",
    "        ground_truth_lng_r, ground_truth_lng_i = deg_to_complex(ground_truth_lng)\n",
    "        ground_truth = np.c_[tan_degree(ground_truth_lat), ground_truth_lng_r, ground_truth_lng_i]\n",
    "\n",
    "        y_pred = model_selection.cross_val_predict(reg, df_feat, ground_truth, cv=5)\n",
    "\n",
    "        return arctan_degree(y_pred[:,0]), complex_to_deg(y_pred[:,1:]), reg\n",
    "\n",
    "    else:\n",
    "        ground_truth = np.c_[ground_truth_lat, ground_truth_lng]\n",
    "\n",
    "        y_pred = model_selection.cross_val_predict(reg, df_feat, ground_truth, cv=5)\n",
    "\n",
    "        return y_pred[:,0], y_pred[:,1]"
   ]
  },
  {
   "cell_type": "code",
   "execution_count": 48,
   "metadata": {},
   "outputs": [],
   "source": [
    "#y_pred_lat, y_pred_lng = cross_val_fit_predict(df_feat, \n",
    "# ground_truth_lat, ground_truth_lng, True)\n",
    "\n",
    "y_pred_lat, y_pred_lng = cross_val_fit_predict(df_feat, \n",
    "                                    ground_truth_lat, ground_truth_lng, False)"
   ]
  },
  {
   "cell_type": "markdown",
   "metadata": {},
   "source": [
    "## Evaluate result"
   ]
  },
  {
   "cell_type": "code",
   "execution_count": 49,
   "metadata": {},
   "outputs": [],
   "source": [
    "def vincenty_vec(vec_coord):\n",
    "    \"\"\" Now using geodesic distance instead of Vincenty \"\"\"\n",
    "    vin_vec_dist = np.zeros(vec_coord.shape[0])\n",
    "    if vec_coord.shape[1] != 4:\n",
    "        print('ERROR: Bad number of columns (shall be = 4)')\n",
    "    else:\n",
    "        vin_vec_dist = [geodesic(v[0:2], v[2:]).meters for v in vec_coord]\n",
    "\n",
    "    return vin_vec_dist"
   ]
  },
  {
   "cell_type": "code",
   "execution_count": 50,
   "metadata": {},
   "outputs": [],
   "source": [
    "# evaluate distance error for each predicted point\n",
    "def eval_geoloc(y_train_lat , y_train_lng, y_pred_lat, y_pred_lng):\n",
    "    vec_coord = np.array([y_train_lat , y_train_lng, y_pred_lat, y_pred_lng])\n",
    "    err_vec = vincenty_vec(np.transpose(vec_coord))\n",
    "    \n",
    "    return err_vec"
   ]
  },
  {
   "cell_type": "markdown",
   "metadata": {},
   "source": [
    "## Plot error distribution"
   ]
  },
  {
   "cell_type": "code",
   "execution_count": 51,
   "metadata": {},
   "outputs": [],
   "source": [
    "def plotError(err_vec):\n",
    "    \n",
    "    err80 = np.percentile(err_vec, 80)\n",
    "    \n",
    "    print(f\"error @ 80% = {err80:.1f} m\")\n",
    "    \n",
    "    values, base = np.histogram(err_vec, bins=50000)\n",
    "    cumulative = np.cumsum(values) \n",
    "\n",
    "    plt.figure()\n",
    "    plt.plot(base[:-1]/1000, cumulative / np.float(np.sum(values))  * 100.0,\n",
    "             label=\"Opt LLR\", c='blue')\n",
    "\n",
    "    # plot error @ 80%\n",
    "    plt.axvline(x=err80/1000., ymin=0, ymax=100,\n",
    "                linestyle='dashed', color='red')\n",
    "\n",
    "    plt.xlabel('Distance Error (km)')\n",
    "    plt.ylabel('Cum proba (%)')\n",
    "    plt.axis([0, 30, 0, 100]) \n",
    "\n",
    "    plt.title('Error Cumulative Probability')\n",
    "    plt.legend()\n",
    "\n",
    "    plt.grid()"
   ]
  },
  {
   "cell_type": "code",
   "execution_count": 52,
   "metadata": {},
   "outputs": [],
   "source": [
    "err_vec = eval_geoloc(ground_truth_lat, ground_truth_lng, y_pred_lat, y_pred_lng)"
   ]
  },
  {
   "cell_type": "code",
   "execution_count": 53,
   "metadata": {},
   "outputs": [
    {
     "name": "stdout",
     "output_type": "stream",
     "text": [
      "error @ 80% = 8775.6 m\n"
     ]
    },
    {
     "data": {
      "image/png": "[encoded data removed]",
      "text/plain": [
       "<Figure size 432x288 with 1 Axes>"
      ]
     },
     "metadata": {
      "needs_background": "light"
     },
     "output_type": "display_data"
    }
   ],
   "source": [
    "plotError(err_vec)"
   ]
  },
  {
   "cell_type": "markdown",
   "metadata": {},
   "source": [
    "### Analysis\n",
    "\n",
    "##### Mean square error"
   ]
  },
  {
   "cell_type": "code",
   "execution_count": 54,
   "metadata": {},
   "outputs": [
    {
     "data": {
      "text/plain": [
       "(0.03921544888264201, 0.023439477503556655)"
      ]
     },
     "execution_count": 54,
     "metadata": {},
     "output_type": "execute_result"
    }
   ],
   "source": [
    "metrics.mean_squared_error(ground_truth_lat, y_pred_lat), \\\n",
    "metrics.mean_squared_error(ground_truth_lng, y_pred_lng)"
   ]
  },
  {
   "cell_type": "code",
   "execution_count": 55,
   "metadata": {},
   "outputs": [
    {
     "data": {
      "image/png": "[encoded data removed]",
      "text/plain": [
       "<Figure size 1080x648 with 2 Axes>"
      ]
     },
     "metadata": {
      "needs_background": "light"
     },
     "output_type": "display_data"
    }
   ],
   "source": [
    "fig, axes = plt.subplots(2, 1, figsize=(15, 9))\n",
    "latBins = np.arange(34, 45, 0.02) #range(-91, 92)\n",
    "axes[0].hist(ground_truth_lat, label='ref', bins=latBins, density=True)\n",
    "axes[0].hist(y_pred_lat, label='pred', alpha=0.7, bins=latBins, density=True)\n",
    "axes[0].set_title('Latitude histo')\n",
    "axes[0].legend()\n",
    "axes[0].grid()\n",
    "lngBins = np.arange(-110, -100, 0.02) #range(-181, 182)\n",
    "axes[1].hist(ground_truth_lng, label='ref', bins=lngBins, density=True)\n",
    "axes[1].hist(y_pred_lng, label='pred', alpha=0.7, bins=lngBins, density=True)\n",
    "axes[1].set_title('Longitude histo')\n",
    "axes[1].legend()\n",
    "axes[1].grid()"
   ]
  },
  {
   "cell_type": "markdown",
   "metadata": {},
   "source": [
    "## Study implausible outliers\n",
    "\n",
    "May happened when regressing on latitude and longitude angles:\n",
    "- Latitude lower than -90 degrees or greater than 90 degrees\n",
    "- Longitude lower than -180 degrees or greater than 180 degrees (which is an indicator more than an issue since we could wrap these longitudes)"
   ]
  },
  {
   "cell_type": "code",
   "execution_count": 56,
   "metadata": {},
   "outputs": [
    {
     "data": {
      "text/plain": [
       "(0, 0, 0, 0)"
      ]
     },
     "execution_count": 56,
     "metadata": {},
     "output_type": "execute_result"
    }
   ],
   "source": [
    "(y_pred_lat < -85).sum(), (y_pred_lng < -180).sum(), (y_pred_lat > 85).sum(), (y_pred_lng > 180).sum()"
   ]
  },
  {
   "cell_type": "code",
   "execution_count": 57,
   "metadata": {},
   "outputs": [
    {
     "data": {
      "text/plain": [
       "(1.0, 0.03921544888264201)"
      ]
     },
     "execution_count": 57,
     "metadata": {},
     "output_type": "execute_result"
    }
   ],
   "source": [
    "plausible_lat = (y_pred_lat > -80) & (y_pred_lat < 80)\n",
    "has_implausible_lat = (plausible_lat.sum() != len(plausible_lat))\n",
    "(plausible_lat.mean(),\n",
    "metrics.mean_squared_error(ground_truth_lat[plausible_lat], y_pred_lat[plausible_lat]))"
   ]
  },
  {
   "cell_type": "code",
   "execution_count": 58,
   "metadata": {},
   "outputs": [],
   "source": [
    "if has_implausible_lat:\n",
    "    plt.scatter(ground_truth_lng[~plausible_lat], ground_truth_lat[~plausible_lat])\n",
    "    plt.scatter(y_pred_lng[~plausible_lat], y_pred_lat[~plausible_lat])"
   ]
  },
  {
   "cell_type": "code",
   "execution_count": 59,
   "metadata": {},
   "outputs": [],
   "source": [
    "if has_implausible_lat:\n",
    "    firstInplausible = list(plausible_lat).index(False)\n",
    "    firstInplausible, y_pred_lat[firstInplausible], y_pred_lng[firstInplausible]"
   ]
  },
  {
   "cell_type": "code",
   "execution_count": 60,
   "metadata": {},
   "outputs": [],
   "source": [
    "if has_implausible_lat:\n",
    "    df4 = df_feat.iloc[firstInplausible]\n",
    "    firstImplausibleMessid = df4.name\n",
    "    df4 = df4.unstack()\n",
    "    df4[df4['active'] == 1]"
   ]
  },
  {
   "cell_type": "code",
   "execution_count": 61,
   "metadata": {},
   "outputs": [
    {
     "data": {
      "text/plain": [
       "(1.0, 0.023439477503556655)"
      ]
     },
     "execution_count": 61,
     "metadata": {},
     "output_type": "execute_result"
    }
   ],
   "source": [
    "plausible_lng = (y_pred_lng > -180) & (y_pred_lng < 180)\n",
    "\n",
    "(plausible_lng.mean(),\n",
    "metrics.mean_squared_error(ground_truth_lng[plausible_lng], y_pred_lng[plausible_lng]) )"
   ]
  },
  {
   "cell_type": "code",
   "execution_count": 62,
   "metadata": {},
   "outputs": [
    {
     "data": {
      "text/plain": [
       "(0, 6068)"
      ]
     },
     "execution_count": 62,
     "metadata": {},
     "output_type": "execute_result"
    }
   ],
   "source": [
    "(plausible_lat ^ plausible_lng).sum(), (plausible_lat & plausible_lng).sum() # XOR"
   ]
  },
  {
   "cell_type": "markdown",
   "metadata": {},
   "source": [
    "Outliers are the same on latitude and longitude\n",
    "\n",
    "Let's compute the error without the outliers:"
   ]
  },
  {
   "cell_type": "code",
   "execution_count": 63,
   "metadata": {},
   "outputs": [],
   "source": [
    "if has_implausible_lat:\n",
    "    err_vec_plausible = eval_geoloc(ground_truth_lat[plausible_lat], ground_truth_lng[plausible_lat], \n",
    "                                y_pred_lat[plausible_lat], y_pred_lng[plausible_lat])\n",
    "    plotError(err_vec_plausible)"
   ]
  },
  {
   "cell_type": "markdown",
   "metadata": {},
   "source": [
    "# Deep neural Network"
   ]
  },
  {
   "cell_type": "code",
   "execution_count": 278,
   "metadata": {},
   "outputs": [],
   "source": [
    "from tensorflow.keras import activations, datasets, layers, losses, metrics, models, backend, regularizers\n",
    "import tensorview as tv\n",
    "import tensorflow as tf"
   ]
  },
  {
   "cell_type": "code",
   "execution_count": 279,
   "metadata": {},
   "outputs": [],
   "source": [
    "xtrain, xtest, ytrain, ytest = model_selection.train_test_split(df_feat.values, \n",
    "                                                                np.c_[ground_truth_lat.values, ground_truth_lng.values], \n",
    "                                                                test_size=0.1)"
   ]
  },
  {
   "cell_type": "markdown",
   "metadata": {},
   "source": [
    "Normalize data to get proper network optimization"
   ]
  },
  {
   "cell_type": "code",
   "execution_count": 280,
   "metadata": {},
   "outputs": [],
   "source": [
    "scaleX = preprocessing.StandardScaler()\n",
    "scaleX.fit(xtrain)\n",
    "xtrain = scaleX.transform(xtrain)\n",
    "xtest = scaleX.transform(xtest)\n",
    "\n",
    "scaleY = preprocessing.StandardScaler()\n",
    "scaleY.fit(ytrain)\n",
    "ytrain = scaleY.transform(ytrain)\n",
    "# NO ytest = scaleY.transform(ytest)"
   ]
  },
  {
   "cell_type": "code",
   "execution_count": 281,
   "metadata": {},
   "outputs": [],
   "source": [
    "metricNames = ['Loss']"
   ]
  },
  {
   "cell_type": "code",
   "execution_count": 282,
   "metadata": {},
   "outputs": [
    {
     "name": "stdout",
     "output_type": "stream",
     "text": [
      "Model: \"sequential_5\"\n",
      "_________________________________________________________________\n",
      "Layer (type)                 Output Shape              Param #   \n",
      "=================================================================\n",
      "dense_1 (Dense)              (None, 64)                1472      \n",
      "_________________________________________________________________\n",
      "dropout_10 (Dropout)         (None, 64)                0         \n",
      "_________________________________________________________________\n",
      "dense_2 (Dense)              (None, 32)                2080      \n",
      "_________________________________________________________________\n",
      "dropout_11 (Dropout)         (None, 32)                0         \n",
      "_________________________________________________________________\n",
      "dense_3 (Dense)              (None, 2)                 66        \n",
      "=================================================================\n",
      "Total params: 3,618\n",
      "Trainable params: 3,618\n",
      "Non-trainable params: 0\n",
      "_________________________________________________________________\n"
     ]
    }
   ],
   "source": [
    "model1 = models.Sequential([\n",
    "    layers.Dense(64, name='dense_1', activation=activations.relu, input_shape=[df_feat.shape[1]]),\n",
    "    layers.Dropout(0.01),\n",
    "    layers.Dense(32, name='dense_2', activation=activations.relu),\n",
    "    layers.Dropout(0.01),\n",
    "    layers.Dense(2, name='dense_3', activation=activations.linear),\n",
    "])\n",
    "\n",
    "model1.compile(optimizer='adam',\n",
    "          loss=losses.MeanSquaredError())\n",
    "    \n",
    "model1.summary()"
   ]
  },
  {
   "cell_type": "code",
   "execution_count": 283,
   "metadata": {},
   "outputs": [
    {
     "data": {
      "image/png": "[encoded data removed]",
      "text/plain": [
       "<Figure size 864x576 with 1 Axes>"
      ]
     },
     "metadata": {
      "needs_background": "light"
     },
     "output_type": "display_data"
    }
   ],
   "source": [
    "nEpochs = 128\n",
    "batchSize = 64\n",
    "\n",
    "tvPlot = tv.train.PlotMetricsOnEpoch(metrics_name=metricNames,\n",
    "                                      cell_size=(6,4), columns=2, iter_num=nEpochs, wait_num=1)\n",
    "\n",
    "history1 = model1.fit(xtrain, ytrain,\n",
    "            epochs=nEpochs, batch_size=batchSize, \n",
    "            validation_split=0.1, \n",
    "            verbose=0,\n",
    "            callbacks=[tvPlot]);"
   ]
  },
  {
   "cell_type": "code",
   "execution_count": 284,
   "metadata": {
    "scrolled": true
   },
   "outputs": [
    {
     "data": {
      "image/png": "[encoded data removed]",
      "text/plain": [
       "<Figure size 432x288 with 1 Axes>"
      ]
     },
     "metadata": {
      "needs_background": "light"
     },
     "output_type": "display_data"
    }
   ],
   "source": [
    "weights1 = model1.get_weights()\n",
    "plt.hist(weights1[0].ravel(), bins=30);"
   ]
  },
  {
   "cell_type": "code",
   "execution_count": 285,
   "metadata": {},
   "outputs": [],
   "source": [
    "yEst = model1.predict(xtest)\n",
    "yEst = scaleY.inverse_transform(yEst)"
   ]
  },
  {
   "cell_type": "code",
   "execution_count": 286,
   "metadata": {},
   "outputs": [
    {
     "data": {
      "text/plain": [
       "(<tf.Tensor: id=129537, shape=(), dtype=float32, numpy=0.0017306675>,\n",
       " <tf.Tensor: id=129543, shape=(), dtype=float32, numpy=0.0014081835>)"
      ]
     },
     "execution_count": 286,
     "metadata": {},
     "output_type": "execute_result"
    }
   ],
   "source": [
    "metrics.mean_squared_error(ytest[:,0], yEst[:,0]), \\\n",
    "metrics.mean_squared_error(ytest[:,1], yEst[:,1])"
   ]
  },
  {
   "cell_type": "code",
   "execution_count": 287,
   "metadata": {},
   "outputs": [
    {
     "name": "stdout",
     "output_type": "stream",
     "text": [
      "error @ 80% = 5775.4 m\n"
     ]
    },
    {
     "data": {
      "image/png": "[encoded data removed]",
      "text/plain": [
       "<Figure size 432x288 with 1 Axes>"
      ]
     },
     "metadata": {
      "needs_background": "light"
     },
     "output_type": "display_data"
    }
   ],
   "source": [
    "dnnErr_vec = eval_geoloc(ytest[:,0], ytest[:,1], yEst[:,0].reshape(-1), yEst[:,1].reshape(-1))\n",
    "plotError(dnnErr_vec)"
   ]
  },
  {
   "cell_type": "markdown",
   "metadata": {},
   "source": [
    "# LightGBM"
   ]
  },
  {
   "cell_type": "code",
   "execution_count": 288,
   "metadata": {},
   "outputs": [],
   "source": [
    "xtrain, xtest, ytrain, ytest = model_selection.train_test_split(df_feat.values, \n",
    "                                                                np.c_[ground_truth_lat.values, ground_truth_lng.values], \n",
    "                                                                test_size=0.1)"
   ]
  },
  {
   "cell_type": "code",
   "execution_count": 289,
   "metadata": {},
   "outputs": [],
   "source": [
    "import lightgbm\n",
    "\n",
    "lat_train = lightgbm.Dataset(xtrain, ytrain[:,0])\n",
    "lat_valid = lightgbm.Dataset(xtest, ytest[:,0])\n",
    "    \n",
    "params = {\n",
    "    'boosting_type': 'gbdt',\n",
    "    'objective': 'regression',\n",
    "    'metric': {'l2', 'l1'},\n",
    "    'num_leaves': 31,\n",
    "    'learning_rate': 0.02,\n",
    "    'feature_fraction': 0.9,\n",
    "    'bagging_fraction': 0.8,\n",
    "    'bagging_freq': 5,\n",
    "    'verbose': 0\n",
    "}\n",
    "\n",
    "model_lat = lightgbm.train(params,\n",
    "                       lat_train,\n",
    "                       valid_sets=lat_valid,\n",
    "                       num_boost_round=1000,\n",
    "                       early_stopping_rounds=100,verbose_eval=False) "
   ]
  },
  {
   "cell_type": "code",
   "execution_count": 290,
   "metadata": {},
   "outputs": [],
   "source": [
    "\n",
    "lng_train = lightgbm.Dataset(xtrain, ytrain[:,1])\n",
    "lng_valid = lightgbm.Dataset(xtest, ytest[:,1])\n",
    "    \n",
    "model_lng = lightgbm.train(params,\n",
    "                       lng_train,\n",
    "                       valid_sets=lng_valid,\n",
    "                       num_boost_round=1000,\n",
    "                       early_stopping_rounds=100,verbose_eval=False) "
   ]
  },
  {
   "cell_type": "code",
   "execution_count": 291,
   "metadata": {},
   "outputs": [
    {
     "name": "stdout",
     "output_type": "stream",
     "text": [
      "error @ 80% = 3199.4 m\n"
     ]
    },
    {
     "data": {
      "image/png": "[encoded data removed]",
      "text/plain": [
       "<Figure size 432x288 with 1 Axes>"
      ]
     },
     "metadata": {
      "needs_background": "light"
     },
     "output_type": "display_data"
    }
   ],
   "source": [
    "lat_pred = model_lat.predict(xtest)\n",
    "lng_pred = model_lng.predict(xtest)\n",
    "\n",
    "dnnErr_vec = eval_geoloc(ytest[:,0], ytest[:,1], lat_pred, lng_pred)\n",
    "plotError(dnnErr_vec)"
   ]
  },
  {
   "cell_type": "markdown",
   "metadata": {},
   "source": [
    "## Adding extra values"
   ]
  },
  {
   "cell_type": "code",
   "execution_count": 214,
   "metadata": {},
   "outputs": [],
   "source": [
    "df_mess_train[\"datetime\"]=pd.to_datetime(df_mess_train.time_ux, unit='ms')\n",
    "df_mess_test[\"datetime\"]=pd.to_datetime(df_mess_test.time_ux, unit='ms')"
   ]
  },
  {
   "cell_type": "code",
   "execution_count": 215,
   "metadata": {},
   "outputs": [],
   "source": [
    "humidity = pd.read_csv('humidity.csv')\n",
    "humidity.datetime = pd.to_datetime(humidity.datetime)\n",
    "humidity_denver = humidity[['datetime',\"Denver\"]]\n",
    "humidity_denver.set_index(\"datetime\", inplace=True)\n",
    "temperature = pd.read_csv('temperature.csv')\n",
    "temperature.datetime = pd.to_datetime(temperature.datetime)\n",
    "temp_denver = temperature[['datetime',\"Denver\"]]\n",
    "temp_denver.set_index(\"datetime\", inplace=True)\n",
    "datetime = df_mess_train.datetime\n",
    "datetime.drop_duplicates(inplace=True)\n",
    "city_attributes = pd.read_csv(\"city_attributes.csv\")"
   ]
  },
  {
   "cell_type": "code",
   "execution_count": 216,
   "metadata": {},
   "outputs": [],
   "source": [
    "# Let's begin with Denver only!\n",
    "def interpolate_at(df, new_idxs):\n",
    "    new_idxs = pd.Index(new_idxs)\n",
    "    df = df.reindex(df.index.append(new_idxs).unique())    \n",
    "    df = df.sort_index()\n",
    "    df = df.interpolate()\n",
    "    return df.loc[new_idxs]\n",
    "\n",
    "\n",
    "\n",
    "temp_datetime = interpolate_at(temp_denver, pd.concat([df_mess_train.datetime,df_mess_test.datetime]).unique()).reset_index().rename(columns={\"index\":\"datetime\"})\n",
    "humidity_datetime = interpolate_at(humidity_denver, pd.concat([df_mess_train.datetime,df_mess_test.datetime]).unique()).reset_index().rename(columns={\"index\":\"datetime\"})"
   ]
  },
  {
   "cell_type": "code",
   "execution_count": 217,
   "metadata": {},
   "outputs": [],
   "source": [
    "df_feat_2 = df_feat.reset_index().set_index(\"messid\").join(df_mess_train[[\"messid\", \"datetime\"]].set_index(\"messid\")).drop_duplicates().reset_index().\\\n",
    "merge(temp_datetime, on='datetime').rename(columns={'Denver':\"Temperature\"}).\\\n",
    "merge(humidity_datetime, on='datetime').rename(columns={'Denver':\"Humidity\"}).drop(columns=[\"datetime\"]).set_index(\"messid\")\n"
   ]
  },
  {
   "cell_type": "code",
   "execution_count": 218,
   "metadata": {},
   "outputs": [
    {
     "name": "stderr",
     "output_type": "stream",
     "text": [
      "C:\\Users\\martinez\\AppData\\Local\\Continuum\\anaconda3\\lib\\site-packages\\ipykernel_launcher.py:1: SettingWithCopyWarning: \n",
      "A value is trying to be set on a copy of a slice from a DataFrame.\n",
      "Try using .loc[row_indexer,col_indexer] = value instead\n",
      "\n",
      "See the caveats in the documentation: http://pandas.pydata.org/pandas-docs/stable/user_guide/indexing.html#returning-a-view-versus-a-copy\n",
      "  \"\"\"Entry point for launching an IPython kernel.\n",
      "C:\\Users\\martinez\\AppData\\Local\\Continuum\\anaconda3\\lib\\site-packages\\ipykernel_launcher.py:2: SettingWithCopyWarning: \n",
      "A value is trying to be set on a copy of a slice from a DataFrame.\n",
      "Try using .loc[row_indexer,col_indexer] = value instead\n",
      "\n",
      "See the caveats in the documentation: http://pandas.pydata.org/pandas-docs/stable/user_guide/indexing.html#returning-a-view-versus-a-copy\n",
      "  \n"
     ]
    }
   ],
   "source": [
    "df_feat_2[df_feat_2.pivot_lat>60][\"Temperature\"] = 273.15\n",
    "df_feat_2[df_feat_2.pivot_lat>60][\"Humidity\"] = 0"
   ]
  },
  {
   "cell_type": "code",
   "execution_count": 219,
   "metadata": {},
   "outputs": [
    {
     "data": {
      "text/html": [
       "<div>\n",
       "<style scoped>\n",
       "    .dataframe tbody tr th:only-of-type {\n",
       "        vertical-align: middle;\n",
       "    }\n",
       "\n",
       "    .dataframe tbody tr th {\n",
       "        vertical-align: top;\n",
       "    }\n",
       "\n",
       "    .dataframe thead th {\n",
       "        text-align: right;\n",
       "    }\n",
       "</style>\n",
       "<table border=\"1\" class=\"dataframe\">\n",
       "  <thead>\n",
       "    <tr style=\"text-align: right;\">\n",
       "      <th></th>\n",
       "      <th>level_1</th>\n",
       "      <th>pivot_lat</th>\n",
       "      <th>pivot_lng</th>\n",
       "      <th>bs0_deltalat</th>\n",
       "      <th>bs0_deltalng</th>\n",
       "      <th>bs0_rssi</th>\n",
       "      <th>bs0_nseq</th>\n",
       "      <th>bs1_deltalat</th>\n",
       "      <th>bs1_deltalng</th>\n",
       "      <th>bs1_rssi</th>\n",
       "      <th>...</th>\n",
       "      <th>bs7_deltalat</th>\n",
       "      <th>bs7_deltalng</th>\n",
       "      <th>bs7_rssi</th>\n",
       "      <th>bs7_nseq</th>\n",
       "      <th>bs8_deltalat</th>\n",
       "      <th>bs8_deltalng</th>\n",
       "      <th>bs8_rssi</th>\n",
       "      <th>bs8_nseq</th>\n",
       "      <th>Temperature</th>\n",
       "      <th>Humidity</th>\n",
       "    </tr>\n",
       "    <tr>\n",
       "      <th>messid</th>\n",
       "      <th></th>\n",
       "      <th></th>\n",
       "      <th></th>\n",
       "      <th></th>\n",
       "      <th></th>\n",
       "      <th></th>\n",
       "      <th></th>\n",
       "      <th></th>\n",
       "      <th></th>\n",
       "      <th></th>\n",
       "      <th></th>\n",
       "      <th></th>\n",
       "      <th></th>\n",
       "      <th></th>\n",
       "      <th></th>\n",
       "      <th></th>\n",
       "      <th></th>\n",
       "      <th></th>\n",
       "      <th></th>\n",
       "      <th></th>\n",
       "      <th></th>\n",
       "    </tr>\n",
       "  </thead>\n",
       "  <tbody>\n",
       "    <tr>\n",
       "      <th>573bf1d9864fce1a9af8c5c9</th>\n",
       "      <td>0</td>\n",
       "      <td>39.647945</td>\n",
       "      <td>-104.953803</td>\n",
       "      <td>-0.030151</td>\n",
       "      <td>-0.001114</td>\n",
       "      <td>-121.500000</td>\n",
       "      <td>0.5</td>\n",
       "      <td>-0.030151</td>\n",
       "      <td>-0.001114</td>\n",
       "      <td>-121.500000</td>\n",
       "      <td>...</td>\n",
       "      <td>0.000000</td>\n",
       "      <td>0.000000</td>\n",
       "      <td>-1000.0</td>\n",
       "      <td>-1.0</td>\n",
       "      <td>0.000000</td>\n",
       "      <td>0.000000</td>\n",
       "      <td>-1000.0</td>\n",
       "      <td>-1.0</td>\n",
       "      <td>279.760000</td>\n",
       "      <td>91.000000</td>\n",
       "    </tr>\n",
       "    <tr>\n",
       "      <th>573bf3533e952e19126b256a</th>\n",
       "      <td>0</td>\n",
       "      <td>39.612745</td>\n",
       "      <td>-105.008827</td>\n",
       "      <td>0.000000</td>\n",
       "      <td>0.000000</td>\n",
       "      <td>-134.000000</td>\n",
       "      <td>1.0</td>\n",
       "      <td>0.000000</td>\n",
       "      <td>0.000000</td>\n",
       "      <td>-1000.000000</td>\n",
       "      <td>...</td>\n",
       "      <td>0.000000</td>\n",
       "      <td>0.000000</td>\n",
       "      <td>-1000.0</td>\n",
       "      <td>-1.0</td>\n",
       "      <td>0.000000</td>\n",
       "      <td>0.000000</td>\n",
       "      <td>-1000.0</td>\n",
       "      <td>-1.0</td>\n",
       "      <td>279.750000</td>\n",
       "      <td>89.000000</td>\n",
       "    </tr>\n",
       "    <tr>\n",
       "      <th>573c0cd0f0fe6e735a699b93</th>\n",
       "      <td>0</td>\n",
       "      <td>39.753734</td>\n",
       "      <td>-105.005136</td>\n",
       "      <td>-0.021689</td>\n",
       "      <td>0.031485</td>\n",
       "      <td>-100.000000</td>\n",
       "      <td>2.0</td>\n",
       "      <td>-0.021689</td>\n",
       "      <td>0.031485</td>\n",
       "      <td>-100.000000</td>\n",
       "      <td>...</td>\n",
       "      <td>0.000000</td>\n",
       "      <td>0.000000</td>\n",
       "      <td>-1000.0</td>\n",
       "      <td>-1.0</td>\n",
       "      <td>0.000000</td>\n",
       "      <td>0.000000</td>\n",
       "      <td>-1000.0</td>\n",
       "      <td>-1.0</td>\n",
       "      <td>279.290000</td>\n",
       "      <td>98.444444</td>\n",
       "    </tr>\n",
       "    <tr>\n",
       "      <th>573c1272f0fe6e735a6cb8bd</th>\n",
       "      <td>0</td>\n",
       "      <td>39.614550</td>\n",
       "      <td>-105.030671</td>\n",
       "      <td>0.090337</td>\n",
       "      <td>0.014279</td>\n",
       "      <td>-123.333333</td>\n",
       "      <td>1.0</td>\n",
       "      <td>0.090337</td>\n",
       "      <td>0.014279</td>\n",
       "      <td>-123.333333</td>\n",
       "      <td>...</td>\n",
       "      <td>0.000000</td>\n",
       "      <td>0.000000</td>\n",
       "      <td>-1000.0</td>\n",
       "      <td>-1.0</td>\n",
       "      <td>0.000000</td>\n",
       "      <td>0.000000</td>\n",
       "      <td>-1000.0</td>\n",
       "      <td>-1.0</td>\n",
       "      <td>279.260000</td>\n",
       "      <td>99.222222</td>\n",
       "    </tr>\n",
       "    <tr>\n",
       "      <th>573c8ea8864fce1a9a5fbf7a</th>\n",
       "      <td>0</td>\n",
       "      <td>39.767388</td>\n",
       "      <td>-105.042496</td>\n",
       "      <td>-0.012369</td>\n",
       "      <td>-0.000819</td>\n",
       "      <td>-98.000000</td>\n",
       "      <td>1.0</td>\n",
       "      <td>-0.012369</td>\n",
       "      <td>-0.000819</td>\n",
       "      <td>-98.000000</td>\n",
       "      <td>...</td>\n",
       "      <td>-0.012369</td>\n",
       "      <td>-0.000819</td>\n",
       "      <td>-98.0</td>\n",
       "      <td>1.0</td>\n",
       "      <td>-0.012369</td>\n",
       "      <td>-0.000819</td>\n",
       "      <td>-98.0</td>\n",
       "      <td>1.0</td>\n",
       "      <td>283.207500</td>\n",
       "      <td>64.750000</td>\n",
       "    </tr>\n",
       "    <tr>\n",
       "      <th>...</th>\n",
       "      <td>...</td>\n",
       "      <td>...</td>\n",
       "      <td>...</td>\n",
       "      <td>...</td>\n",
       "      <td>...</td>\n",
       "      <td>...</td>\n",
       "      <td>...</td>\n",
       "      <td>...</td>\n",
       "      <td>...</td>\n",
       "      <td>...</td>\n",
       "      <td>...</td>\n",
       "      <td>...</td>\n",
       "      <td>...</td>\n",
       "      <td>...</td>\n",
       "      <td>...</td>\n",
       "      <td>...</td>\n",
       "      <td>...</td>\n",
       "      <td>...</td>\n",
       "      <td>...</td>\n",
       "      <td>...</td>\n",
       "      <td>...</td>\n",
       "    </tr>\n",
       "    <tr>\n",
       "      <th>5848551912f14360d786ede6</th>\n",
       "      <td>0</td>\n",
       "      <td>39.766546</td>\n",
       "      <td>-104.996990</td>\n",
       "      <td>-0.007150</td>\n",
       "      <td>-0.004425</td>\n",
       "      <td>-117.000000</td>\n",
       "      <td>1.0</td>\n",
       "      <td>-0.007150</td>\n",
       "      <td>-0.004425</td>\n",
       "      <td>-117.000000</td>\n",
       "      <td>...</td>\n",
       "      <td>0.000000</td>\n",
       "      <td>0.000000</td>\n",
       "      <td>-1000.0</td>\n",
       "      <td>-1.0</td>\n",
       "      <td>0.000000</td>\n",
       "      <td>0.000000</td>\n",
       "      <td>-1000.0</td>\n",
       "      <td>-1.0</td>\n",
       "      <td>261.427065</td>\n",
       "      <td>75.750000</td>\n",
       "    </tr>\n",
       "    <tr>\n",
       "      <th>58485a25e541cd0e1329b8d6</th>\n",
       "      <td>0</td>\n",
       "      <td>39.679685</td>\n",
       "      <td>-105.025102</td>\n",
       "      <td>-0.066940</td>\n",
       "      <td>0.016275</td>\n",
       "      <td>-123.000000</td>\n",
       "      <td>1.0</td>\n",
       "      <td>-0.066940</td>\n",
       "      <td>0.016275</td>\n",
       "      <td>-123.000000</td>\n",
       "      <td>...</td>\n",
       "      <td>0.000000</td>\n",
       "      <td>0.000000</td>\n",
       "      <td>-1000.0</td>\n",
       "      <td>-1.0</td>\n",
       "      <td>0.000000</td>\n",
       "      <td>0.000000</td>\n",
       "      <td>-1000.0</td>\n",
       "      <td>-1.0</td>\n",
       "      <td>261.431377</td>\n",
       "      <td>74.500000</td>\n",
       "    </tr>\n",
       "    <tr>\n",
       "      <th>58485bd412f14360d78bebdb</th>\n",
       "      <td>0</td>\n",
       "      <td>39.779881</td>\n",
       "      <td>-105.023202</td>\n",
       "      <td>0.013704</td>\n",
       "      <td>0.004952</td>\n",
       "      <td>-112.333333</td>\n",
       "      <td>1.0</td>\n",
       "      <td>0.013704</td>\n",
       "      <td>0.004952</td>\n",
       "      <td>-112.333333</td>\n",
       "      <td>...</td>\n",
       "      <td>0.000000</td>\n",
       "      <td>0.000000</td>\n",
       "      <td>-1000.0</td>\n",
       "      <td>-1.0</td>\n",
       "      <td>0.000000</td>\n",
       "      <td>0.000000</td>\n",
       "      <td>-1000.0</td>\n",
       "      <td>-1.0</td>\n",
       "      <td>261.435688</td>\n",
       "      <td>73.250000</td>\n",
       "    </tr>\n",
       "    <tr>\n",
       "      <th>5848672e12f14360d7942374</th>\n",
       "      <td>0</td>\n",
       "      <td>39.750627</td>\n",
       "      <td>-105.011348</td>\n",
       "      <td>0.011006</td>\n",
       "      <td>-0.014405</td>\n",
       "      <td>-121.000000</td>\n",
       "      <td>0.0</td>\n",
       "      <td>0.011006</td>\n",
       "      <td>-0.014405</td>\n",
       "      <td>-121.000000</td>\n",
       "      <td>...</td>\n",
       "      <td>0.000000</td>\n",
       "      <td>0.000000</td>\n",
       "      <td>-1000.0</td>\n",
       "      <td>-1.0</td>\n",
       "      <td>0.000000</td>\n",
       "      <td>0.000000</td>\n",
       "      <td>-1000.0</td>\n",
       "      <td>-1.0</td>\n",
       "      <td>261.820000</td>\n",
       "      <td>72.000000</td>\n",
       "    </tr>\n",
       "    <tr>\n",
       "      <th>58487473e541cd0e133cca72</th>\n",
       "      <td>0</td>\n",
       "      <td>39.913858</td>\n",
       "      <td>-105.163405</td>\n",
       "      <td>-0.014986</td>\n",
       "      <td>0.009573</td>\n",
       "      <td>-131.333333</td>\n",
       "      <td>1.0</td>\n",
       "      <td>-0.014986</td>\n",
       "      <td>0.009573</td>\n",
       "      <td>-131.333333</td>\n",
       "      <td>...</td>\n",
       "      <td>0.000000</td>\n",
       "      <td>0.000000</td>\n",
       "      <td>-1000.0</td>\n",
       "      <td>-1.0</td>\n",
       "      <td>0.000000</td>\n",
       "      <td>0.000000</td>\n",
       "      <td>-1000.0</td>\n",
       "      <td>-1.0</td>\n",
       "      <td>261.810000</td>\n",
       "      <td>76.000000</td>\n",
       "    </tr>\n",
       "  </tbody>\n",
       "</table>\n",
       "<p>6068 rows × 41 columns</p>\n",
       "</div>"
      ],
      "text/plain": [
       "                          level_1  pivot_lat   pivot_lng  bs0_deltalat  \\\n",
       "messid                                                                   \n",
       "573bf1d9864fce1a9af8c5c9        0  39.647945 -104.953803     -0.030151   \n",
       "573bf3533e952e19126b256a        0  39.612745 -105.008827      0.000000   \n",
       "573c0cd0f0fe6e735a699b93        0  39.753734 -105.005136     -0.021689   \n",
       "573c1272f0fe6e735a6cb8bd        0  39.614550 -105.030671      0.090337   \n",
       "573c8ea8864fce1a9a5fbf7a        0  39.767388 -105.042496     -0.012369   \n",
       "...                           ...        ...         ...           ...   \n",
       "5848551912f14360d786ede6        0  39.766546 -104.996990     -0.007150   \n",
       "58485a25e541cd0e1329b8d6        0  39.679685 -105.025102     -0.066940   \n",
       "58485bd412f14360d78bebdb        0  39.779881 -105.023202      0.013704   \n",
       "5848672e12f14360d7942374        0  39.750627 -105.011348      0.011006   \n",
       "58487473e541cd0e133cca72        0  39.913858 -105.163405     -0.014986   \n",
       "\n",
       "                          bs0_deltalng    bs0_rssi  bs0_nseq  bs1_deltalat  \\\n",
       "messid                                                                       \n",
       "573bf1d9864fce1a9af8c5c9     -0.001114 -121.500000       0.5     -0.030151   \n",
       "573bf3533e952e19126b256a      0.000000 -134.000000       1.0      0.000000   \n",
       "573c0cd0f0fe6e735a699b93      0.031485 -100.000000       2.0     -0.021689   \n",
       "573c1272f0fe6e735a6cb8bd      0.014279 -123.333333       1.0      0.090337   \n",
       "573c8ea8864fce1a9a5fbf7a     -0.000819  -98.000000       1.0     -0.012369   \n",
       "...                                ...         ...       ...           ...   \n",
       "5848551912f14360d786ede6     -0.004425 -117.000000       1.0     -0.007150   \n",
       "58485a25e541cd0e1329b8d6      0.016275 -123.000000       1.0     -0.066940   \n",
       "58485bd412f14360d78bebdb      0.004952 -112.333333       1.0      0.013704   \n",
       "5848672e12f14360d7942374     -0.014405 -121.000000       0.0      0.011006   \n",
       "58487473e541cd0e133cca72      0.009573 -131.333333       1.0     -0.014986   \n",
       "\n",
       "                          bs1_deltalng     bs1_rssi  ...  bs7_deltalat  \\\n",
       "messid                                               ...                 \n",
       "573bf1d9864fce1a9af8c5c9     -0.001114  -121.500000  ...      0.000000   \n",
       "573bf3533e952e19126b256a      0.000000 -1000.000000  ...      0.000000   \n",
       "573c0cd0f0fe6e735a699b93      0.031485  -100.000000  ...      0.000000   \n",
       "573c1272f0fe6e735a6cb8bd      0.014279  -123.333333  ...      0.000000   \n",
       "573c8ea8864fce1a9a5fbf7a     -0.000819   -98.000000  ...     -0.012369   \n",
       "...                                ...          ...  ...           ...   \n",
       "5848551912f14360d786ede6     -0.004425  -117.000000  ...      0.000000   \n",
       "58485a25e541cd0e1329b8d6      0.016275  -123.000000  ...      0.000000   \n",
       "58485bd412f14360d78bebdb      0.004952  -112.333333  ...      0.000000   \n",
       "5848672e12f14360d7942374     -0.014405  -121.000000  ...      0.000000   \n",
       "58487473e541cd0e133cca72      0.009573  -131.333333  ...      0.000000   \n",
       "\n",
       "                          bs7_deltalng  bs7_rssi  bs7_nseq  bs8_deltalat  \\\n",
       "messid                                                                     \n",
       "573bf1d9864fce1a9af8c5c9      0.000000   -1000.0      -1.0      0.000000   \n",
       "573bf3533e952e19126b256a      0.000000   -1000.0      -1.0      0.000000   \n",
       "573c0cd0f0fe6e735a699b93      0.000000   -1000.0      -1.0      0.000000   \n",
       "573c1272f0fe6e735a6cb8bd      0.000000   -1000.0      -1.0      0.000000   \n",
       "573c8ea8864fce1a9a5fbf7a     -0.000819     -98.0       1.0     -0.012369   \n",
       "...                                ...       ...       ...           ...   \n",
       "5848551912f14360d786ede6      0.000000   -1000.0      -1.0      0.000000   \n",
       "58485a25e541cd0e1329b8d6      0.000000   -1000.0      -1.0      0.000000   \n",
       "58485bd412f14360d78bebdb      0.000000   -1000.0      -1.0      0.000000   \n",
       "5848672e12f14360d7942374      0.000000   -1000.0      -1.0      0.000000   \n",
       "58487473e541cd0e133cca72      0.000000   -1000.0      -1.0      0.000000   \n",
       "\n",
       "                          bs8_deltalng  bs8_rssi  bs8_nseq  Temperature  \\\n",
       "messid                                                                    \n",
       "573bf1d9864fce1a9af8c5c9      0.000000   -1000.0      -1.0   279.760000   \n",
       "573bf3533e952e19126b256a      0.000000   -1000.0      -1.0   279.750000   \n",
       "573c0cd0f0fe6e735a699b93      0.000000   -1000.0      -1.0   279.290000   \n",
       "573c1272f0fe6e735a6cb8bd      0.000000   -1000.0      -1.0   279.260000   \n",
       "573c8ea8864fce1a9a5fbf7a     -0.000819     -98.0       1.0   283.207500   \n",
       "...                                ...       ...       ...          ...   \n",
       "5848551912f14360d786ede6      0.000000   -1000.0      -1.0   261.427065   \n",
       "58485a25e541cd0e1329b8d6      0.000000   -1000.0      -1.0   261.431377   \n",
       "58485bd412f14360d78bebdb      0.000000   -1000.0      -1.0   261.435688   \n",
       "5848672e12f14360d7942374      0.000000   -1000.0      -1.0   261.820000   \n",
       "58487473e541cd0e133cca72      0.000000   -1000.0      -1.0   261.810000   \n",
       "\n",
       "                           Humidity  \n",
       "messid                               \n",
       "573bf1d9864fce1a9af8c5c9  91.000000  \n",
       "573bf3533e952e19126b256a  89.000000  \n",
       "573c0cd0f0fe6e735a699b93  98.444444  \n",
       "573c1272f0fe6e735a6cb8bd  99.222222  \n",
       "573c8ea8864fce1a9a5fbf7a  64.750000  \n",
       "...                             ...  \n",
       "5848551912f14360d786ede6  75.750000  \n",
       "58485a25e541cd0e1329b8d6  74.500000  \n",
       "58485bd412f14360d78bebdb  73.250000  \n",
       "5848672e12f14360d7942374  72.000000  \n",
       "58487473e541cd0e133cca72  76.000000  \n",
       "\n",
       "[6068 rows x 41 columns]"
      ]
     },
     "execution_count": 219,
     "metadata": {},
     "output_type": "execute_result"
    }
   ],
   "source": [
    "df_feat_2"
   ]
  },
  {
   "cell_type": "code",
   "execution_count": 243,
   "metadata": {},
   "outputs": [],
   "source": [
    "xtrain, xtest, ytrain, ytest = model_selection.train_test_split(df_feat_2.values, \n",
    "                                                                np.c_[ground_truth_lat.values, ground_truth_lng.values], \n",
    "                                                                test_size=0.1)"
   ]
  },
  {
   "cell_type": "code",
   "execution_count": 256,
   "metadata": {},
   "outputs": [],
   "source": [
    "import lightgbm\n",
    "\n",
    "lat_train = lightgbm.Dataset(xtrain, ytrain[:,0])\n",
    "lat_valid = lightgbm.Dataset(xtest, ytest[:,0])\n",
    "    \n",
    "params = {\n",
    "    'boosting_type': 'gbdt',\n",
    "    'objective': 'regression',\n",
    "    'metric': {'l2', 'l1'},\n",
    "    'num_leaves': 31,\n",
    "    'learning_rate': 0.05,\n",
    "    'feature_fraction': 0.9,\n",
    "    'bagging_fraction': 0.8,\n",
    "    'bagging_freq': 5,\n",
    "    'verbose': 0\n",
    "}\n",
    "\n",
    "model_lat = lightgbm.train(params,\n",
    "                       lat_train,\n",
    "                       valid_sets=lat_valid,\n",
    "                       num_boost_round=1000,\n",
    "                       early_stopping_rounds=100,verbose_eval=False) "
   ]
  },
  {
   "cell_type": "code",
   "execution_count": 257,
   "metadata": {},
   "outputs": [],
   "source": [
    "\n",
    "lng_train = lightgbm.Dataset(xtrain, ytrain[:,1])\n",
    "lng_valid = lightgbm.Dataset(xtest, ytest[:,1])\n",
    "    \n",
    "model_lng = lightgbm.train(params,\n",
    "                       lng_train,\n",
    "                       valid_sets=lng_valid,\n",
    "                       num_boost_round=1000,\n",
    "                       early_stopping_rounds=100,verbose_eval=False) "
   ]
  },
  {
   "cell_type": "code",
   "execution_count": 258,
   "metadata": {},
   "outputs": [
    {
     "name": "stdout",
     "output_type": "stream",
     "text": [
      "error @ 80% = 3477.8 m\n"
     ]
    },
    {
     "data": {
      "image/png": "[encoded data removed]",
      "text/plain": [
       "<Figure size 432x288 with 1 Axes>"
      ]
     },
     "metadata": {
      "needs_background": "light"
     },
     "output_type": "display_data"
    }
   ],
   "source": [
    "lat_pred = model_lat.predict(xtest)\n",
    "lng_pred = model_lng.predict(xtest)\n",
    "\n",
    "dnnErr_vec = eval_geoloc(ytest[:,0], ytest[:,1], lat_pred, lng_pred)\n",
    "plotError(dnnErr_vec)"
   ]
  },
  {
   "cell_type": "markdown",
   "metadata": {},
   "source": [
    "## Construct test prediction"
   ]
  },
  {
   "cell_type": "code",
   "execution_count": 76,
   "metadata": {},
   "outputs": [
    {
     "data": {
      "text/html": [
       "<div>\n",
       "<style scoped>\n",
       "    .dataframe tbody tr th:only-of-type {\n",
       "        vertical-align: middle;\n",
       "    }\n",
       "\n",
       "    .dataframe tbody tr th {\n",
       "        vertical-align: top;\n",
       "    }\n",
       "\n",
       "    .dataframe thead th {\n",
       "        text-align: right;\n",
       "    }\n",
       "</style>\n",
       "<table border=\"1\" class=\"dataframe\">\n",
       "  <thead>\n",
       "    <tr style=\"text-align: right;\">\n",
       "      <th></th>\n",
       "      <th>messid</th>\n",
       "      <th>bsid</th>\n",
       "      <th>did</th>\n",
       "      <th>nseq</th>\n",
       "      <th>rssi</th>\n",
       "      <th>time_ux</th>\n",
       "      <th>bs_lat</th>\n",
       "      <th>bs_lng</th>\n",
       "    </tr>\n",
       "  </thead>\n",
       "  <tbody>\n",
       "    <tr>\n",
       "      <th>0</th>\n",
       "      <td>573be2503e952e191262c351</td>\n",
       "      <td>3578</td>\n",
       "      <td>116539.0</td>\n",
       "      <td>2.0</td>\n",
       "      <td>-111.0</td>\n",
       "      <td>1.463542e+12</td>\n",
       "      <td>39.728651</td>\n",
       "      <td>-105.163032</td>\n",
       "    </tr>\n",
       "    <tr>\n",
       "      <th>1</th>\n",
       "      <td>573c05f83e952e1912758013</td>\n",
       "      <td>2617</td>\n",
       "      <td>472504.0</td>\n",
       "      <td>0.0</td>\n",
       "      <td>-136.0</td>\n",
       "      <td>1.463551e+12</td>\n",
       "      <td>39.779908</td>\n",
       "      <td>-105.062479</td>\n",
       "    </tr>\n",
       "    <tr>\n",
       "      <th>2</th>\n",
       "      <td>573c05f83e952e1912758013</td>\n",
       "      <td>3556</td>\n",
       "      <td>472504.0</td>\n",
       "      <td>0.0</td>\n",
       "      <td>-127.0</td>\n",
       "      <td>1.463551e+12</td>\n",
       "      <td>39.780658</td>\n",
       "      <td>-105.053676</td>\n",
       "    </tr>\n",
       "    <tr>\n",
       "      <th>3</th>\n",
       "      <td>573c05f83e952e1912758013</td>\n",
       "      <td>3578</td>\n",
       "      <td>472504.0</td>\n",
       "      <td>0.0</td>\n",
       "      <td>-129.0</td>\n",
       "      <td>1.463551e+12</td>\n",
       "      <td>39.728651</td>\n",
       "      <td>-105.163032</td>\n",
       "    </tr>\n",
       "    <tr>\n",
       "      <th>4</th>\n",
       "      <td>573c05f83e952e1912758013</td>\n",
       "      <td>4058</td>\n",
       "      <td>472504.0</td>\n",
       "      <td>0.0</td>\n",
       "      <td>-105.0</td>\n",
       "      <td>1.463551e+12</td>\n",
       "      <td>39.783211</td>\n",
       "      <td>-105.088747</td>\n",
       "    </tr>\n",
       "  </tbody>\n",
       "</table>\n",
       "</div>"
      ],
      "text/plain": [
       "                     messid  bsid       did  nseq   rssi       time_ux  \\\n",
       "0  573be2503e952e191262c351  3578  116539.0   2.0 -111.0  1.463542e+12   \n",
       "1  573c05f83e952e1912758013  2617  472504.0   0.0 -136.0  1.463551e+12   \n",
       "2  573c05f83e952e1912758013  3556  472504.0   0.0 -127.0  1.463551e+12   \n",
       "3  573c05f83e952e1912758013  3578  472504.0   0.0 -129.0  1.463551e+12   \n",
       "4  573c05f83e952e1912758013  4058  472504.0   0.0 -105.0  1.463551e+12   \n",
       "\n",
       "      bs_lat      bs_lng  \n",
       "0  39.728651 -105.163032  \n",
       "1  39.779908 -105.062479  \n",
       "2  39.780658 -105.053676  \n",
       "3  39.728651 -105.163032  \n",
       "4  39.783211 -105.088747  "
      ]
     },
     "execution_count": 76,
     "metadata": {},
     "output_type": "execute_result"
    }
   ],
   "source": [
    "df_mess_test.head()"
   ]
  },
  {
   "cell_type": "code",
   "execution_count": 48,
   "metadata": {},
   "outputs": [
    {
     "data": {
      "text/plain": [
       "((6068, 17), (5294, 14))"
      ]
     },
     "execution_count": 48,
     "metadata": {},
     "output_type": "execute_result"
    }
   ],
   "source": [
    "df_feat_test = feat_mat_const2(df_mess_test, listOfBs)\n",
    "df_feat.shape, df_feat_test.shape"
   ]
  },
  {
   "cell_type": "code",
   "execution_count": 49,
   "metadata": {},
   "outputs": [
    {
     "ename": "ValueError",
     "evalue": "matmul: Input operand 1 has a mismatch in its core dimension 0, with gufunc signature (n?,k),(k,m?)->(n?,m?) (size 17 is different from 14)",
     "output_type": "error",
     "traceback": [
      "\u001b[0;31m---------------------------------------------------------------------------\u001b[0m",
      "\u001b[0;31mValueError\u001b[0m                                Traceback (most recent call last)",
      "\u001b[0;32m<ipython-input-49-6851d9a4c5da>\u001b[0m in \u001b[0;36m<module>\u001b[0;34m\u001b[0m\n\u001b[1;32m      1\u001b[0m y_pred_test_lat, y_pred_test_lng, reg = regressor_and_predict(df_feat, ground_truth_lat, \n\u001b[0;32m----> 2\u001b[0;31m                                                     ground_truth_lng, df_feat_test, False)\n\u001b[0m",
      "\u001b[0;32m<ipython-input-17-679777ddb796>\u001b[0m in \u001b[0;36mregressor_and_predict\u001b[0;34m(df_feat, ground_truth_lat, ground_truth_lng, df_test, trigo)\u001b[0m\n\u001b[1;32m     23\u001b[0m         \u001b[0mground_truth\u001b[0m \u001b[0;34m=\u001b[0m \u001b[0mnp\u001b[0m\u001b[0;34m.\u001b[0m\u001b[0mc_\u001b[0m\u001b[0;34m[\u001b[0m\u001b[0mground_truth_lat\u001b[0m\u001b[0;34m,\u001b[0m \u001b[0mground_truth_lng\u001b[0m\u001b[0;34m]\u001b[0m\u001b[0;34m\u001b[0m\u001b[0;34m\u001b[0m\u001b[0m\n\u001b[1;32m     24\u001b[0m         \u001b[0mreg\u001b[0m\u001b[0;34m.\u001b[0m\u001b[0mfit\u001b[0m\u001b[0;34m(\u001b[0m\u001b[0mX_train\u001b[0m\u001b[0;34m,\u001b[0m \u001b[0mground_truth\u001b[0m\u001b[0;34m)\u001b[0m\u001b[0;34m;\u001b[0m\u001b[0;34m\u001b[0m\u001b[0;34m\u001b[0m\u001b[0m\n\u001b[0;32m---> 25\u001b[0;31m         \u001b[0my_pred\u001b[0m \u001b[0;34m=\u001b[0m \u001b[0mreg\u001b[0m\u001b[0;34m.\u001b[0m\u001b[0mpredict\u001b[0m\u001b[0;34m(\u001b[0m\u001b[0mdf_test\u001b[0m\u001b[0;34m)\u001b[0m\u001b[0;34m\u001b[0m\u001b[0;34m\u001b[0m\u001b[0m\n\u001b[0m\u001b[1;32m     26\u001b[0m         \u001b[0;32mreturn\u001b[0m \u001b[0my_pred\u001b[0m\u001b[0;34m[\u001b[0m\u001b[0;34m:\u001b[0m\u001b[0;34m,\u001b[0m\u001b[0;36m0\u001b[0m\u001b[0;34m]\u001b[0m\u001b[0;34m,\u001b[0m \u001b[0my_pred\u001b[0m\u001b[0;34m[\u001b[0m\u001b[0;34m:\u001b[0m\u001b[0;34m,\u001b[0m\u001b[0;36m1\u001b[0m\u001b[0;34m]\u001b[0m\u001b[0;34m,\u001b[0m \u001b[0mreg\u001b[0m\u001b[0;34m\u001b[0m\u001b[0;34m\u001b[0m\u001b[0m\n",
      "\u001b[0;32m~/Library/miniconda3/lib/python3.7/site-packages/sklearn/linear_model/_base.py\u001b[0m in \u001b[0;36mpredict\u001b[0;34m(self, X)\u001b[0m\n\u001b[1;32m    223\u001b[0m             \u001b[0mReturns\u001b[0m \u001b[0mpredicted\u001b[0m \u001b[0mvalues\u001b[0m\u001b[0;34m.\u001b[0m\u001b[0;34m\u001b[0m\u001b[0;34m\u001b[0m\u001b[0m\n\u001b[1;32m    224\u001b[0m         \"\"\"\n\u001b[0;32m--> 225\u001b[0;31m         \u001b[0;32mreturn\u001b[0m \u001b[0mself\u001b[0m\u001b[0;34m.\u001b[0m\u001b[0m_decision_function\u001b[0m\u001b[0;34m(\u001b[0m\u001b[0mX\u001b[0m\u001b[0;34m)\u001b[0m\u001b[0;34m\u001b[0m\u001b[0;34m\u001b[0m\u001b[0m\n\u001b[0m\u001b[1;32m    226\u001b[0m \u001b[0;34m\u001b[0m\u001b[0m\n\u001b[1;32m    227\u001b[0m     \u001b[0m_preprocess_data\u001b[0m \u001b[0;34m=\u001b[0m \u001b[0mstaticmethod\u001b[0m\u001b[0;34m(\u001b[0m\u001b[0m_preprocess_data\u001b[0m\u001b[0;34m)\u001b[0m\u001b[0;34m\u001b[0m\u001b[0;34m\u001b[0m\u001b[0m\n",
      "\u001b[0;32m~/Library/miniconda3/lib/python3.7/site-packages/sklearn/linear_model/_base.py\u001b[0m in \u001b[0;36m_decision_function\u001b[0;34m(self, X)\u001b[0m\n\u001b[1;32m    207\u001b[0m         \u001b[0mX\u001b[0m \u001b[0;34m=\u001b[0m \u001b[0mcheck_array\u001b[0m\u001b[0;34m(\u001b[0m\u001b[0mX\u001b[0m\u001b[0;34m,\u001b[0m \u001b[0maccept_sparse\u001b[0m\u001b[0;34m=\u001b[0m\u001b[0;34m[\u001b[0m\u001b[0;34m'csr'\u001b[0m\u001b[0;34m,\u001b[0m \u001b[0;34m'csc'\u001b[0m\u001b[0;34m,\u001b[0m \u001b[0;34m'coo'\u001b[0m\u001b[0;34m]\u001b[0m\u001b[0;34m)\u001b[0m\u001b[0;34m\u001b[0m\u001b[0;34m\u001b[0m\u001b[0m\n\u001b[1;32m    208\u001b[0m         return safe_sparse_dot(X, self.coef_.T,\n\u001b[0;32m--> 209\u001b[0;31m                                dense_output=True) + self.intercept_\n\u001b[0m\u001b[1;32m    210\u001b[0m \u001b[0;34m\u001b[0m\u001b[0m\n\u001b[1;32m    211\u001b[0m     \u001b[0;32mdef\u001b[0m \u001b[0mpredict\u001b[0m\u001b[0;34m(\u001b[0m\u001b[0mself\u001b[0m\u001b[0;34m,\u001b[0m \u001b[0mX\u001b[0m\u001b[0;34m)\u001b[0m\u001b[0;34m:\u001b[0m\u001b[0;34m\u001b[0m\u001b[0;34m\u001b[0m\u001b[0m\n",
      "\u001b[0;32m~/Library/miniconda3/lib/python3.7/site-packages/sklearn/utils/extmath.py\u001b[0m in \u001b[0;36msafe_sparse_dot\u001b[0;34m(a, b, dense_output)\u001b[0m\n\u001b[1;32m    149\u001b[0m             \u001b[0mret\u001b[0m \u001b[0;34m=\u001b[0m \u001b[0mnp\u001b[0m\u001b[0;34m.\u001b[0m\u001b[0mdot\u001b[0m\u001b[0;34m(\u001b[0m\u001b[0ma\u001b[0m\u001b[0;34m,\u001b[0m \u001b[0mb\u001b[0m\u001b[0;34m)\u001b[0m\u001b[0;34m\u001b[0m\u001b[0;34m\u001b[0m\u001b[0m\n\u001b[1;32m    150\u001b[0m     \u001b[0;32melse\u001b[0m\u001b[0;34m:\u001b[0m\u001b[0;34m\u001b[0m\u001b[0;34m\u001b[0m\u001b[0m\n\u001b[0;32m--> 151\u001b[0;31m         \u001b[0mret\u001b[0m \u001b[0;34m=\u001b[0m \u001b[0ma\u001b[0m \u001b[0;34m@\u001b[0m \u001b[0mb\u001b[0m\u001b[0;34m\u001b[0m\u001b[0;34m\u001b[0m\u001b[0m\n\u001b[0m\u001b[1;32m    152\u001b[0m \u001b[0;34m\u001b[0m\u001b[0m\n\u001b[1;32m    153\u001b[0m     if (sparse.issparse(a) and sparse.issparse(b)\n",
      "\u001b[0;31mValueError\u001b[0m: matmul: Input operand 1 has a mismatch in its core dimension 0, with gufunc signature (n?,k),(k,m?)->(n?,m?) (size 17 is different from 14)"
     ]
    }
   ],
   "source": [
    "y_pred_test_lat, y_pred_test_lng, reg = regressor_and_predict(df_feat, ground_truth_lat, \n",
    "                                                    ground_truth_lng, df_feat_test, False)"
   ]
  },
  {
   "cell_type": "code",
   "execution_count": null,
   "metadata": {},
   "outputs": [],
   "source": [
    "test_res = pd.DataFrame(np.array([y_pred_test_lat, y_pred_test_lng]).T, columns = ['lat', 'lng'])\n",
    "test_res = pd.concat([df_mess_test['messid'], test_res], axis=1)"
   ]
  },
  {
   "cell_type": "code",
   "execution_count": null,
   "metadata": {},
   "outputs": [],
   "source": [
    "test_res.head()"
   ]
  },
  {
   "cell_type": "code",
   "execution_count": null,
   "metadata": {},
   "outputs": [],
   "source": [
    "test_res.to_csv('pred_pos_test_list.csv', index=False)"
   ]
  }
 ],
 "metadata": {
  "kernelspec": {
   "display_name": "Python 3",
   "language": "python",
   "name": "python3"
  },
  "language_info": {
   "codemirror_mode": {
    "name": "ipython",
    "version": 3
   },
   "file_extension": ".py",
   "mimetype": "text/x-python",
   "name": "python",
   "nbconvert_exporter": "python",
   "pygments_lexer": "ipython3",
   "version": "3.7.6"
  },
  "latex_envs": {
   "LaTeX_envs_menu_present": true,
   "autoclose": true,
   "autocomplete": false,
   "bibliofile": "biblio.bib",
   "cite_by": "apalike",
   "current_citInitial": 1,
   "eqLabelWithNumbers": true,
   "eqNumInitial": 1,
   "hotkeys": {
    "equation": "Ctrl-E",
    "itemize": "Ctrl-I"
   },
   "labels_anchors": false,
   "latex_user_defs": false,
   "report_style_numbering": false,
   "user_envs_cfg": false
  },
  "toc": {
   "base_numbering": 1,
   "nav_menu": {},
   "number_sections": true,
   "sideBar": true,
   "skip_h1_title": false,
   "title_cell": "Table of Contents",
   "title_sidebar": "Contents",
   "toc_cell": false,
   "toc_position": {},
   "toc_section_display": true,
   "toc_window_display": false
  }
 },
 "nbformat": 4,
 "nbformat_minor": 4
}
