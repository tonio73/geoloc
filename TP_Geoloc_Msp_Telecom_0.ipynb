{
 "cells": [
  {
   "cell_type": "code",
   "execution_count": 65,
   "metadata": {},
   "outputs": [],
   "source": [
    "%matplotlib inline\n",
    "import numpy as np\n",
    "import pandas as pd\n",
    "import matplotlib.pyplot as plt\n",
    "\n",
    "from geopy.distance import geodesic\n",
    "\n",
    "from sklearn import linear_model, model_selection, metrics"
   ]
  },
  {
   "cell_type": "markdown",
   "metadata": {},
   "source": [
    "## Load train and test data"
   ]
  },
  {
   "cell_type": "code",
   "execution_count": 66,
   "metadata": {},
   "outputs": [],
   "source": [
    "# train set\n",
    "df_mess_train = pd.read_csv('mess_train_list.csv')\n",
    "\n",
    "# test set\n",
    "df_mess_test = pd.read_csv('mess_test_list.csv')\n",
    "\n",
    "# position associated to train set\n",
    "pos_train = pd.read_csv('pos_train_list.csv') "
   ]
  },
  {
   "cell_type": "code",
   "execution_count": 67,
   "metadata": {},
   "outputs": [
    {
     "data": {
      "text/html": [
       "<div>\n",
       "<style scoped>\n",
       "    .dataframe tbody tr th:only-of-type {\n",
       "        vertical-align: middle;\n",
       "    }\n",
       "\n",
       "    .dataframe tbody tr th {\n",
       "        vertical-align: top;\n",
       "    }\n",
       "\n",
       "    .dataframe thead th {\n",
       "        text-align: right;\n",
       "    }\n",
       "</style>\n",
       "<table border=\"1\" class=\"dataframe\">\n",
       "  <thead>\n",
       "    <tr style=\"text-align: right;\">\n",
       "      <th></th>\n",
       "      <th>messid</th>\n",
       "      <th>bsid</th>\n",
       "      <th>did</th>\n",
       "      <th>nseq</th>\n",
       "      <th>rssi</th>\n",
       "      <th>time_ux</th>\n",
       "      <th>bs_lat</th>\n",
       "      <th>bs_lng</th>\n",
       "    </tr>\n",
       "  </thead>\n",
       "  <tbody>\n",
       "    <tr>\n",
       "      <th>0</th>\n",
       "      <td>573bf1d9864fce1a9af8c5c9</td>\n",
       "      <td>2841</td>\n",
       "      <td>473335.0</td>\n",
       "      <td>0.5</td>\n",
       "      <td>-121.5</td>\n",
       "      <td>1.463546e+12</td>\n",
       "      <td>39.617794</td>\n",
       "      <td>-104.954917</td>\n",
       "    </tr>\n",
       "    <tr>\n",
       "      <th>1</th>\n",
       "      <td>573bf1d9864fce1a9af8c5c9</td>\n",
       "      <td>3526</td>\n",
       "      <td>473335.0</td>\n",
       "      <td>2.0</td>\n",
       "      <td>-125.0</td>\n",
       "      <td>1.463546e+12</td>\n",
       "      <td>39.677251</td>\n",
       "      <td>-104.952721</td>\n",
       "    </tr>\n",
       "    <tr>\n",
       "      <th>2</th>\n",
       "      <td>573bf3533e952e19126b256a</td>\n",
       "      <td>2605</td>\n",
       "      <td>473335.0</td>\n",
       "      <td>1.0</td>\n",
       "      <td>-134.0</td>\n",
       "      <td>1.463547e+12</td>\n",
       "      <td>39.612745</td>\n",
       "      <td>-105.008827</td>\n",
       "    </tr>\n",
       "    <tr>\n",
       "      <th>3</th>\n",
       "      <td>573c0cd0f0fe6e735a699b93</td>\n",
       "      <td>2610</td>\n",
       "      <td>473953.0</td>\n",
       "      <td>2.0</td>\n",
       "      <td>-132.0</td>\n",
       "      <td>1.463553e+12</td>\n",
       "      <td>39.797969</td>\n",
       "      <td>-105.073460</td>\n",
       "    </tr>\n",
       "    <tr>\n",
       "      <th>4</th>\n",
       "      <td>573c0cd0f0fe6e735a699b93</td>\n",
       "      <td>3574</td>\n",
       "      <td>473953.0</td>\n",
       "      <td>1.0</td>\n",
       "      <td>-120.0</td>\n",
       "      <td>1.463553e+12</td>\n",
       "      <td>39.723151</td>\n",
       "      <td>-104.956216</td>\n",
       "    </tr>\n",
       "  </tbody>\n",
       "</table>\n",
       "</div>"
      ],
      "text/plain": [
       "                     messid  bsid       did  nseq   rssi       time_ux  \\\n",
       "0  573bf1d9864fce1a9af8c5c9  2841  473335.0   0.5 -121.5  1.463546e+12   \n",
       "1  573bf1d9864fce1a9af8c5c9  3526  473335.0   2.0 -125.0  1.463546e+12   \n",
       "2  573bf3533e952e19126b256a  2605  473335.0   1.0 -134.0  1.463547e+12   \n",
       "3  573c0cd0f0fe6e735a699b93  2610  473953.0   2.0 -132.0  1.463553e+12   \n",
       "4  573c0cd0f0fe6e735a699b93  3574  473953.0   1.0 -120.0  1.463553e+12   \n",
       "\n",
       "      bs_lat      bs_lng  \n",
       "0  39.617794 -104.954917  \n",
       "1  39.677251 -104.952721  \n",
       "2  39.612745 -105.008827  \n",
       "3  39.797969 -105.073460  \n",
       "4  39.723151 -104.956216  "
      ]
     },
     "execution_count": 67,
     "metadata": {},
     "output_type": "execute_result"
    }
   ],
   "source": [
    "df_mess_train.head()"
   ]
  },
  {
   "cell_type": "code",
   "execution_count": 68,
   "metadata": {},
   "outputs": [
    {
     "name": "stdout",
     "output_type": "stream",
     "text": [
      "(39250, 8)\n"
     ]
    },
    {
     "data": {
      "text/html": [
       "<div>\n",
       "<style scoped>\n",
       "    .dataframe tbody tr th:only-of-type {\n",
       "        vertical-align: middle;\n",
       "    }\n",
       "\n",
       "    .dataframe tbody tr th {\n",
       "        vertical-align: top;\n",
       "    }\n",
       "\n",
       "    .dataframe thead th {\n",
       "        text-align: right;\n",
       "    }\n",
       "</style>\n",
       "<table border=\"1\" class=\"dataframe\">\n",
       "  <thead>\n",
       "    <tr style=\"text-align: right;\">\n",
       "      <th></th>\n",
       "      <th>bsid</th>\n",
       "      <th>did</th>\n",
       "      <th>nseq</th>\n",
       "      <th>rssi</th>\n",
       "      <th>time_ux</th>\n",
       "      <th>bs_lat</th>\n",
       "      <th>bs_lng</th>\n",
       "    </tr>\n",
       "  </thead>\n",
       "  <tbody>\n",
       "    <tr>\n",
       "      <th>count</th>\n",
       "      <td>39250.000000</td>\n",
       "      <td>3.925000e+04</td>\n",
       "      <td>39250.000000</td>\n",
       "      <td>39250.000000</td>\n",
       "      <td>3.925000e+04</td>\n",
       "      <td>39250.000000</td>\n",
       "      <td>39250.000000</td>\n",
       "    </tr>\n",
       "    <tr>\n",
       "      <th>mean</th>\n",
       "      <td>4533.774752</td>\n",
       "      <td>4.835932e+05</td>\n",
       "      <td>1.043541</td>\n",
       "      <td>-125.863580</td>\n",
       "      <td>1.473368e+12</td>\n",
       "      <td>42.554998</td>\n",
       "      <td>-100.969685</td>\n",
       "    </tr>\n",
       "    <tr>\n",
       "      <th>std</th>\n",
       "      <td>2570.495638</td>\n",
       "      <td>9.893140e+04</td>\n",
       "      <td>0.563540</td>\n",
       "      <td>9.226500</td>\n",
       "      <td>5.506910e+09</td>\n",
       "      <td>7.722787</td>\n",
       "      <td>11.522732</td>\n",
       "    </tr>\n",
       "    <tr>\n",
       "      <th>min</th>\n",
       "      <td>879.000000</td>\n",
       "      <td>4.732880e+05</td>\n",
       "      <td>0.000000</td>\n",
       "      <td>-155.000000</td>\n",
       "      <td>1.463546e+12</td>\n",
       "      <td>36.053394</td>\n",
       "      <td>-107.463146</td>\n",
       "    </tr>\n",
       "    <tr>\n",
       "      <th>25%</th>\n",
       "      <td>2790.000000</td>\n",
       "      <td>4.761230e+05</td>\n",
       "      <td>1.000000</td>\n",
       "      <td>-132.500000</td>\n",
       "      <td>1.468410e+12</td>\n",
       "      <td>39.747448</td>\n",
       "      <td>-105.074287</td>\n",
       "    </tr>\n",
       "    <tr>\n",
       "      <th>50%</th>\n",
       "      <td>3559.000000</td>\n",
       "      <td>4.763150e+05</td>\n",
       "      <td>1.000000</td>\n",
       "      <td>-127.333333</td>\n",
       "      <td>1.473444e+12</td>\n",
       "      <td>39.793585</td>\n",
       "      <td>-105.043685</td>\n",
       "    </tr>\n",
       "    <tr>\n",
       "      <th>75%</th>\n",
       "      <td>7456.000000</td>\n",
       "      <td>4.766090e+05</td>\n",
       "      <td>1.500000</td>\n",
       "      <td>-121.000000</td>\n",
       "      <td>1.479118e+12</td>\n",
       "      <td>39.838740</td>\n",
       "      <td>-104.998429</td>\n",
       "    </tr>\n",
       "    <tr>\n",
       "      <th>max</th>\n",
       "      <td>11951.000000</td>\n",
       "      <td>1.747448e+06</td>\n",
       "      <td>2.000000</td>\n",
       "      <td>-64.000000</td>\n",
       "      <td>1.481143e+12</td>\n",
       "      <td>64.300000</td>\n",
       "      <td>-68.500000</td>\n",
       "    </tr>\n",
       "  </tbody>\n",
       "</table>\n",
       "</div>"
      ],
      "text/plain": [
       "               bsid           did          nseq          rssi       time_ux  \\\n",
       "count  39250.000000  3.925000e+04  39250.000000  39250.000000  3.925000e+04   \n",
       "mean    4533.774752  4.835932e+05      1.043541   -125.863580  1.473368e+12   \n",
       "std     2570.495638  9.893140e+04      0.563540      9.226500  5.506910e+09   \n",
       "min      879.000000  4.732880e+05      0.000000   -155.000000  1.463546e+12   \n",
       "25%     2790.000000  4.761230e+05      1.000000   -132.500000  1.468410e+12   \n",
       "50%     3559.000000  4.763150e+05      1.000000   -127.333333  1.473444e+12   \n",
       "75%     7456.000000  4.766090e+05      1.500000   -121.000000  1.479118e+12   \n",
       "max    11951.000000  1.747448e+06      2.000000    -64.000000  1.481143e+12   \n",
       "\n",
       "             bs_lat        bs_lng  \n",
       "count  39250.000000  39250.000000  \n",
       "mean      42.554998   -100.969685  \n",
       "std        7.722787     11.522732  \n",
       "min       36.053394   -107.463146  \n",
       "25%       39.747448   -105.074287  \n",
       "50%       39.793585   -105.043685  \n",
       "75%       39.838740   -104.998429  \n",
       "max       64.300000    -68.500000  "
      ]
     },
     "execution_count": 68,
     "metadata": {},
     "output_type": "execute_result"
    }
   ],
   "source": [
    "print(df_mess_train.shape)\n",
    "df_mess_train.describe()"
   ]
  },
  {
   "cell_type": "code",
   "execution_count": 69,
   "metadata": {},
   "outputs": [
    {
     "data": {
      "text/html": [
       "<div>\n",
       "<style scoped>\n",
       "    .dataframe tbody tr th:only-of-type {\n",
       "        vertical-align: middle;\n",
       "    }\n",
       "\n",
       "    .dataframe tbody tr th {\n",
       "        vertical-align: top;\n",
       "    }\n",
       "\n",
       "    .dataframe thead th {\n",
       "        text-align: right;\n",
       "    }\n",
       "</style>\n",
       "<table border=\"1\" class=\"dataframe\">\n",
       "  <thead>\n",
       "    <tr style=\"text-align: right;\">\n",
       "      <th></th>\n",
       "      <th>lat</th>\n",
       "      <th>lng</th>\n",
       "    </tr>\n",
       "  </thead>\n",
       "  <tbody>\n",
       "    <tr>\n",
       "      <th>0</th>\n",
       "      <td>39.606690</td>\n",
       "      <td>-104.958490</td>\n",
       "    </tr>\n",
       "    <tr>\n",
       "      <th>1</th>\n",
       "      <td>39.606690</td>\n",
       "      <td>-104.958490</td>\n",
       "    </tr>\n",
       "    <tr>\n",
       "      <th>2</th>\n",
       "      <td>39.637741</td>\n",
       "      <td>-104.958554</td>\n",
       "    </tr>\n",
       "    <tr>\n",
       "      <th>3</th>\n",
       "      <td>39.730417</td>\n",
       "      <td>-104.968940</td>\n",
       "    </tr>\n",
       "    <tr>\n",
       "      <th>4</th>\n",
       "      <td>39.730417</td>\n",
       "      <td>-104.968940</td>\n",
       "    </tr>\n",
       "  </tbody>\n",
       "</table>\n",
       "</div>"
      ],
      "text/plain": [
       "         lat         lng\n",
       "0  39.606690 -104.958490\n",
       "1  39.606690 -104.958490\n",
       "2  39.637741 -104.958554\n",
       "3  39.730417 -104.968940\n",
       "4  39.730417 -104.968940"
      ]
     },
     "execution_count": 69,
     "metadata": {},
     "output_type": "execute_result"
    }
   ],
   "source": [
    "pos_train.head()"
   ]
  },
  {
   "cell_type": "code",
   "execution_count": 70,
   "metadata": {},
   "outputs": [
    {
     "data": {
      "text/html": [
       "<div>\n",
       "<style scoped>\n",
       "    .dataframe tbody tr th:only-of-type {\n",
       "        vertical-align: middle;\n",
       "    }\n",
       "\n",
       "    .dataframe tbody tr th {\n",
       "        vertical-align: top;\n",
       "    }\n",
       "\n",
       "    .dataframe thead th {\n",
       "        text-align: right;\n",
       "    }\n",
       "</style>\n",
       "<table border=\"1\" class=\"dataframe\">\n",
       "  <thead>\n",
       "    <tr style=\"text-align: right;\">\n",
       "      <th></th>\n",
       "      <th>lat</th>\n",
       "      <th>lng</th>\n",
       "    </tr>\n",
       "  </thead>\n",
       "  <tbody>\n",
       "    <tr>\n",
       "      <th>count</th>\n",
       "      <td>39250.000000</td>\n",
       "      <td>39250.000000</td>\n",
       "    </tr>\n",
       "    <tr>\n",
       "      <th>mean</th>\n",
       "      <td>39.783333</td>\n",
       "      <td>-105.056343</td>\n",
       "    </tr>\n",
       "    <tr>\n",
       "      <th>std</th>\n",
       "      <td>0.206262</td>\n",
       "      <td>0.162954</td>\n",
       "    </tr>\n",
       "    <tr>\n",
       "      <th>min</th>\n",
       "      <td>35.770683</td>\n",
       "      <td>-107.630679</td>\n",
       "    </tr>\n",
       "    <tr>\n",
       "      <th>25%</th>\n",
       "      <td>39.708599</td>\n",
       "      <td>-105.060463</td>\n",
       "    </tr>\n",
       "    <tr>\n",
       "      <th>50%</th>\n",
       "      <td>39.776882</td>\n",
       "      <td>-105.039440</td>\n",
       "    </tr>\n",
       "    <tr>\n",
       "      <th>75%</th>\n",
       "      <td>39.805279</td>\n",
       "      <td>-105.018730</td>\n",
       "    </tr>\n",
       "    <tr>\n",
       "      <th>max</th>\n",
       "      <td>43.140387</td>\n",
       "      <td>-102.094289</td>\n",
       "    </tr>\n",
       "  </tbody>\n",
       "</table>\n",
       "</div>"
      ],
      "text/plain": [
       "                lat           lng\n",
       "count  39250.000000  39250.000000\n",
       "mean      39.783333   -105.056343\n",
       "std        0.206262      0.162954\n",
       "min       35.770683   -107.630679\n",
       "25%       39.708599   -105.060463\n",
       "50%       39.776882   -105.039440\n",
       "75%       39.805279   -105.018730\n",
       "max       43.140387   -102.094289"
      ]
     },
     "execution_count": 70,
     "metadata": {},
     "output_type": "execute_result"
    }
   ],
   "source": [
    "pos_train.describe()"
   ]
  },
  {
   "cell_type": "markdown",
   "metadata": {},
   "source": [
    "## Prepare data"
   ]
  },
  {
   "cell_type": "code",
   "execution_count": 71,
   "metadata": {},
   "outputs": [
    {
     "name": "stdout",
     "output_type": "stream",
     "text": [
      "Number of stations: 259, test only 8\n"
     ]
    }
   ],
   "source": [
    "# determine all Base stations that received at least 1 message\n",
    "trainBs  = np.unique(df_mess_train['bsid'])\n",
    "testBs   = np.unique(df_mess_test['bsid'])\n",
    "listOfBs = np.union1d(trainBs, testBs) \n",
    "testOnlyBs = np.lib.arraysetops.setdiff1d(testBs, trainBs)\n",
    "\n",
    "print(f\"Number of stations: %d, test only %d\" % (len(listOfBs), len(testOnlyBs)))"
   ]
  },
  {
   "cell_type": "code",
   "execution_count": 72,
   "metadata": {},
   "outputs": [
    {
     "data": {
      "text/plain": [
       "(113,)"
      ]
     },
     "execution_count": 72,
     "metadata": {},
     "output_type": "execute_result"
    }
   ],
   "source": [
    "df_mess_train['did'].unique().shape"
   ]
  },
  {
   "cell_type": "code",
   "execution_count": 73,
   "metadata": {},
   "outputs": [],
   "source": [
    "def tan_degree(x):\n",
    "    \"\"\" Tangent for degree values (latitude) \"\"\"\n",
    "    return np.tan(x * np.pi / 180)\n",
    "\n",
    "def arctan_degree(x):\n",
    "    \"\"\" arc tan to degree \"\"\"\n",
    "    return np.arctan(x) * 180 / np.pi\n",
    "\n",
    "def deg_to_complex(x):\n",
    "    \"\"\" Degree angle to corresponding complex \"\"\"\n",
    "    xx = x * np.pi / 180\n",
    "    return np.cos(xx), np.sin(xx)\n",
    "\n",
    "def complex_to_deg(z):\n",
    "    \"\"\" Complex to degree angle \"\"\"\n",
    "    return np.angle(z[:,0] + 1j*z[:,1], deg=True)"
   ]
  },
  {
   "cell_type": "code",
   "execution_count": 74,
   "metadata": {},
   "outputs": [],
   "source": [
    "def feat_mat_const(df, listOfBs, keepMax=2):\n",
    "    \"\"\" Feature Matrix construction, \n",
    "        Return a two-way table with BS on horizontal axis\n",
    "        Keep at most keepMax BS per message\n",
    "    \"\"\"\n",
    "    \n",
    "    # Keep at max keepMax base-stations per message\n",
    "    df = df.groupby('messid'). \\\n",
    "        apply(lambda x: x.sort_values(['rssi'], ascending=False)). \\\n",
    "        reset_index(drop=True).groupby('messid').head(3)\n",
    "    \n",
    "    # Add active column\n",
    "    df['active'] = 1\n",
    "    \n",
    "    # Add tangent of latitude\n",
    "    df['bs_tanlat'] = tan_degree(df['bs_lat'])\n",
    "    \n",
    "    r,i = deg_to_complex(df['bs_lng'])\n",
    "    df['bs_coslng'] = r\n",
    "    df['bs_sinlng'] = i\n",
    "    \n",
    "    # Add extra rows for Base-stations that are not present in this dataset\n",
    "    usedBs = np.unique(df['bsid'])\n",
    "    missingBs = np.lib.arraysetops.setdiff1d(listOfBs, usedBs)\n",
    "    df2 = pd.DataFrame([['-1', bs, 0, 0, 0, 0, 0, 0, 0, 0, 0, 0] for bs in missingBs], columns=df.columns)\n",
    "    df = df.append(df2)\n",
    "    \n",
    "    #df = df[df['bs_lat'] < 50]\n",
    "    \n",
    "    # Pivot BS to columns\n",
    "    df = df.pivot_table(index='messid', \n",
    "                                    values=['active', 'nseq', 'rssi', 'bs_tanlat', 'bs_coslng', 'bs_sinlng'], \n",
    "                                    columns=['bsid'],\n",
    "                                    fill_value=0)\n",
    "    resDf = df.reorder_levels([1, 0], axis=1).sort_index(level=0, axis=1)\n",
    "    return resDf.drop(['-1'])"
   ]
  },
  {
   "cell_type": "code",
   "execution_count": 171,
   "metadata": {},
   "outputs": [],
   "source": [
    "def feat_mat_const2(df, listOfBs, keepMax=2):\n",
    "    \"\"\" Feature Matrix construction \"\"\"\n",
    "    \n",
    "    aggCols = ['pivot_lat', 'pivot_lng',\n",
    "                'bs0_deltalat', 'bs0_deltalng', 'bs0_rssi', \n",
    "               'bs1_deltalat', 'bs1_deltalng', 'bs1_rssi',\n",
    "               'bs2_deltalat', 'bs1_deltalng', 'bs1_rssi']\n",
    "    \n",
    "    def aggregateBaseStations(groupBy):\n",
    "        \"\"\" From a RSSI sorted DataFrameGroupBy\n",
    "            create a dataframe with the 3 best BS \n",
    "        \"\"\"\n",
    "        bsSet = groupBy.iloc[:3]\n",
    "        w = bsSet['rssi'] / np.sum(bsSet['rssi'])\n",
    "        lat = np.average(bsSet['bs_lat'], weights=w)\n",
    "        lng = bsSet['bs_lng'].mean()\n",
    "        nbs0 = nbs1 = nbs2 = [0, 0, -1e5]\n",
    "        if len(bsSet) > 0:\n",
    "            b = bsSet.iloc[0]\n",
    "            nbs0 = [b['bs_lat'] - lat, b['bs_lng'] - lng, b['rssi']]\n",
    "        if len(bsSet) > 1:\n",
    "            b = bsSet.iloc[1]\n",
    "            nbs1 = [b['bs_lat'] - lat, b['bs_lng'] - lng, b['rssi']]\n",
    "        if len(bsSet) > 2:\n",
    "            b = bsSet.iloc[2]\n",
    "            nbs2 = [b['bs_lat'] - lat, b['bs_lng'] - lng, b['rssi']]\n",
    "                \n",
    "        return pd.DataFrame(np.concatenate([[lat, lng], nbs0, nbs1, nbs2]).reshape(1, 11), \n",
    "                            columns=aggCols)\n",
    "            \n",
    "    \n",
    "    # Keep at max keepMax base-stations per message\n",
    "    df = df.groupby('messid'). \\\n",
    "        apply(lambda x: x.sort_values(['rssi'], ascending=False)). \\\n",
    "        reset_index(drop=True).groupby('messid').apply(aggregateBaseStations)\n",
    "    \n",
    "    return df"
   ]
  },
  {
   "cell_type": "code",
   "execution_count": 76,
   "metadata": {},
   "outputs": [],
   "source": [
    "def ground_truth_const(df_mess_train, pos_train):\n",
    "    \"\"\" Ground truth construction \"\"\"\n",
    "    \n",
    "    df = pd.concat([df_mess_train[['messid']], pos_train], axis=1)\n",
    "    df_mean = df.groupby('messid').mean()\n",
    "\n",
    "    return df_mean['lat'], df_mean['lng']"
   ]
  },
  {
   "cell_type": "code",
   "execution_count": 172,
   "metadata": {
    "scrolled": false
   },
   "outputs": [
    {
     "data": {
      "text/html": [
       "<div>\n",
       "<style scoped>\n",
       "    .dataframe tbody tr th:only-of-type {\n",
       "        vertical-align: middle;\n",
       "    }\n",
       "\n",
       "    .dataframe tbody tr th {\n",
       "        vertical-align: top;\n",
       "    }\n",
       "\n",
       "    .dataframe thead th {\n",
       "        text-align: right;\n",
       "    }\n",
       "</style>\n",
       "<table border=\"1\" class=\"dataframe\">\n",
       "  <thead>\n",
       "    <tr style=\"text-align: right;\">\n",
       "      <th></th>\n",
       "      <th></th>\n",
       "      <th>pivot_lat</th>\n",
       "      <th>pivot_lng</th>\n",
       "      <th>bs0_deltalat</th>\n",
       "      <th>bs0_deltalng</th>\n",
       "      <th>bs0_rssi</th>\n",
       "      <th>bs1_deltalat</th>\n",
       "      <th>bs1_deltalng</th>\n",
       "      <th>bs1_rssi</th>\n",
       "      <th>bs2_deltalat</th>\n",
       "      <th>bs1_deltalng</th>\n",
       "      <th>bs1_rssi</th>\n",
       "    </tr>\n",
       "    <tr>\n",
       "      <th>messid</th>\n",
       "      <th></th>\n",
       "      <th></th>\n",
       "      <th></th>\n",
       "      <th></th>\n",
       "      <th></th>\n",
       "      <th></th>\n",
       "      <th></th>\n",
       "      <th></th>\n",
       "      <th></th>\n",
       "      <th></th>\n",
       "      <th></th>\n",
       "      <th></th>\n",
       "    </tr>\n",
       "  </thead>\n",
       "  <tbody>\n",
       "    <tr>\n",
       "      <th>573bf1d9864fce1a9af8c5c9</th>\n",
       "      <th>0</th>\n",
       "      <td>39.647945</td>\n",
       "      <td>-104.953819</td>\n",
       "      <td>-0.030151</td>\n",
       "      <td>-0.001098</td>\n",
       "      <td>-121.500000</td>\n",
       "      <td>0.029307</td>\n",
       "      <td>0.001098</td>\n",
       "      <td>-125.000000</td>\n",
       "      <td>0.000000</td>\n",
       "      <td>0.000000</td>\n",
       "      <td>-100000.000000</td>\n",
       "    </tr>\n",
       "    <tr>\n",
       "      <th>573bf3533e952e19126b256a</th>\n",
       "      <th>0</th>\n",
       "      <td>39.612745</td>\n",
       "      <td>-105.008827</td>\n",
       "      <td>0.000000</td>\n",
       "      <td>0.000000</td>\n",
       "      <td>-134.000000</td>\n",
       "      <td>0.000000</td>\n",
       "      <td>0.000000</td>\n",
       "      <td>-100000.000000</td>\n",
       "      <td>0.000000</td>\n",
       "      <td>0.000000</td>\n",
       "      <td>-100000.000000</td>\n",
       "    </tr>\n",
       "    <tr>\n",
       "      <th>573c0cd0f0fe6e735a699b93</th>\n",
       "      <th>0</th>\n",
       "      <td>39.753734</td>\n",
       "      <td>-105.001109</td>\n",
       "      <td>-0.021689</td>\n",
       "      <td>0.027458</td>\n",
       "      <td>-100.000000</td>\n",
       "      <td>-0.030584</td>\n",
       "      <td>0.044893</td>\n",
       "      <td>-120.000000</td>\n",
       "      <td>0.044235</td>\n",
       "      <td>-0.072351</td>\n",
       "      <td>-132.000000</td>\n",
       "    </tr>\n",
       "    <tr>\n",
       "      <th>573c1272f0fe6e735a6cb8bd</th>\n",
       "      <th>0</th>\n",
       "      <td>39.656684</td>\n",
       "      <td>-105.022968</td>\n",
       "      <td>0.048203</td>\n",
       "      <td>0.006576</td>\n",
       "      <td>-123.333333</td>\n",
       "      <td>-0.002002</td>\n",
       "      <td>-0.020717</td>\n",
       "      <td>-123.666667</td>\n",
       "      <td>-0.043939</td>\n",
       "      <td>0.014141</td>\n",
       "      <td>-129.666667</td>\n",
       "    </tr>\n",
       "    <tr>\n",
       "      <th>573c8ea8864fce1a9a5fbf7a</th>\n",
       "      <th>0</th>\n",
       "      <td>39.766410</td>\n",
       "      <td>-105.036610</td>\n",
       "      <td>-0.011391</td>\n",
       "      <td>-0.006704</td>\n",
       "      <td>-98.000000</td>\n",
       "      <td>-0.004777</td>\n",
       "      <td>0.010857</td>\n",
       "      <td>-106.666667</td>\n",
       "      <td>0.015054</td>\n",
       "      <td>-0.004153</td>\n",
       "      <td>-108.000000</td>\n",
       "    </tr>\n",
       "  </tbody>\n",
       "</table>\n",
       "</div>"
      ],
      "text/plain": [
       "                            pivot_lat   pivot_lng  bs0_deltalat  bs0_deltalng  \\\n",
       "messid                                                                          \n",
       "573bf1d9864fce1a9af8c5c9 0  39.647945 -104.953819     -0.030151     -0.001098   \n",
       "573bf3533e952e19126b256a 0  39.612745 -105.008827      0.000000      0.000000   \n",
       "573c0cd0f0fe6e735a699b93 0  39.753734 -105.001109     -0.021689      0.027458   \n",
       "573c1272f0fe6e735a6cb8bd 0  39.656684 -105.022968      0.048203      0.006576   \n",
       "573c8ea8864fce1a9a5fbf7a 0  39.766410 -105.036610     -0.011391     -0.006704   \n",
       "\n",
       "                              bs0_rssi  bs1_deltalat  bs1_deltalng  \\\n",
       "messid                                                               \n",
       "573bf1d9864fce1a9af8c5c9 0 -121.500000      0.029307      0.001098   \n",
       "573bf3533e952e19126b256a 0 -134.000000      0.000000      0.000000   \n",
       "573c0cd0f0fe6e735a699b93 0 -100.000000     -0.030584      0.044893   \n",
       "573c1272f0fe6e735a6cb8bd 0 -123.333333     -0.002002     -0.020717   \n",
       "573c8ea8864fce1a9a5fbf7a 0  -98.000000     -0.004777      0.010857   \n",
       "\n",
       "                                 bs1_rssi  bs2_deltalat  bs1_deltalng  \\\n",
       "messid                                                                  \n",
       "573bf1d9864fce1a9af8c5c9 0    -125.000000      0.000000      0.000000   \n",
       "573bf3533e952e19126b256a 0 -100000.000000      0.000000      0.000000   \n",
       "573c0cd0f0fe6e735a699b93 0    -120.000000      0.044235     -0.072351   \n",
       "573c1272f0fe6e735a6cb8bd 0    -123.666667     -0.043939      0.014141   \n",
       "573c8ea8864fce1a9a5fbf7a 0    -106.666667      0.015054     -0.004153   \n",
       "\n",
       "                                 bs1_rssi  \n",
       "messid                                     \n",
       "573bf1d9864fce1a9af8c5c9 0 -100000.000000  \n",
       "573bf3533e952e19126b256a 0 -100000.000000  \n",
       "573c0cd0f0fe6e735a699b93 0    -132.000000  \n",
       "573c1272f0fe6e735a6cb8bd 0    -129.666667  \n",
       "573c8ea8864fce1a9a5fbf7a 0    -108.000000  "
      ]
     },
     "execution_count": 172,
     "metadata": {},
     "output_type": "execute_result"
    }
   ],
   "source": [
    "df_feat = feat_mat_const2(df_mess_train, listOfBs)\n",
    "df_feat.head()"
   ]
  },
  {
   "cell_type": "code",
   "execution_count": 173,
   "metadata": {},
   "outputs": [
    {
     "data": {
      "text/plain": [
       "(6068, 11)"
      ]
     },
     "execution_count": 173,
     "metadata": {},
     "output_type": "execute_result"
    }
   ],
   "source": [
    "df_feat.shape"
   ]
  },
  {
   "cell_type": "code",
   "execution_count": 174,
   "metadata": {},
   "outputs": [
    {
     "data": {
      "text/html": [
       "<div>\n",
       "<style scoped>\n",
       "    .dataframe tbody tr th:only-of-type {\n",
       "        vertical-align: middle;\n",
       "    }\n",
       "\n",
       "    .dataframe tbody tr th {\n",
       "        vertical-align: top;\n",
       "    }\n",
       "\n",
       "    .dataframe thead th {\n",
       "        text-align: right;\n",
       "    }\n",
       "</style>\n",
       "<table border=\"1\" class=\"dataframe\">\n",
       "  <thead>\n",
       "    <tr style=\"text-align: right;\">\n",
       "      <th></th>\n",
       "      <th>messid</th>\n",
       "      <th>bsid</th>\n",
       "      <th>did</th>\n",
       "      <th>nseq</th>\n",
       "      <th>rssi</th>\n",
       "      <th>time_ux</th>\n",
       "      <th>bs_lat</th>\n",
       "      <th>bs_lng</th>\n",
       "    </tr>\n",
       "  </thead>\n",
       "  <tbody>\n",
       "    <tr>\n",
       "      <th>0</th>\n",
       "      <td>573bf1d9864fce1a9af8c5c9</td>\n",
       "      <td>2841</td>\n",
       "      <td>473335.0</td>\n",
       "      <td>0.5</td>\n",
       "      <td>-121.5</td>\n",
       "      <td>1.463546e+12</td>\n",
       "      <td>39.617794</td>\n",
       "      <td>-104.954917</td>\n",
       "    </tr>\n",
       "  </tbody>\n",
       "</table>\n",
       "</div>"
      ],
      "text/plain": [
       "                     messid  bsid       did  nseq   rssi       time_ux  \\\n",
       "0  573bf1d9864fce1a9af8c5c9  2841  473335.0   0.5 -121.5  1.463546e+12   \n",
       "\n",
       "      bs_lat      bs_lng  \n",
       "0  39.617794 -104.954917  "
      ]
     },
     "execution_count": 174,
     "metadata": {},
     "output_type": "execute_result"
    }
   ],
   "source": [
    "df_mess_train.head(1)"
   ]
  },
  {
   "cell_type": "code",
   "execution_count": 175,
   "metadata": {},
   "outputs": [
    {
     "data": {
      "text/plain": [
       "(6068,)"
      ]
     },
     "execution_count": 175,
     "metadata": {},
     "output_type": "execute_result"
    }
   ],
   "source": [
    "ground_truth_lat, ground_truth_lng = ground_truth_const(df_mess_train, pos_train)\n",
    "ground_truth_lat.shape"
   ]
  },
  {
   "cell_type": "markdown",
   "metadata": {
    "collapsed": true
   },
   "source": [
    "## Make regressor and prediction using the train set"
   ]
  },
  {
   "cell_type": "code",
   "execution_count": 176,
   "metadata": {},
   "outputs": [],
   "source": [
    "def regressor_and_predict(df_feat, ground_truth_lat, ground_truth_lng, df_test, trigo):\n",
    "    \n",
    "    \"\"\" train regressor and make prediction in the train set\n",
    "      Input: df_feat: feature matrix used to train regressor\n",
    "             ground_truth_lat: df_feat associated latitude\n",
    "             ground_truth_lng: df_feat associated longitude\n",
    "             df_test: data frame used for prediction\n",
    "      Output: y_pred_lat, y_pred_lng\n",
    "    \"\"\"\n",
    "\n",
    "    X_train = np.array(df_feat);\n",
    "    reg = linear_model.LinearRegression()\n",
    "\n",
    "    if trigo:\n",
    "        ground_truth_tanlat = tan_degree(ground_truth_lat)\n",
    "        ground_truth_lng_r, ground_truth_lng_i = deg_to_complex(ground_truth_lng)\n",
    "        ground_truth = np.c_[ground_truth_tanlat, ground_truth_lng_r, ground_truth_lng_i]\n",
    "        reg.fit(X_train, ground_truth);\n",
    "        y_pred = reg.predict(df_test) \n",
    "        return arctan_degree(y_pred[:,0]), complex_to_deg(y_pred[:,1:]), reg\n",
    "\n",
    "    else:\n",
    "        ground_truth = np.c_[ground_truth_lat, ground_truth_lng]\n",
    "        reg.fit(X_train, ground_truth);\n",
    "        y_pred = reg.predict(df_test) \n",
    "        return y_pred[:,0], y_pred[:,1], reg"
   ]
  },
  {
   "cell_type": "code",
   "execution_count": 177,
   "metadata": {},
   "outputs": [],
   "source": [
    "y_pred_lat, y_pred_lng, reg = regressor_and_predict(df_feat, \n",
    "                                        ground_truth_lat, ground_truth_lng, df_feat, False)"
   ]
  },
  {
   "cell_type": "code",
   "execution_count": 178,
   "metadata": {},
   "outputs": [
    {
     "data": {
      "text/plain": [
       "(array([[ 5.39762009e-01, -3.62529941e-01,  5.92349022e-01,\n",
       "         -2.77489471e-01,  2.48946962e-03, -6.07649159e-02,\n",
       "          1.61289249e-01, -6.09219348e-08,  6.24685280e-03,\n",
       "          1.16200222e-01, -1.26002441e-07],\n",
       "        [-4.15092449e-01,  2.79774101e-01, -4.53182591e-01,\n",
       "          2.11853970e-01, -1.78567432e-03,  2.72679119e-02,\n",
       "         -1.10994500e-01,  8.71318986e-08,  1.20660058e-02,\n",
       "         -1.00859470e-01,  7.93059334e-08]]),\n",
       " array([-19.50725768, -59.34699722]))"
      ]
     },
     "execution_count": 178,
     "metadata": {},
     "output_type": "execute_result"
    }
   ],
   "source": [
    "reg.coef_, reg.intercept_"
   ]
  },
  {
   "cell_type": "markdown",
   "metadata": {
    "collapsed": true
   },
   "source": [
    "## Cross validation"
   ]
  },
  {
   "cell_type": "code",
   "execution_count": 179,
   "metadata": {},
   "outputs": [],
   "source": [
    "def cross_val_fit_predict(df_feat, ground_truth_lat, ground_truth_lng, trigo):\n",
    "    reg = linear_model.LinearRegression()\n",
    "    \n",
    "    if trigo:\n",
    "        ground_truth_lng_r, ground_truth_lng_i = deg_to_complex(ground_truth_lng)\n",
    "        ground_truth = np.c_[tan_degree(ground_truth_lat), ground_truth_lng_r, ground_truth_lng_i]\n",
    "\n",
    "        y_pred = model_selection.cross_val_predict(reg, df_feat, ground_truth, cv=5)\n",
    "\n",
    "        return arctan_degree(y_pred[:,0]), complex_to_deg(y_pred[:,1:]), reg\n",
    "\n",
    "    else:\n",
    "        ground_truth = np.c_[ground_truth_lat, ground_truth_lng]\n",
    "\n",
    "        y_pred = model_selection.cross_val_predict(reg, df_feat, ground_truth, cv=5)\n",
    "\n",
    "        return y_pred[:,0], y_pred[:,1]"
   ]
  },
  {
   "cell_type": "code",
   "execution_count": 180,
   "metadata": {},
   "outputs": [],
   "source": [
    "#y_pred_lat, y_pred_lng = cross_val_fit_predict(df_feat, \n",
    "# ground_truth_lat, ground_truth_lng, True)\n",
    "\n",
    "y_pred_lat, y_pred_lng = cross_val_fit_predict(df_feat, \n",
    "                                    ground_truth_lat, ground_truth_lng, False)"
   ]
  },
  {
   "cell_type": "markdown",
   "metadata": {
    "collapsed": true
   },
   "source": [
    "## Evaluate result"
   ]
  },
  {
   "cell_type": "code",
   "execution_count": 181,
   "metadata": {},
   "outputs": [],
   "source": [
    "def vincenty_vec(vec_coord):\n",
    "    \"\"\" Now using geodesic distance instead of Vincenty \"\"\"\n",
    "    vin_vec_dist = np.zeros(vec_coord.shape[0])\n",
    "    if vec_coord.shape[1] != 4:\n",
    "        print('ERROR: Bad number of columns (shall be = 4)')\n",
    "    else:\n",
    "        vin_vec_dist = [geodesic(v[0:2], v[2:]).meters for v in vec_coord]\n",
    "\n",
    "    return vin_vec_dist"
   ]
  },
  {
   "cell_type": "code",
   "execution_count": 182,
   "metadata": {},
   "outputs": [],
   "source": [
    "# evaluate distance error for each predicted point\n",
    "def eval_geoloc(y_train_lat , y_train_lng, y_pred_lat, y_pred_lng):\n",
    "    vec_coord = np.array([y_train_lat , y_train_lng, y_pred_lat, y_pred_lng])\n",
    "    err_vec = vincenty_vec(np.transpose(vec_coord))\n",
    "    \n",
    "    return err_vec"
   ]
  },
  {
   "cell_type": "markdown",
   "metadata": {
    "collapsed": true
   },
   "source": [
    "## Plot error distribution"
   ]
  },
  {
   "cell_type": "code",
   "execution_count": 183,
   "metadata": {},
   "outputs": [],
   "source": [
    "def plotError(err_vec):\n",
    "    \n",
    "    err80 = np.percentile(err_vec, 80)\n",
    "    \n",
    "    print(f\"error @ 80% = {err80:.1f} m\")\n",
    "    \n",
    "    values, base = np.histogram(err_vec, bins=50000)\n",
    "    cumulative = np.cumsum(values) \n",
    "\n",
    "    plt.figure()\n",
    "    plt.plot(base[:-1]/1000, cumulative / np.float(np.sum(values))  * 100.0,\n",
    "             label=\"Opt LLR\", c='blue')\n",
    "\n",
    "    # plot error @ 80%\n",
    "    plt.axvline(x=err80/1000., ymin=0, ymax=100,\n",
    "                linestyle='dashed', color='red')\n",
    "\n",
    "    plt.xlabel('Distance Error (km)')\n",
    "    plt.ylabel('Cum proba (%)')\n",
    "    plt.axis([0, 30, 0, 100]) \n",
    "\n",
    "    plt.title('Error Cumulative Probability')\n",
    "    plt.legend()\n",
    "\n",
    "    plt.grid()"
   ]
  },
  {
   "cell_type": "code",
   "execution_count": 184,
   "metadata": {},
   "outputs": [],
   "source": [
    "err_vec = eval_geoloc(ground_truth_lat, ground_truth_lng, y_pred_lat, y_pred_lng)"
   ]
  },
  {
   "cell_type": "code",
   "execution_count": 185,
   "metadata": {},
   "outputs": [
    {
     "name": "stdout",
     "output_type": "stream",
     "text": [
      "error @ 80% = 8296.0 m\n"
     ]
    },
    {
     "data": {
      "image/png": "[encoded data removed]",
      "text/plain": [
       "<Figure size 432x288 with 1 Axes>"
      ]
     },
     "metadata": {
      "needs_background": "light"
     },
     "output_type": "display_data"
    }
   ],
   "source": [
    "plotError(err_vec)"
   ]
  },
  {
   "cell_type": "markdown",
   "metadata": {},
   "source": [
    "### Analysis\n",
    "\n",
    "##### Mean square error"
   ]
  },
  {
   "cell_type": "code",
   "execution_count": 186,
   "metadata": {},
   "outputs": [
    {
     "data": {
      "text/plain": [
       "(0.038705421931363615, 0.02347471827595562)"
      ]
     },
     "execution_count": 186,
     "metadata": {},
     "output_type": "execute_result"
    }
   ],
   "source": [
    "metrics.mean_squared_error(ground_truth_lat, y_pred_lat), \\\n",
    "metrics.mean_squared_error(ground_truth_lng, y_pred_lng)"
   ]
  },
  {
   "cell_type": "code",
   "execution_count": 205,
   "metadata": {},
   "outputs": [
    {
     "data": {
      "image/png": "[encoded data removed]",
      "text/plain": [
       "<Figure size 1080x648 with 2 Axes>"
      ]
     },
     "metadata": {
      "needs_background": "light"
     },
     "output_type": "display_data"
    }
   ],
   "source": [
    "fig, axes = plt.subplots(2, 1, figsize=(15, 9))\n",
    "latBins = np.arange(34, 45, 0.02) #range(-91, 92)\n",
    "axes[0].hist(ground_truth_lat, label='ref', bins=latBins, density=True)\n",
    "axes[0].hist(y_pred_lat, label='pred', alpha=0.7, bins=latBins, density=True)\n",
    "axes[0].set_title('Latitude histo')\n",
    "axes[0].legend()\n",
    "axes[0].grid()\n",
    "lngBins = np.arange(-110, -100, 0.02) #range(-181, 182)\n",
    "axes[1].hist(ground_truth_lng, label='ref', bins=lngBins, density=True)\n",
    "axes[1].hist(y_pred_lng, label='pred', alpha=0.7, bins=lngBins, density=True)\n",
    "axes[1].set_title('Longitude histo')\n",
    "axes[1].legend()\n",
    "axes[1].grid()"
   ]
  },
  {
   "cell_type": "markdown",
   "metadata": {},
   "source": [
    "## Study implausible outliers\n",
    "\n",
    "May happened when regressing on latitude and longitude angles:\n",
    "- Latitude lower than -90 degrees or greater than 90 degrees\n",
    "- Longitude lower than -180 degrees or greater than 180 degrees (which is an indicator more than an issue since we could wrap these longitudes)"
   ]
  },
  {
   "cell_type": "code",
   "execution_count": 193,
   "metadata": {},
   "outputs": [
    {
     "data": {
      "text/plain": [
       "(0, 0, 0, 0)"
      ]
     },
     "execution_count": 193,
     "metadata": {},
     "output_type": "execute_result"
    }
   ],
   "source": [
    "(y_pred_lat < -85).sum(), (y_pred_lng < -180).sum(), (y_pred_lat > 85).sum(), (y_pred_lng > 180).sum()"
   ]
  },
  {
   "cell_type": "code",
   "execution_count": 199,
   "metadata": {},
   "outputs": [
    {
     "data": {
      "text/plain": [
       "(1.0, 0.038705421931363615)"
      ]
     },
     "execution_count": 199,
     "metadata": {},
     "output_type": "execute_result"
    }
   ],
   "source": [
    "plausible_lat = (y_pred_lat > -80) & (y_pred_lat < 80)\n",
    "has_implausible_lat = (plausible_lat.sum() != len(plausible_lat))\n",
    "(plausible_lat.mean(),\n",
    "metrics.mean_squared_error(ground_truth_lat[plausible_lat], y_pred_lat[plausible_lat]))"
   ]
  },
  {
   "cell_type": "code",
   "execution_count": 189,
   "metadata": {},
   "outputs": [],
   "source": [
    "if has_implausible_lat:\n",
    "    plt.scatter(ground_truth_lng[~plausible_lat], ground_truth_lat[~plausible_lat])\n",
    "    plt.scatter(y_pred_lng[~plausible_lat], y_pred_lat[~plausible_lat])"
   ]
  },
  {
   "cell_type": "code",
   "execution_count": 190,
   "metadata": {},
   "outputs": [],
   "source": [
    "if has_implausible_lat:\n",
    "    firstInplausible = list(plausible_lat).index(False)\n",
    "    firstInplausible, y_pred_lat[firstInplausible], y_pred_lng[firstInplausible]"
   ]
  },
  {
   "cell_type": "code",
   "execution_count": 191,
   "metadata": {},
   "outputs": [],
   "source": [
    "if has_implausible_lat:\n",
    "    df4 = df_feat.iloc[firstInplausible]\n",
    "    firstImplausibleMessid = df4.name\n",
    "    df4 = df4.unstack()\n",
    "    df4[df4['active'] == 1]"
   ]
  },
  {
   "cell_type": "code",
   "execution_count": 192,
   "metadata": {},
   "outputs": [
    {
     "data": {
      "text/plain": [
       "(1.0, 0.02347471827595562)"
      ]
     },
     "execution_count": 192,
     "metadata": {},
     "output_type": "execute_result"
    }
   ],
   "source": [
    "plausible_lng = (y_pred_lng > -180) & (y_pred_lng < 180)\n",
    "\n",
    "(plausible_lng.mean(),\n",
    "metrics.mean_squared_error(ground_truth_lng[plausible_lng], y_pred_lng[plausible_lng]) )"
   ]
  },
  {
   "cell_type": "code",
   "execution_count": 194,
   "metadata": {},
   "outputs": [
    {
     "data": {
      "text/plain": [
       "(0, 6068)"
      ]
     },
     "execution_count": 194,
     "metadata": {},
     "output_type": "execute_result"
    }
   ],
   "source": [
    "(plausible_lat ^ plausible_lng).sum(), (plausible_lat & plausible_lng).sum() # XOR"
   ]
  },
  {
   "cell_type": "markdown",
   "metadata": {},
   "source": [
    "Outliers are the same on latitude and longitude\n",
    "\n",
    "Let's compute the error without the outliers:"
   ]
  },
  {
   "cell_type": "code",
   "execution_count": 200,
   "metadata": {},
   "outputs": [],
   "source": [
    "if has_implausible_lat:\n",
    "    err_vec_plausible = eval_geoloc(ground_truth_lat[plausible_lat], ground_truth_lng[plausible_lat], \n",
    "                                y_pred_lat[plausible_lat], y_pred_lng[plausible_lat])\n",
    "    plotError(err_vec_plausible)"
   ]
  },
  {
   "cell_type": "markdown",
   "metadata": {
    "collapsed": true
   },
   "source": [
    "## Construct test prediction"
   ]
  },
  {
   "cell_type": "code",
   "execution_count": 196,
   "metadata": {},
   "outputs": [
    {
     "data": {
      "text/html": [
       "<div>\n",
       "<style scoped>\n",
       "    .dataframe tbody tr th:only-of-type {\n",
       "        vertical-align: middle;\n",
       "    }\n",
       "\n",
       "    .dataframe tbody tr th {\n",
       "        vertical-align: top;\n",
       "    }\n",
       "\n",
       "    .dataframe thead th {\n",
       "        text-align: right;\n",
       "    }\n",
       "</style>\n",
       "<table border=\"1\" class=\"dataframe\">\n",
       "  <thead>\n",
       "    <tr style=\"text-align: right;\">\n",
       "      <th></th>\n",
       "      <th>messid</th>\n",
       "      <th>bsid</th>\n",
       "      <th>did</th>\n",
       "      <th>nseq</th>\n",
       "      <th>rssi</th>\n",
       "      <th>time_ux</th>\n",
       "      <th>bs_lat</th>\n",
       "      <th>bs_lng</th>\n",
       "    </tr>\n",
       "  </thead>\n",
       "  <tbody>\n",
       "    <tr>\n",
       "      <th>0</th>\n",
       "      <td>573be2503e952e191262c351</td>\n",
       "      <td>3578</td>\n",
       "      <td>116539.0</td>\n",
       "      <td>2.0</td>\n",
       "      <td>-111.0</td>\n",
       "      <td>1.463542e+12</td>\n",
       "      <td>39.728651</td>\n",
       "      <td>-105.163032</td>\n",
       "    </tr>\n",
       "    <tr>\n",
       "      <th>1</th>\n",
       "      <td>573c05f83e952e1912758013</td>\n",
       "      <td>2617</td>\n",
       "      <td>472504.0</td>\n",
       "      <td>0.0</td>\n",
       "      <td>-136.0</td>\n",
       "      <td>1.463551e+12</td>\n",
       "      <td>39.779908</td>\n",
       "      <td>-105.062479</td>\n",
       "    </tr>\n",
       "    <tr>\n",
       "      <th>2</th>\n",
       "      <td>573c05f83e952e1912758013</td>\n",
       "      <td>3556</td>\n",
       "      <td>472504.0</td>\n",
       "      <td>0.0</td>\n",
       "      <td>-127.0</td>\n",
       "      <td>1.463551e+12</td>\n",
       "      <td>39.780658</td>\n",
       "      <td>-105.053676</td>\n",
       "    </tr>\n",
       "    <tr>\n",
       "      <th>3</th>\n",
       "      <td>573c05f83e952e1912758013</td>\n",
       "      <td>3578</td>\n",
       "      <td>472504.0</td>\n",
       "      <td>0.0</td>\n",
       "      <td>-129.0</td>\n",
       "      <td>1.463551e+12</td>\n",
       "      <td>39.728651</td>\n",
       "      <td>-105.163032</td>\n",
       "    </tr>\n",
       "    <tr>\n",
       "      <th>4</th>\n",
       "      <td>573c05f83e952e1912758013</td>\n",
       "      <td>4058</td>\n",
       "      <td>472504.0</td>\n",
       "      <td>0.0</td>\n",
       "      <td>-105.0</td>\n",
       "      <td>1.463551e+12</td>\n",
       "      <td>39.783211</td>\n",
       "      <td>-105.088747</td>\n",
       "    </tr>\n",
       "  </tbody>\n",
       "</table>\n",
       "</div>"
      ],
      "text/plain": [
       "                     messid  bsid       did  nseq   rssi       time_ux  \\\n",
       "0  573be2503e952e191262c351  3578  116539.0   2.0 -111.0  1.463542e+12   \n",
       "1  573c05f83e952e1912758013  2617  472504.0   0.0 -136.0  1.463551e+12   \n",
       "2  573c05f83e952e1912758013  3556  472504.0   0.0 -127.0  1.463551e+12   \n",
       "3  573c05f83e952e1912758013  3578  472504.0   0.0 -129.0  1.463551e+12   \n",
       "4  573c05f83e952e1912758013  4058  472504.0   0.0 -105.0  1.463551e+12   \n",
       "\n",
       "      bs_lat      bs_lng  \n",
       "0  39.728651 -105.163032  \n",
       "1  39.779908 -105.062479  \n",
       "2  39.780658 -105.053676  \n",
       "3  39.728651 -105.163032  \n",
       "4  39.783211 -105.088747  "
      ]
     },
     "execution_count": 196,
     "metadata": {},
     "output_type": "execute_result"
    }
   ],
   "source": [
    "df_mess_test.head()"
   ]
  },
  {
   "cell_type": "code",
   "execution_count": 197,
   "metadata": {},
   "outputs": [
    {
     "data": {
      "text/plain": [
       "((6068, 11), (5294, 11))"
      ]
     },
     "execution_count": 197,
     "metadata": {},
     "output_type": "execute_result"
    }
   ],
   "source": [
    "df_feat_test = feat_mat_const2(df_mess_test, listOfBs)\n",
    "df_feat.shape, df_feat_test.shape"
   ]
  },
  {
   "cell_type": "code",
   "execution_count": 201,
   "metadata": {},
   "outputs": [],
   "source": [
    "y_pred_test_lat, y_pred_test_lng, reg = regressor_and_predict(df_feat, ground_truth_lat, \n",
    "                                                    ground_truth_lng, df_feat_test, False)"
   ]
  },
  {
   "cell_type": "code",
   "execution_count": 202,
   "metadata": {},
   "outputs": [],
   "source": [
    "test_res = pd.DataFrame(np.array([y_pred_test_lat, y_pred_test_lng]).T, columns = ['lat', 'lng'])\n",
    "test_res = pd.concat([df_mess_test['messid'], test_res], axis=1)"
   ]
  },
  {
   "cell_type": "code",
   "execution_count": 203,
   "metadata": {},
   "outputs": [
    {
     "data": {
      "text/html": [
       "<div>\n",
       "<style scoped>\n",
       "    .dataframe tbody tr th:only-of-type {\n",
       "        vertical-align: middle;\n",
       "    }\n",
       "\n",
       "    .dataframe tbody tr th {\n",
       "        vertical-align: top;\n",
       "    }\n",
       "\n",
       "    .dataframe thead th {\n",
       "        text-align: right;\n",
       "    }\n",
       "</style>\n",
       "<table border=\"1\" class=\"dataframe\">\n",
       "  <thead>\n",
       "    <tr style=\"text-align: right;\">\n",
       "      <th></th>\n",
       "      <th>messid</th>\n",
       "      <th>lat</th>\n",
       "      <th>lng</th>\n",
       "    </tr>\n",
       "  </thead>\n",
       "  <tbody>\n",
       "    <tr>\n",
       "      <th>0</th>\n",
       "      <td>573be2503e952e191262c351</td>\n",
       "      <td>39.803868</td>\n",
       "      <td>-105.078387</td>\n",
       "    </tr>\n",
       "    <tr>\n",
       "      <th>1</th>\n",
       "      <td>573c05f83e952e1912758013</td>\n",
       "      <td>39.803188</td>\n",
       "      <td>-105.074952</td>\n",
       "    </tr>\n",
       "    <tr>\n",
       "      <th>2</th>\n",
       "      <td>573c05f83e952e1912758013</td>\n",
       "      <td>39.679201</td>\n",
       "      <td>-104.981178</td>\n",
       "    </tr>\n",
       "    <tr>\n",
       "      <th>3</th>\n",
       "      <td>573c05f83e952e1912758013</td>\n",
       "      <td>39.794998</td>\n",
       "      <td>-105.071735</td>\n",
       "    </tr>\n",
       "    <tr>\n",
       "      <th>4</th>\n",
       "      <td>573c05f83e952e1912758013</td>\n",
       "      <td>39.675467</td>\n",
       "      <td>-104.978499</td>\n",
       "    </tr>\n",
       "  </tbody>\n",
       "</table>\n",
       "</div>"
      ],
      "text/plain": [
       "                     messid        lat         lng\n",
       "0  573be2503e952e191262c351  39.803868 -105.078387\n",
       "1  573c05f83e952e1912758013  39.803188 -105.074952\n",
       "2  573c05f83e952e1912758013  39.679201 -104.981178\n",
       "3  573c05f83e952e1912758013  39.794998 -105.071735\n",
       "4  573c05f83e952e1912758013  39.675467 -104.978499"
      ]
     },
     "execution_count": 203,
     "metadata": {},
     "output_type": "execute_result"
    }
   ],
   "source": [
    "test_res.head()"
   ]
  },
  {
   "cell_type": "code",
   "execution_count": null,
   "metadata": {},
   "outputs": [],
   "source": [
    "test_res.to_csv('pred_pos_test_list.csv', index=False)"
   ]
  }
 ],
 "metadata": {
  "kernelspec": {
   "display_name": "Python 3",
   "language": "python",
   "name": "python3"
  },
  "language_info": {
   "codemirror_mode": {
    "name": "ipython",
    "version": 3
   },
   "file_extension": ".py",
   "mimetype": "text/x-python",
   "name": "python",
   "nbconvert_exporter": "python",
   "pygments_lexer": "ipython3",
   "version": "3.7.6"
  },
  "latex_envs": {
   "LaTeX_envs_menu_present": true,
   "autoclose": true,
   "autocomplete": false,
   "bibliofile": "biblio.bib",
   "cite_by": "apalike",
   "current_citInitial": 1,
   "eqLabelWithNumbers": true,
   "eqNumInitial": 1,
   "hotkeys": {
    "equation": "Ctrl-E",
    "itemize": "Ctrl-I"
   },
   "labels_anchors": false,
   "latex_user_defs": false,
   "report_style_numbering": false,
   "user_envs_cfg": false
  },
  "toc": {
   "base_numbering": 1,
   "nav_menu": {},
   "number_sections": true,
   "sideBar": true,
   "skip_h1_title": false,
   "title_cell": "Table of Contents",
   "title_sidebar": "Contents",
   "toc_cell": false,
   "toc_position": {},
   "toc_section_display": true,
   "toc_window_display": false
  }
 },
 "nbformat": 4,
 "nbformat_minor": 1
}
